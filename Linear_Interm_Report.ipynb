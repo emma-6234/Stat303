{
 "cells": [
  {
   "cell_type": "raw",
   "id": "b1c13c80",
   "metadata": {},
   "source": [
    "---\n",
    "title: \"Prediction Problem Report\"\n",
    "format: \n",
    "  html:\n",
    "    toc: true\n",
    "    toc-title: Contents\n",
    "    toc-depth: 4\n",
    "    code-fold: show\n",
    "    self-contained: true\n",
    "    html-math-method: mathml \n",
    "jupyter: python3\n",
    "---"
   ]
  },
  {
   "cell_type": "code",
   "execution_count": 1,
   "id": "303ced62",
   "metadata": {},
   "outputs": [],
   "source": [
    "import numpy as np\n",
    "import pandas as pd\n",
    "import matplotlib.pyplot as plt\n",
    "import seaborn as sns\n",
    "import statsmodels.formula.api as smf\n",
    "\n",
    "from sklearn.linear_model import LinearRegression\n",
    "from sklearn.metrics import mean_squared_error, mean_absolute_error\n",
    "from sklearn.preprocessing import StandardScaler\n",
    "from datetime import date, datetime\n",
    "from sklearn.impute import SimpleImputer"
   ]
  },
  {
   "cell_type": "markdown",
   "id": "3b5d4b16",
   "metadata": {},
   "source": [
    "## 1) Exploratory Data Analysis"
   ]
  },
  {
   "cell_type": "markdown",
   "id": "b406c31c",
   "metadata": {},
   "source": [
    "There is one extremely large outlier in the training data (price = \\$99998) that I excluded because it was severly skewing my model. The price column and acceptance rate columns had unnecessary characters so in my cleaning I removed those and converted to numeric values. Along with that, I transformed the date columns to numeric by calculated \"months since\" each respective date. True/False columns were converted to 1/0. There were many values for neighbourhood so I grouped any neighbourhood with less than 200 value counts into 'Other'."
   ]
  },
  {
   "cell_type": "markdown",
   "id": "730eaefd",
   "metadata": {},
   "source": [
    "## 2) Data Cleaning/Preparation"
   ]
  },
  {
   "cell_type": "code",
   "execution_count": 2,
   "id": "73315021",
   "metadata": {},
   "outputs": [],
   "source": [
    "raw_train = pd.read_csv('datasets/train_regression.csv')\n",
    "raw_test = pd.read_csv('datasets/test_regression.csv')"
   ]
  },
  {
   "cell_type": "code",
   "execution_count": 3,
   "id": "efccf837",
   "metadata": {},
   "outputs": [],
   "source": [
    "# Clean and process the data\n",
    "train = raw_train.copy()\n",
    "test = raw_test.copy()\n",
    "\n",
    "\n",
    "# Process and convert price to float\n",
    "train['price'] = train['price'].str.replace(',', '').str.replace('$', '', regex=False).astype(float)\n",
    "\n",
    "\n",
    "# Process acceptance rates\n",
    "train['host_acceptance_rate'] = train['host_acceptance_rate'].str.replace('%', '').astype(float) / 100\n",
    "train['host_response_rate'] = train['host_response_rate'].str.replace('%', '').astype(float) / 100\n",
    "\n",
    "test['host_acceptance_rate'] = test['host_acceptance_rate'].str.replace('%', '').astype(float) / 100\n",
    "test['host_response_rate'] = test['host_response_rate'].str.replace('%', '').astype(float) / 100\n",
    "\n",
    "\n",
    "# Process bathroom column into numeric column\n",
    "train['bathrooms_num'] = train['bathrooms_text'].str.extract('(\\d+)').astype(float)\n",
    "test['bathrooms_num'] = test['bathrooms_text'].str.extract('(\\d+)').astype(float)\n",
    "\n",
    "\n",
    "# Convert date columns\n",
    "train['host_since_years'] = ((datetime.now() - pd.to_datetime(train['host_since'])).dt.days) / 365\n",
    "train['first_review_years'] = ((datetime.now() - pd.to_datetime(train['first_review'])).dt.days) / 365\n",
    "train['last_review_years'] = ((datetime.now() - pd.to_datetime(train['last_review'])).dt.days) / 365\n",
    "test['host_since_years'] = ((datetime.now() - pd.to_datetime(test['host_since'])).dt.days) / 365\n",
    "test['first_review_years'] = (datetime.now() - pd.to_datetime(test['first_review'])).dt.days\n",
    "test['last_review_years'] = ((datetime.now() - pd.to_datetime(test['last_review'])).dt.days) / 365\n",
    "\n",
    "\n",
    "# Convert T/F columns\n",
    "t_f_vars = ['host_is_superhost', 'host_has_profile_pic', 'host_identity_verified', 'has_availability', 'instant_bookable']\n",
    "train[t_f_vars] = train[t_f_vars].replace({'f': 0, 't': 1})\n",
    "test[t_f_vars] = test[t_f_vars].replace({'f': False, 't': True})\n",
    "\n",
    "\n",
    "def is_shared(x):\n",
    "    if str(x) == 'nan':\n",
    "        return False\n",
    "    else:\n",
    "        if 'shared' in x:\n",
    "            return 1\n",
    "        else:\n",
    "            return 0\n",
    "\n",
    "        \n",
    "mega_outlier = train[train['price'] > 5000].index\n",
    "train.drop(mega_outlier, inplace=True)        \n",
    "    \n",
    "    \n",
    "train['bathrooms_shared'] = train['bathrooms_text'].apply(is_shared).astype(int)\n",
    "test['bathrooms_shared'] = test['bathrooms_text'].apply(is_shared).astype(int)\n",
    "\n",
    "\n",
    "train_clean = train.drop(columns=['host_since', 'first_review', 'last_review', \n",
    "                                  'calculated_host_listings_count_entire_homes', 'calculated_host_listings_count_private_rooms', 'calculated_host_listings_count_shared_rooms'])\n",
    "test_clean = test.drop(columns=['host_since', 'first_review', 'last_review', 'calculated_host_listings_count_entire_homes', \n",
    "                                'calculated_host_listings_count_private_rooms', 'calculated_host_listings_count_shared_rooms'])\n"
   ]
  },
  {
   "cell_type": "code",
   "execution_count": 4,
   "id": "d5637f3d",
   "metadata": {},
   "outputs": [],
   "source": [
    "## Neighbourhoods with <200 observations are labeled 'Other'\n",
    "neighbourhood_counts = train_clean['neighbourhood_cleansed'].value_counts()\n",
    "\n",
    "test_only_hoods = [i for i in test_clean['neighbourhood_cleansed'].unique() \n",
    "                   if i not in neighbourhood_counts \n",
    "                   and i != 'Other']\n",
    "    \n",
    "other_hoods = []\n",
    "for i in neighbourhood_counts.index:\n",
    "    if neighbourhood_counts[i] < 200:\n",
    "        other_hoods.append(i)         \n",
    " "
   ]
  },
  {
   "cell_type": "code",
   "execution_count": 5,
   "id": "835e43d1",
   "metadata": {},
   "outputs": [],
   "source": [
    "def clean_hoods(row):\n",
    "    if row.loc['neighbourhood_cleansed'] in other_hoods:\n",
    "        row['neighbourhood_cleansed'] = 'Other'\n",
    "    if row.loc['neighbourhood_cleansed'] in test_only_hoods:\n",
    "        row['neighbourhood_cleansed'] = 'Other'\n",
    "    return row\n",
    "       \n",
    "def clean_rooms(row):    \n",
    "    if row.loc['room_type'] == 'Hotel room' or row.loc['room_type'] == 'Private room':\n",
    "        row['room_type'] = 'Single room'\n",
    "    return row"
   ]
  },
  {
   "cell_type": "code",
   "execution_count": 6,
   "id": "a0f7c43b",
   "metadata": {},
   "outputs": [
    {
     "name": "stdout",
     "output_type": "stream",
     "text": [
      "2    3569\n",
      "3    1089\n",
      "1     341\n",
      "Name: num_verifications, dtype: int64 \n",
      "\n",
      "2    3569\n",
      "3    1089\n",
      "1     341\n",
      "Name: num_verifications, dtype: int64 \n",
      "\n",
      "Entire home/apt    3802\n",
      "Single room        1153\n",
      "Shared room          44\n",
      "Name: room_type, dtype: int64\n"
     ]
    }
   ],
   "source": [
    "# Convert host_verifications \n",
    "train_clean['host_verifications_list'] = train_clean['host_verifications'].apply(lambda x: x.strip(\"[]\").replace(\"'\", \"\").split(', '))\n",
    "test_clean['host_verifications_list'] = test_clean['host_verifications'].apply(lambda x: x.strip(\"[]\").replace(\"'\", \"\").split(', '))\n",
    "\n",
    "# Make a column for number of verifications\n",
    "train_clean['num_verifications']  = train_clean['host_verifications_list'].apply(len)\n",
    "test_clean['num_verifications']  = test_clean['host_verifications_list'].apply(len)\n",
    "\n",
    "# Manually create dummy variable columns for if each verification and any verification in host_verifications_list\n",
    "train_clean['phone_verification']  = train_clean['host_verifications_list'].apply(lambda x: 1 if 'phone' in x else 0)\n",
    "train_clean['email_verification']  = train_clean['host_verifications_list'].apply(lambda x: 1 if 'email' in x else 0)\n",
    "train_clean['work_email_verification'] = train_clean['host_verifications_list'].apply(lambda x: 1 if 'work_email' in x else 0)\n",
    "train_clean['any_email_verification'] = train_clean['host_verifications_list'].apply(lambda x: 1 if 'work_email' in x or 'email' in x else 0)\n",
    "print(train_clean['num_verifications'].value_counts(), '\\n')\n",
    "\n",
    "test_clean['phone_verification']  = test_clean['host_verifications_list'].apply(lambda x: 1 if 'phone' in x else 0)\n",
    "test_clean['email_verification']  = test_clean['host_verifications_list'].apply(lambda x: 1 if 'email' in x else 0)\n",
    "test_clean['work_email_verification'] = test_clean['host_verifications_list'].apply(lambda x: 1 if 'work_email' in x else 0)\n",
    "test_clean['any_email_verification'] = test_clean['host_verifications_list'].apply(lambda x: 1 if 'work_email' in x or 'email' in x else 0)\n",
    "print(train_clean['num_verifications'].value_counts(), '\\n')\n",
    "\n",
    "# Group Hotel_room and Private room because of similarity characteristics and correlation\n",
    "train_clean = train_clean.apply(clean_rooms, axis=1)\n",
    "test_clean = test_clean.apply(clean_rooms, axis=1)\n",
    "print(train_clean['room_type'].value_counts())\n",
    "    \n",
    "# Convert date type columns to numeric (months they have been a host)  \n",
    "train_clean['host_since_months'] = train_clean['host_since_years']*12\n",
    "test_clean['host_since_months'] = test_clean['host_since_years']*12\n",
    "# Create reviews per month column to better standardize number of reviews\n",
    "train_clean['hosts_reviews_per_month'] = train_clean['number_of_reviews']/train_clean['host_since_months']\n",
    "test_clean['hosts_reviews_per_month'] = test_clean['number_of_reviews']/test_clean['host_since_months']    \n",
    "    "
   ]
  },
  {
   "cell_type": "code",
   "execution_count": 7,
   "id": "e160f263",
   "metadata": {
    "scrolled": true
   },
   "outputs": [
    {
     "data": {
      "text/plain": [
       "Other              2672\n",
       "Near North Side     638\n",
       "West Town           483\n",
       "Lake View           355\n",
       "Near West Side      338\n",
       "Logan Square        261\n",
       "Loop                252\n",
       "Name: neighbourhood_cleansed, dtype: int64"
      ]
     },
     "execution_count": 7,
     "metadata": {},
     "output_type": "execute_result"
    }
   ],
   "source": [
    "# Apply clean_hoods to group neighbourhoods with few counts\n",
    "train_clean = train_clean.apply(clean_hoods, axis=1)  \n",
    "test_clean = test_clean.apply(clean_hoods, axis=1)  \n",
    "\n",
    "train_clean['neighbourhood_cleansed'].value_counts()"
   ]
  },
  {
   "cell_type": "markdown",
   "id": "37ddf7f3",
   "metadata": {},
   "source": [
    "### Related Predictors"
   ]
  },
  {
   "cell_type": "code",
   "execution_count": 8,
   "id": "5c36dadf",
   "metadata": {},
   "outputs": [],
   "source": [
    "grab_vars = [name for name in train_clean.columns if 'imum' in name]\n",
    "\n",
    "grab_vars.extend(['calculated_host_listings_count', 'host_identity_verified', 'host_id'])\n",
    "grab_vars.remove('minimum_nights')\n",
    "grab_vars.remove('maximum_nights')\n",
    "\n",
    "\n",
    "train_filter = train_clean.drop(columns=grab_vars)\n",
    "test_filter = test_clean.drop(columns=grab_vars)\n"
   ]
  },
  {
   "cell_type": "markdown",
   "id": "32ec3ec8",
   "metadata": {},
   "source": [
    "### Model Imputation"
   ]
  },
  {
   "cell_type": "code",
   "execution_count": 9,
   "id": "7e210e9d",
   "metadata": {},
   "outputs": [
    {
     "name": "stdout",
     "output_type": "stream",
     "text": [
      "Optimization terminated successfully.\n",
      "         Current function value: 0.564185\n",
      "         Iterations 10\n"
     ]
    }
   ],
   "source": [
    "superhost_model = smf.logit(formula=\"host_is_superhost ~ host_total_listings_count*number_of_reviews_ltm + host_response_rate\", data=train_filter).fit()\n",
    "\n",
    "train_filter['host_is_superhost_imputed'] = superhost_model.predict(train_filter) > 0.486\n",
    "train_filter['host_is_superhost'].fillna(train_filter['host_is_superhost_imputed'], inplace=True)\n",
    "train_filter.drop(columns=['host_is_superhost_imputed'], inplace=True)\n",
    "\n",
    "test_filter['host_is_superhost_imputed'] = superhost_model.predict(test_filter) > 0.486\n",
    "test_filter['host_is_superhost'].fillna(test_filter['host_is_superhost_imputed'], inplace=True)\n",
    "test_filter.drop(columns=['host_is_superhost_imputed'], inplace=True)\n"
   ]
  },
  {
   "cell_type": "code",
   "execution_count": 10,
   "id": "dddd446d",
   "metadata": {},
   "outputs": [],
   "source": [
    "beds_model = smf.ols(formula='beds ~ accommodates', data=test_filter).fit()\n",
    "\n",
    "impute_df = pd.DataFrame({'accommodates': test_filter['accommodates']})\n",
    "\n",
    "test_filter['beds_imputed'] = beds_model.predict(impute_df)\n",
    "test_filter['beds'].fillna(test_filter['beds_imputed'], inplace=True)\n",
    "\n",
    "test_filter.drop(columns=['beds_imputed'], inplace=True)"
   ]
  },
  {
   "cell_type": "markdown",
   "id": "ae4aafdc",
   "metadata": {},
   "source": [
    "### Naive Imputation"
   ]
  },
  {
   "cell_type": "code",
   "execution_count": 11,
   "id": "691fc491",
   "metadata": {},
   "outputs": [],
   "source": [
    "value_counts = train_filter.isna().sum()\n",
    "value_counts[value_counts != 0]\n",
    "\n",
    "review_vars = [name for name in train_filter.columns if 'review' in name]\n",
    "review_corrs = train_filter[review_vars].corr()\n"
   ]
  },
  {
   "cell_type": "code",
   "execution_count": 12,
   "id": "aa427f2c",
   "metadata": {},
   "outputs": [],
   "source": [
    "temp_data_train = train_filter.dropna(how='any')\n",
    "\n",
    "for col in temp_data_train.select_dtypes(include='number').columns:\n",
    "    if train_filter.isna().sum()[col] != 0:\n",
    "        train_filter[col].fillna(value=train_filter[col].median(), inplace=True) \n",
    "\n",
    "train_final = train_filter.copy()"
   ]
  },
  {
   "cell_type": "code",
   "execution_count": 13,
   "id": "af44a2a9",
   "metadata": {},
   "outputs": [],
   "source": [
    "temp_data_test = test_filter.dropna(how='any')\n",
    "\n",
    "for col in temp_data_test.select_dtypes(include='number').columns:\n",
    "    if test_filter.isna().sum()[col] != 0:\n",
    "        test_filter[col].fillna(value=test_filter[col].median(), inplace=True)  \n",
    "\n",
    "test_final = test_filter.copy()"
   ]
  },
  {
   "cell_type": "markdown",
   "id": "8decf3ff",
   "metadata": {},
   "source": [
    "### Binning"
   ]
  },
  {
   "cell_type": "code",
   "execution_count": 14,
   "id": "8cc1c911",
   "metadata": {},
   "outputs": [],
   "source": [
    "# Bin number accomodates\n",
    "train_final['accommodates_bins'], bins = pd.cut(train_final['accommodates'], retbins=True, bins=6)\n",
    "test_final['accommodates_bins'] = pd.cut(test['accommodates'], bins=bins)\n"
   ]
  },
  {
   "cell_type": "code",
   "execution_count": 15,
   "id": "e1e3c62f",
   "metadata": {},
   "outputs": [],
   "source": [
    "# Bin number latitude and longitude\n",
    "train_final['latitude_bins'], lat_bins = pd.cut(train_final['latitude'], retbins=True, bins=12)\n",
    "train_final['longitude_bins'], long_bins = pd.cut(train_final['longitude'], retbins=True, bins=12)\n",
    "\n",
    "test_final['latitude_bins'] = pd.cut(test['accommodates'], bins=lat_bins)\n",
    "test_final['longitude_bins'] = pd.cut(test['accommodates'], bins=long_bins)\n"
   ]
  },
  {
   "cell_type": "markdown",
   "id": "665a03db",
   "metadata": {},
   "source": [
    "## 3) Developing the Model"
   ]
  },
  {
   "cell_type": "markdown",
   "id": "bb707074",
   "metadata": {},
   "source": [
    "Accomodates and room_type interaction. beds/baths and accomodates. log accomodates. \n",
    "Interactions between accomodates and room_type was selected because it reasons that while a listing that accomodates more would increase price, that will depend on what the space is like. \n",
    "Latitude and Longitude were included in addition to neighbourhood because I suspected that more central listings would have a higher price, hence the squared term to account for a curve rather than a line."
   ]
  },
  {
   "cell_type": "markdown",
   "id": "8e104de7",
   "metadata": {},
   "source": [
    "## 4) Model"
   ]
  },
  {
   "cell_type": "code",
   "execution_count": 16,
   "id": "c2f5c367",
   "metadata": {},
   "outputs": [
    {
     "data": {
      "text/html": [
       "<table class=\"simpletable\">\n",
       "<caption>OLS Regression Results</caption>\n",
       "<tr>\n",
       "  <th>Dep. Variable:</th>          <td>price</td>      <th>  R-squared:         </th> <td>   0.452</td> \n",
       "</tr>\n",
       "<tr>\n",
       "  <th>Model:</th>                   <td>OLS</td>       <th>  Adj. R-squared:    </th> <td>   0.450</td> \n",
       "</tr>\n",
       "<tr>\n",
       "  <th>Method:</th>             <td>Least Squares</td>  <th>  F-statistic:       </th> <td>   195.8</td> \n",
       "</tr>\n",
       "<tr>\n",
       "  <th>Date:</th>             <td>Sun, 18 Feb 2024</td> <th>  Prob (F-statistic):</th>  <td>  0.00</td>  \n",
       "</tr>\n",
       "<tr>\n",
       "  <th>Time:</th>                 <td>13:36:52</td>     <th>  Log-Likelihood:    </th> <td> -32291.</td> \n",
       "</tr>\n",
       "<tr>\n",
       "  <th>No. Observations:</th>      <td>  4999</td>      <th>  AIC:               </th> <td>6.463e+04</td>\n",
       "</tr>\n",
       "<tr>\n",
       "  <th>Df Residuals:</th>          <td>  4977</td>      <th>  BIC:               </th> <td>6.477e+04</td>\n",
       "</tr>\n",
       "<tr>\n",
       "  <th>Df Model:</th>              <td>    21</td>      <th>                     </th>     <td> </td>    \n",
       "</tr>\n",
       "<tr>\n",
       "  <th>Covariance Type:</th>      <td>nonrobust</td>    <th>                     </th>     <td> </td>    \n",
       "</tr>\n",
       "</table>\n",
       "<table class=\"simpletable\">\n",
       "<tr>\n",
       "                      <td></td>                         <th>coef</th>     <th>std err</th>      <th>t</th>      <th>P>|t|</th>  <th>[0.025</th>    <th>0.975]</th>  \n",
       "</tr>\n",
       "<tr>\n",
       "  <th>Intercept</th>                                 <td>    2.4784</td> <td>    1.066</td> <td>    2.325</td> <td> 0.020</td> <td>    0.389</td> <td>    4.568</td>\n",
       "</tr>\n",
       "<tr>\n",
       "  <th>neighbourhood_cleansed[T.Logan Square]</th>    <td>   16.7672</td> <td>   13.188</td> <td>    1.271</td> <td> 0.204</td> <td>   -9.088</td> <td>   42.622</td>\n",
       "</tr>\n",
       "<tr>\n",
       "  <th>neighbourhood_cleansed[T.Loop]</th>            <td>   30.9777</td> <td>   13.146</td> <td>    2.356</td> <td> 0.018</td> <td>    5.205</td> <td>   56.750</td>\n",
       "</tr>\n",
       "<tr>\n",
       "  <th>neighbourhood_cleansed[T.Near North Side]</th> <td>   42.2869</td> <td>   10.591</td> <td>    3.993</td> <td> 0.000</td> <td>   21.523</td> <td>   63.051</td>\n",
       "</tr>\n",
       "<tr>\n",
       "  <th>neighbourhood_cleansed[T.Near West Side]</th>  <td>   15.0509</td> <td>   12.329</td> <td>    1.221</td> <td> 0.222</td> <td>   -9.120</td> <td>   39.221</td>\n",
       "</tr>\n",
       "<tr>\n",
       "  <th>neighbourhood_cleansed[T.Other]</th>           <td>   -2.0547</td> <td>    9.415</td> <td>   -0.218</td> <td> 0.827</td> <td>  -20.512</td> <td>   16.402</td>\n",
       "</tr>\n",
       "<tr>\n",
       "  <th>neighbourhood_cleansed[T.West Town]</th>       <td>   48.2925</td> <td>   11.243</td> <td>    4.295</td> <td> 0.000</td> <td>   26.250</td> <td>   70.335</td>\n",
       "</tr>\n",
       "<tr>\n",
       "  <th>C(room_type)[T.Shared room]</th>               <td>   -8.9815</td> <td>   48.849</td> <td>   -0.184</td> <td> 0.854</td> <td> -104.748</td> <td>   86.785</td>\n",
       "</tr>\n",
       "<tr>\n",
       "  <th>C(room_type)[T.Single room]</th>               <td>  -53.3349</td> <td>   11.706</td> <td>   -4.556</td> <td> 0.000</td> <td>  -76.283</td> <td>  -30.387</td>\n",
       "</tr>\n",
       "<tr>\n",
       "  <th>C(bathrooms_shared)[T.1]</th>                  <td>   23.6660</td> <td>   15.036</td> <td>    1.574</td> <td> 0.116</td> <td>   -5.811</td> <td>   53.143</td>\n",
       "</tr>\n",
       "<tr>\n",
       "  <th>I(maximum_nights ** 4)</th>                    <td> 1.151e-11</td> <td> 2.96e-12</td> <td>    3.883</td> <td> 0.000</td> <td>  5.7e-12</td> <td> 1.73e-11</td>\n",
       "</tr>\n",
       "<tr>\n",
       "  <th>np.log(accommodates)</th>                      <td>  -55.9926</td> <td>   14.179</td> <td>   -3.949</td> <td> 0.000</td> <td>  -83.789</td> <td>  -28.196</td>\n",
       "</tr>\n",
       "<tr>\n",
       "  <th>accommodates</th>                              <td>   18.2658</td> <td>    3.747</td> <td>    4.875</td> <td> 0.000</td> <td>   10.920</td> <td>   25.611</td>\n",
       "</tr>\n",
       "<tr>\n",
       "  <th>accommodates:C(room_type)[T.Shared room]</th>  <td>   -0.7162</td> <td>   18.123</td> <td>   -0.040</td> <td> 0.968</td> <td>  -36.246</td> <td>   34.813</td>\n",
       "</tr>\n",
       "<tr>\n",
       "  <th>accommodates:C(room_type)[T.Single room]</th>  <td>   24.4250</td> <td>    2.678</td> <td>    9.119</td> <td> 0.000</td> <td>   19.174</td> <td>   29.676</td>\n",
       "</tr>\n",
       "<tr>\n",
       "  <th>longitude</th>                                 <td> -108.6490</td> <td>   46.722</td> <td>   -2.325</td> <td> 0.020</td> <td> -200.245</td> <td>  -17.053</td>\n",
       "</tr>\n",
       "<tr>\n",
       "  <th>I(longitude ** 2)</th>                         <td>   -1.7894</td> <td>    0.647</td> <td>   -2.765</td> <td> 0.006</td> <td>   -3.058</td> <td>   -0.521</td>\n",
       "</tr>\n",
       "<tr>\n",
       "  <th>latitude</th>                                  <td>   51.8928</td> <td>   22.305</td> <td>    2.327</td> <td> 0.020</td> <td>    8.165</td> <td>   95.620</td>\n",
       "</tr>\n",
       "<tr>\n",
       "  <th>I(latitude ** 2)</th>                          <td>    1.1875</td> <td>    0.531</td> <td>    2.237</td> <td> 0.025</td> <td>    0.147</td> <td>    2.228</td>\n",
       "</tr>\n",
       "<tr>\n",
       "  <th>beds</th>                                      <td>   20.0975</td> <td>    4.829</td> <td>    4.162</td> <td> 0.000</td> <td>   10.630</td> <td>   29.565</td>\n",
       "</tr>\n",
       "<tr>\n",
       "  <th>beds:accommodates</th>                         <td>   -3.1681</td> <td>    0.457</td> <td>   -6.927</td> <td> 0.000</td> <td>   -4.065</td> <td>   -2.272</td>\n",
       "</tr>\n",
       "<tr>\n",
       "  <th>bathrooms_num</th>                             <td>    8.8563</td> <td>    9.305</td> <td>    0.952</td> <td> 0.341</td> <td>   -9.386</td> <td>   27.099</td>\n",
       "</tr>\n",
       "<tr>\n",
       "  <th>bathrooms_num:C(bathrooms_shared)[T.1]</th>    <td>  -45.2373</td> <td>   10.236</td> <td>   -4.419</td> <td> 0.000</td> <td>  -65.305</td> <td>  -25.170</td>\n",
       "</tr>\n",
       "<tr>\n",
       "  <th>bathrooms_num:accommodates</th>                <td>   12.3970</td> <td>    0.989</td> <td>   12.538</td> <td> 0.000</td> <td>   10.459</td> <td>   14.335</td>\n",
       "</tr>\n",
       "</table>\n",
       "<table class=\"simpletable\">\n",
       "<tr>\n",
       "  <th>Omnibus:</th>       <td>8202.762</td> <th>  Durbin-Watson:     </th>   <td>   2.015</td>  \n",
       "</tr>\n",
       "<tr>\n",
       "  <th>Prob(Omnibus):</th>  <td> 0.000</td>  <th>  Jarque-Bera (JB):  </th> <td>11786907.918</td>\n",
       "</tr>\n",
       "<tr>\n",
       "  <th>Skew:</th>           <td>10.543</td>  <th>  Prob(JB):          </th>   <td>    0.00</td>  \n",
       "</tr>\n",
       "<tr>\n",
       "  <th>Kurtosis:</th>       <td>239.947</td> <th>  Cond. No.          </th>   <td>2.61e+18</td>  \n",
       "</tr>\n",
       "</table><br/><br/>Notes:<br/>[1] Standard Errors assume that the covariance matrix of the errors is correctly specified.<br/>[2] The condition number is large, 2.61e+18. This might indicate that there are<br/>strong multicollinearity or other numerical problems."
      ],
      "text/latex": [
       "\\begin{center}\n",
       "\\begin{tabular}{lclc}\n",
       "\\toprule\n",
       "\\textbf{Dep. Variable:}                             &      price       & \\textbf{  R-squared:         } &      0.452    \\\\\n",
       "\\textbf{Model:}                                     &       OLS        & \\textbf{  Adj. R-squared:    } &      0.450    \\\\\n",
       "\\textbf{Method:}                                    &  Least Squares   & \\textbf{  F-statistic:       } &      195.8    \\\\\n",
       "\\textbf{Date:}                                      & Sun, 18 Feb 2024 & \\textbf{  Prob (F-statistic):} &      0.00     \\\\\n",
       "\\textbf{Time:}                                      &     13:36:52     & \\textbf{  Log-Likelihood:    } &    -32291.    \\\\\n",
       "\\textbf{No. Observations:}                          &        4999      & \\textbf{  AIC:               } &  6.463e+04    \\\\\n",
       "\\textbf{Df Residuals:}                              &        4977      & \\textbf{  BIC:               } &  6.477e+04    \\\\\n",
       "\\textbf{Df Model:}                                  &          21      & \\textbf{                     } &               \\\\\n",
       "\\textbf{Covariance Type:}                           &    nonrobust     & \\textbf{                     } &               \\\\\n",
       "\\bottomrule\n",
       "\\end{tabular}\n",
       "\\begin{tabular}{lcccccc}\n",
       "                                                    & \\textbf{coef} & \\textbf{std err} & \\textbf{t} & \\textbf{P$> |$t$|$} & \\textbf{[0.025} & \\textbf{0.975]}  \\\\\n",
       "\\midrule\n",
       "\\textbf{Intercept}                                  &       2.4784  &        1.066     &     2.325  &         0.020        &        0.389    &        4.568     \\\\\n",
       "\\textbf{neighbourhood\\_cleansed[T.Logan Square]}    &      16.7672  &       13.188     &     1.271  &         0.204        &       -9.088    &       42.622     \\\\\n",
       "\\textbf{neighbourhood\\_cleansed[T.Loop]}            &      30.9777  &       13.146     &     2.356  &         0.018        &        5.205    &       56.750     \\\\\n",
       "\\textbf{neighbourhood\\_cleansed[T.Near North Side]} &      42.2869  &       10.591     &     3.993  &         0.000        &       21.523    &       63.051     \\\\\n",
       "\\textbf{neighbourhood\\_cleansed[T.Near West Side]}  &      15.0509  &       12.329     &     1.221  &         0.222        &       -9.120    &       39.221     \\\\\n",
       "\\textbf{neighbourhood\\_cleansed[T.Other]}           &      -2.0547  &        9.415     &    -0.218  &         0.827        &      -20.512    &       16.402     \\\\\n",
       "\\textbf{neighbourhood\\_cleansed[T.West Town]}       &      48.2925  &       11.243     &     4.295  &         0.000        &       26.250    &       70.335     \\\\\n",
       "\\textbf{C(room\\_type)[T.Shared room]}               &      -8.9815  &       48.849     &    -0.184  &         0.854        &     -104.748    &       86.785     \\\\\n",
       "\\textbf{C(room\\_type)[T.Single room]}               &     -53.3349  &       11.706     &    -4.556  &         0.000        &      -76.283    &      -30.387     \\\\\n",
       "\\textbf{C(bathrooms\\_shared)[T.1]}                  &      23.6660  &       15.036     &     1.574  &         0.116        &       -5.811    &       53.143     \\\\\n",
       "\\textbf{I(maximum\\_nights ** 4)}                    &    1.151e-11  &     2.96e-12     &     3.883  &         0.000        &      5.7e-12    &     1.73e-11     \\\\\n",
       "\\textbf{np.log(accommodates)}                       &     -55.9926  &       14.179     &    -3.949  &         0.000        &      -83.789    &      -28.196     \\\\\n",
       "\\textbf{accommodates}                               &      18.2658  &        3.747     &     4.875  &         0.000        &       10.920    &       25.611     \\\\\n",
       "\\textbf{accommodates:C(room\\_type)[T.Shared room]}  &      -0.7162  &       18.123     &    -0.040  &         0.968        &      -36.246    &       34.813     \\\\\n",
       "\\textbf{accommodates:C(room\\_type)[T.Single room]}  &      24.4250  &        2.678     &     9.119  &         0.000        &       19.174    &       29.676     \\\\\n",
       "\\textbf{longitude}                                  &    -108.6490  &       46.722     &    -2.325  &         0.020        &     -200.245    &      -17.053     \\\\\n",
       "\\textbf{I(longitude ** 2)}                          &      -1.7894  &        0.647     &    -2.765  &         0.006        &       -3.058    &       -0.521     \\\\\n",
       "\\textbf{latitude}                                   &      51.8928  &       22.305     &     2.327  &         0.020        &        8.165    &       95.620     \\\\\n",
       "\\textbf{I(latitude ** 2)}                           &       1.1875  &        0.531     &     2.237  &         0.025        &        0.147    &        2.228     \\\\\n",
       "\\textbf{beds}                                       &      20.0975  &        4.829     &     4.162  &         0.000        &       10.630    &       29.565     \\\\\n",
       "\\textbf{beds:accommodates}                          &      -3.1681  &        0.457     &    -6.927  &         0.000        &       -4.065    &       -2.272     \\\\\n",
       "\\textbf{bathrooms\\_num}                             &       8.8563  &        9.305     &     0.952  &         0.341        &       -9.386    &       27.099     \\\\\n",
       "\\textbf{bathrooms\\_num:C(bathrooms\\_shared)[T.1]}   &     -45.2373  &       10.236     &    -4.419  &         0.000        &      -65.305    &      -25.170     \\\\\n",
       "\\textbf{bathrooms\\_num:accommodates}                &      12.3970  &        0.989     &    12.538  &         0.000        &       10.459    &       14.335     \\\\\n",
       "\\bottomrule\n",
       "\\end{tabular}\n",
       "\\begin{tabular}{lclc}\n",
       "\\textbf{Omnibus:}       & 8202.762 & \\textbf{  Durbin-Watson:     } &      2.015    \\\\\n",
       "\\textbf{Prob(Omnibus):} &   0.000  & \\textbf{  Jarque-Bera (JB):  } & 11786907.918  \\\\\n",
       "\\textbf{Skew:}          &  10.543  & \\textbf{  Prob(JB):          } &       0.00    \\\\\n",
       "\\textbf{Kurtosis:}      & 239.947  & \\textbf{  Cond. No.          } &   2.61e+18    \\\\\n",
       "\\bottomrule\n",
       "\\end{tabular}\n",
       "%\\caption{OLS Regression Results}\n",
       "\\end{center}\n",
       "\n",
       "Notes: \\newline\n",
       " [1] Standard Errors assume that the covariance matrix of the errors is correctly specified. \\newline\n",
       " [2] The condition number is large, 2.61e+18. This might indicate that there are \\newline\n",
       " strong multicollinearity or other numerical problems."
      ],
      "text/plain": [
       "<class 'statsmodels.iolib.summary.Summary'>\n",
       "\"\"\"\n",
       "                            OLS Regression Results                            \n",
       "==============================================================================\n",
       "Dep. Variable:                  price   R-squared:                       0.452\n",
       "Model:                            OLS   Adj. R-squared:                  0.450\n",
       "Method:                 Least Squares   F-statistic:                     195.8\n",
       "Date:                Sun, 18 Feb 2024   Prob (F-statistic):               0.00\n",
       "Time:                        13:36:52   Log-Likelihood:                -32291.\n",
       "No. Observations:                4999   AIC:                         6.463e+04\n",
       "Df Residuals:                    4977   BIC:                         6.477e+04\n",
       "Df Model:                          21                                         \n",
       "Covariance Type:            nonrobust                                         \n",
       "=============================================================================================================\n",
       "                                                coef    std err          t      P>|t|      [0.025      0.975]\n",
       "-------------------------------------------------------------------------------------------------------------\n",
       "Intercept                                     2.4784      1.066      2.325      0.020       0.389       4.568\n",
       "neighbourhood_cleansed[T.Logan Square]       16.7672     13.188      1.271      0.204      -9.088      42.622\n",
       "neighbourhood_cleansed[T.Loop]               30.9777     13.146      2.356      0.018       5.205      56.750\n",
       "neighbourhood_cleansed[T.Near North Side]    42.2869     10.591      3.993      0.000      21.523      63.051\n",
       "neighbourhood_cleansed[T.Near West Side]     15.0509     12.329      1.221      0.222      -9.120      39.221\n",
       "neighbourhood_cleansed[T.Other]              -2.0547      9.415     -0.218      0.827     -20.512      16.402\n",
       "neighbourhood_cleansed[T.West Town]          48.2925     11.243      4.295      0.000      26.250      70.335\n",
       "C(room_type)[T.Shared room]                  -8.9815     48.849     -0.184      0.854    -104.748      86.785\n",
       "C(room_type)[T.Single room]                 -53.3349     11.706     -4.556      0.000     -76.283     -30.387\n",
       "C(bathrooms_shared)[T.1]                     23.6660     15.036      1.574      0.116      -5.811      53.143\n",
       "I(maximum_nights ** 4)                     1.151e-11   2.96e-12      3.883      0.000     5.7e-12    1.73e-11\n",
       "np.log(accommodates)                        -55.9926     14.179     -3.949      0.000     -83.789     -28.196\n",
       "accommodates                                 18.2658      3.747      4.875      0.000      10.920      25.611\n",
       "accommodates:C(room_type)[T.Shared room]     -0.7162     18.123     -0.040      0.968     -36.246      34.813\n",
       "accommodates:C(room_type)[T.Single room]     24.4250      2.678      9.119      0.000      19.174      29.676\n",
       "longitude                                  -108.6490     46.722     -2.325      0.020    -200.245     -17.053\n",
       "I(longitude ** 2)                            -1.7894      0.647     -2.765      0.006      -3.058      -0.521\n",
       "latitude                                     51.8928     22.305      2.327      0.020       8.165      95.620\n",
       "I(latitude ** 2)                              1.1875      0.531      2.237      0.025       0.147       2.228\n",
       "beds                                         20.0975      4.829      4.162      0.000      10.630      29.565\n",
       "beds:accommodates                            -3.1681      0.457     -6.927      0.000      -4.065      -2.272\n",
       "bathrooms_num                                 8.8563      9.305      0.952      0.341      -9.386      27.099\n",
       "bathrooms_num:C(bathrooms_shared)[T.1]      -45.2373     10.236     -4.419      0.000     -65.305     -25.170\n",
       "bathrooms_num:accommodates                   12.3970      0.989     12.538      0.000      10.459      14.335\n",
       "==============================================================================\n",
       "Omnibus:                     8202.762   Durbin-Watson:                   2.015\n",
       "Prob(Omnibus):                  0.000   Jarque-Bera (JB):         11786907.918\n",
       "Skew:                          10.543   Prob(JB):                         0.00\n",
       "Kurtosis:                     239.947   Cond. No.                     2.61e+18\n",
       "==============================================================================\n",
       "\n",
       "Notes:\n",
       "[1] Standard Errors assume that the covariance matrix of the errors is correctly specified.\n",
       "[2] The condition number is large, 2.61e+18. This might indicate that there are\n",
       "strong multicollinearity or other numerical problems.\n",
       "\"\"\""
      ]
     },
     "execution_count": 16,
     "metadata": {},
     "output_type": "execute_result"
    }
   ],
   "source": [
    "formula = f'''price ~ neighbourhood_cleansed + I(maximum_nights**4) + \n",
    "np.log(accommodates) + accommodates*C(room_type) + \n",
    "longitude + I(longitude**2) + latitude + I(latitude**2) +\n",
    "beds*accommodates + bathrooms_num*accommodates + bathrooms_num*C(bathrooms_shared)'''\n",
    "\n",
    "model = smf.ols(formula=formula, data=train_final).fit()\n",
    "model.summary()"
   ]
  },
  {
   "cell_type": "code",
   "execution_count": 17,
   "id": "475d4a89",
   "metadata": {},
   "outputs": [
    {
     "name": "stdout",
     "output_type": "stream",
     "text": [
      "Root Mean Squared Error (RMSE): 154.57\n",
      "Mean Absolute Error (MAE): 67.118\n",
      "Diff: 87.45230123668235\n"
     ]
    }
   ],
   "source": [
    "# Predicted values\n",
    "trying_pred = model.predict(train_final)\n",
    "\n",
    "# Evaluate\n",
    "rmse = mean_squared_error(train_final['price'], trying_pred, squared=False)\n",
    "mae = mean_absolute_error(train_final['price'], trying_pred)\n",
    "mae_rmse_diff = rmse - mae \n",
    "\n",
    "print(f'''Root Mean Squared Error (RMSE): {round(rmse, 3)}\\nMean Absolute Error (MAE): {round(mae, 3)}\\nDiff: {mae_rmse_diff}''')\n"
   ]
  },
  {
   "cell_type": "code",
   "execution_count": 18,
   "id": "92ea9267",
   "metadata": {},
   "outputs": [],
   "source": [
    "predicted_values = pd.DataFrame(model.predict(test_final))\n",
    "predicted_values = predicted_values.merge(test_final['id'], left_index=True, right_index=True).set_index('id').rename(columns={0:'predicted'})\n",
    "\n",
    "predicted_values.to_csv('liner_model_results.csv') "
   ]
  }
 ],
 "metadata": {
  "kernelspec": {
   "display_name": "Python 3 (ipykernel)",
   "language": "python",
   "name": "python3"
  },
  "language_info": {
   "codemirror_mode": {
    "name": "ipython",
    "version": 3
   },
   "file_extension": ".py",
   "mimetype": "text/x-python",
   "name": "python",
   "nbconvert_exporter": "python",
   "pygments_lexer": "ipython3",
   "version": "3.11.4"
  }
 },
 "nbformat": 4,
 "nbformat_minor": 5
}
