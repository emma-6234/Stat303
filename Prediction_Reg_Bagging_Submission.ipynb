{
 "cells": [
  {
   "cell_type": "raw",
   "id": "b1c13c80",
   "metadata": {},
   "source": [
    "---\n",
    "title: \"Prediction Problem Report (Bagging; Regression)\"\n",
    "format: \n",
    "  html:\n",
    "    toc: true\n",
    "    toc-title: Contents\n",
    "    toc-depth: 4\n",
    "    code-fold: show\n",
    "    self-contained: true\n",
    "    html-math-method: mathml \n",
    "jupyter: python3\n",
    "---"
   ]
  },
  {
   "cell_type": "markdown",
   "id": "95e86f05",
   "metadata": {},
   "source": [
    "## Read data"
   ]
  },
  {
   "cell_type": "code",
   "execution_count": 1,
   "id": "7738fa1e",
   "metadata": {},
   "outputs": [],
   "source": [
    "import pandas as pd\n",
    "import numpy as np\n",
    "import seaborn as sns\n",
    "import matplotlib.pyplot as plt\n",
    "from datetime import datetime\n",
    "import warnings\n",
    "\n",
    "import statsmodels.formula.api as smf\n",
    "from sklearn.preprocessing import StandardScaler\n",
    "from sklearn.model_selection import cross_val_score,train_test_split, KFold, GridSearchCV, ParameterGrid, RandomizedSearchCV\n",
    "from sklearn.tree import DecisionTreeRegressor\n",
    "from sklearn.ensemble import BaggingRegressor, RandomForestRegressor\n",
    "from sklearn.linear_model import LinearRegression, LogisticRegression\n",
    "from sklearn.neighbors import KNeighborsRegressor\n",
    "from sklearn.metrics import roc_curve, precision_recall_curve, auc, make_scorer, recall_score, accuracy_score, precision_score, confusion_matrix, mean_squared_error, r2_score, mean_squared_error\n",
    "from statsmodels.stats.outliers_influence import variance_inflation_factor\n",
    "# from skopt import BayesSearchCV"
   ]
  },
  {
   "cell_type": "code",
   "execution_count": 2,
   "id": "06025554",
   "metadata": {},
   "outputs": [],
   "source": [
    "raw_train = pd.read_csv('../../Datasets/train_regression.csv')\n",
    "raw_test = pd.read_csv('../../Datasets/test_regression.csv')"
   ]
  },
  {
   "cell_type": "markdown",
   "id": "3b5d4b16",
   "metadata": {},
   "source": [
    "## 1) Data pre-processing"
   ]
  },
  {
   "cell_type": "markdown",
   "id": "8adc06dc",
   "metadata": {},
   "source": [
    "Put the data pre-processing code. You don't need to explain it. You may use the same code from last quarter."
   ]
  },
  {
   "cell_type": "code",
   "execution_count": 3,
   "id": "da52dacc",
   "metadata": {},
   "outputs": [],
   "source": [
    "# Create copies of the raw datasets\n",
    "train = raw_train.copy()\n",
    "test = raw_test.copy()\n",
    "\n",
    "# Clean 'price' column: remove '$' and ',' characters, and convert to float\n",
    "train['price'] = train['price'].str.replace(',', '').str.replace('$', '', regex=False).astype(float)"
   ]
  },
  {
   "cell_type": "code",
   "execution_count": 4,
   "id": "00e95afc",
   "metadata": {},
   "outputs": [],
   "source": [
    "# Convert 'host_acceptance_rate' and 'host_response_rate' columns to float and scale by dividing by 100\n",
    "train['acceptance_rate'] = train['host_acceptance_rate'].str.replace('%', '').astype(float) / 100\n",
    "train['response_rate'] = train['host_response_rate'].str.replace('%', '').astype(float) / 100\n",
    "\n",
    "test['acceptance_rate'] = test['host_acceptance_rate'].str.replace('%', '').astype(float) / 100\n",
    "test['response_rate'] = test['host_response_rate'].str.replace('%', '').astype(float) / 100\n",
    "\n",
    "# Drop unnecessary columns\n",
    "train.drop(columns=['host_acceptance_rate', 'host_response_rate'], inplace=True)\n",
    "test.drop(columns=['host_acceptance_rate', 'host_response_rate'], inplace=True)\n",
    "\n",
    "\n",
    "# Extract numeric values from 'bathrooms_text' column and convert to float\n",
    "train['bathrooms_num'] = train['bathrooms_text'].str.extract('(\\d+)').astype(float)\n",
    "test['bathrooms_num'] = test['bathrooms_text'].str.extract('(\\d+)').astype(float)\n",
    "\n",
    "# Fill missing values in 'bathrooms_num' where 'Half-bath' is mentioned in 'bathrooms_text' with 0.5\n",
    "train.loc[train['bathrooms_text'].str.contains('Half-bath', case=False, na=False) & train['bathrooms_num'].isna(), 'bathrooms_num'] = 0.5\n",
    "test.loc[test['bathrooms_text'].str.contains('Half-bath', case=False, na=False) & test['bathrooms_num'].isna(), 'bathrooms_num'] = 0.5\n"
   ]
  },
  {
   "cell_type": "code",
   "execution_count": 5,
   "id": "a4eaa577",
   "metadata": {},
   "outputs": [],
   "source": [
    "# Convert date columns to datetime format\n",
    "def strip_date(row):\n",
    "    if isinstance(row, str):\n",
    "        row = datetime.strptime(row, '%Y-%m-%d').date()\n",
    "    return row\n",
    "\n",
    "# Apply date conversion to train dataset\n",
    "train['host_since'] = train['host_since'].apply(strip_date)\n",
    "train['first_review'] = train['first_review'].apply(strip_date)\n",
    "train['last_review'] = train['last_review'].apply(strip_date)\n",
    "\n",
    "# Apply date conversion to test dataset\n",
    "test['host_since'] = test['host_since'].apply(strip_date)\n",
    "test['first_review'] = test['first_review'].apply(strip_date)\n",
    "test['last_review'] = test['last_review'].apply(strip_date)\n",
    "\n",
    "# ----- #\n",
    "\n",
    "# Calculate months since various dates for train dataset\n",
    "train['host_since_in_months'] = round(((datetime.now().date() - train['host_since']).dt.days) / 30, 2)\n",
    "train['first_review_in_months'] = round(((datetime.now().date() - train['first_review']).dt.days) / 30, 2)\n",
    "train['last_review_in_months'] = round(((datetime.now().date() - train['last_review']).dt.days) / 30, 2)\n",
    "\n",
    "# Calculate months since various dates for test dataset\n",
    "test['host_since_in_months'] = round(((datetime.now().date() - test['host_since']).dt.days) / 30,  2)\n",
    "test['first_review_in_months'] = round(((datetime.now().date() - test['first_review']).dt.days) / 30, 2)\n",
    "test['last_review_in_months'] = round(((datetime.now().date() - test['last_review']).dt.days) / 30, 2)\n",
    "\n",
    "\n",
    "# Because the review values are extremely collinear, calculate average review scores and fill missing values with 0\n",
    "train['review_scores_avg'] = np.mean(train[['review_scores_accuracy', 'review_scores_checkin', 'review_scores_communication', 'review_scores_rating', 'review_scores_value', 'review_scores_location', 'review_scores_cleanliness']], axis=1)\n",
    "test['review_scores_avg'] = np.mean(test[['review_scores_accuracy', 'review_scores_checkin', 'review_scores_communication', 'review_scores_rating', 'review_scores_value', 'review_scores_location', 'review_scores_cleanliness']], axis=1)\n",
    "\n",
    "train.drop(columns=['review_scores_accuracy', 'review_scores_checkin', 'review_scores_communication', 'review_scores_rating', 'review_scores_value', 'review_scores_location', 'review_scores_cleanliness'], inplace=True)\n",
    "test.drop(columns=['review_scores_accuracy', 'review_scores_checkin', 'review_scores_communication', 'review_scores_rating', 'review_scores_value', 'review_scores_location', 'review_scores_cleanliness'], inplace=True)\n",
    "\n",
    "train['review_scores_avg'].fillna(value=0, inplace=True)\n",
    "test['review_scores_avg'].fillna(value=0, inplace=True)"
   ]
  },
  {
   "cell_type": "code",
   "execution_count": 6,
   "id": "0d46d52d",
   "metadata": {},
   "outputs": [
    {
     "name": "stdout",
     "output_type": "stream",
     "text": [
      "Price outliers: [523, 1626, 1823, 1848, 2067, 2380, 3129, 4865]\n",
      "\n",
      "8 observations dropped\n",
      "\n"
     ]
    }
   ],
   "source": [
    "## Identify outliers in 'price' and 'minimum_nights'\n",
    "\n",
    "# top and bottom 0.04% of price\n",
    "lower_val = np.percentile(train[['price']], 0.07)\n",
    "upper_val = np.percentile(train[['price']], 99.93)\n",
    "outliers_idx_price = list(train[(train['price'] >= upper_val) | (train['price'] <= lower_val)].index)\n",
    "print(\"Price outliers:\", list(outliers_idx_price))\n",
    "outliers_idx = outliers_idx_price\n",
    "\n",
    "# # top 0.1% of minimum_nights\n",
    "# # upper_lim = np.percentile(train[['minimum_nights']], 99.9)\n",
    "# outliers_idx_nights = []  # list(train[train['minimum_nights'] >= upper_lim].index)\n",
    "# outliers_idx = list(outliers_idx_price) + list(outliers_idx_nights)\n",
    "# # print(\"Min nights outliers:\", list(train[train['minimum_nights'] >= upper_lim].index))\n",
    "\n",
    "\n",
    "print(f\"\\n{len(train.iloc[outliers_idx, :]['price'])} observations dropped\\n\")\n",
    "# train.loc[outliers_idx_price, :]['price'].sort_values()"
   ]
  },
  {
   "cell_type": "code",
   "execution_count": 7,
   "id": "447b4e48",
   "metadata": {},
   "outputs": [],
   "source": [
    "train_clean = train.drop(outliers_idx).reset_index(drop=True)\n",
    "test_clean = test.copy()"
   ]
  },
  {
   "cell_type": "markdown",
   "id": "c34a875d",
   "metadata": {},
   "source": [
    "Clean Transform"
   ]
  },
  {
   "cell_type": "code",
   "execution_count": 8,
   "id": "381e9b41",
   "metadata": {},
   "outputs": [],
   "source": [
    "def clean_vars(row):\n",
    "    # Check if 'shared' is in 'bathrooms_text' to identify shared bathrooms\n",
    "    if 'shared' in str(row['bathrooms_text']):\n",
    "        row['bathrooms_shared'] = \"t\"\n",
    "        \n",
    "    # Check if 'bathrooms_text' is empty and 'room_type' is 'Shared' to identify shared bathrooms\n",
    "    elif pd.isna(row['bathrooms_text']):\n",
    "        if 'Shared' in row['room_type']:\n",
    "            row['bathrooms_shared'] = \"t\"              \n",
    "        else:\n",
    "            row['bathrooms_shared'] = \"f\"\n",
    "    else: \n",
    "        row['bathrooms_shared'] = \"f\"\n",
    "        \n",
    "    # Convert 'Hotel room' room type to 'Private room'\n",
    "    if row.loc['room_type'] == 'Hotel room':\n",
    "        row['room_type'] = 'Private room'\n",
    "        \n",
    "    return row\n",
    "\n",
    "# Apply the function to clean variables to train and test datasets\n",
    "train_clean = train_clean.apply(clean_vars, axis=1)\n",
    "test_clean = test_clean.apply(clean_vars, axis=1)\n"
   ]
  },
  {
   "cell_type": "markdown",
   "id": "3aeb8efc",
   "metadata": {},
   "source": [
    "clean neighbourhoods"
   ]
  },
  {
   "cell_type": "code",
   "execution_count": 9,
   "id": "7eb22b4f",
   "metadata": {},
   "outputs": [],
   "source": [
    "# Group small occurrences into 'Other'\n",
    "neighbourhood_counts = train_clean['neighbourhood_cleansed'].value_counts()\n",
    "\n",
    "other_hoods = [i for i in neighbourhood_counts.index if neighbourhood_counts[i] < 100]\n",
    "\n",
    "test_only_hoods = [i for i in test_clean['neighbourhood_cleansed'].unique() \n",
    "                   if i not in neighbourhood_counts \n",
    "                   and i != 'Other']\n",
    "    "
   ]
  },
  {
   "cell_type": "code",
   "execution_count": 10,
   "id": "d7bc2cf7",
   "metadata": {},
   "outputs": [],
   "source": [
    "# Create DataFrame with unique neighbourhoods\n",
    "hood_df = pd.DataFrame(index=train_clean['neighbourhood_cleansed'].unique())\n",
    "\n",
    "# Compute mean and standard deviation for each neighbourhood\n",
    "grouped = train_clean.groupby('neighbourhood_cleansed')['price']\n",
    "all_mean = grouped.mean()\n",
    "all_std = grouped.std()\n",
    "\n",
    "# Add mean and std to DataFrame\n",
    "hood_df['mean_price'] = all_mean\n",
    "hood_df['std_price'] = all_std\n",
    "\n",
    "# Merge with counts\n",
    "hood_df = hood_df.merge(neighbourhood_counts, left_index=True, right_index=True)\n",
    "hood_df.rename(columns={'neighbourhood_cleansed': 'count'}, inplace=True)\n",
    "\n",
    "\n",
    "# Get the 10th percentile of standard deviations\n",
    "std_90 = np.percentile(hood_df.dropna(how='any')['std_price'], 10)\n",
    "\n",
    "\n",
    "# Filter DataFrame\n",
    "filtered_df = hood_df[((hood_df['std_price'] < std_90) | (hood_df['count'] > 100)) & (hood_df['count'] > 20)]\n",
    "\n",
    "keep_hoods = filtered_df.index.tolist()\n"
   ]
  },
  {
   "cell_type": "code",
   "execution_count": 11,
   "id": "ba9d8ef9",
   "metadata": {},
   "outputs": [],
   "source": [
    "# if neighbourhood has small std or more than 100 but no neighbourhoods with less than 20\n",
    "def clean_hoods(row):\n",
    "    if row.loc['neighbourhood_cleansed'] not in keep_hoods:\n",
    "        row['neighbourhood_grouped'] = 'Other'\n",
    "        \n",
    "    else:    \n",
    "        row['neighbourhood_grouped'] = row.loc['neighbourhood_cleansed']\n",
    "        \n",
    "    return row\n",
    "\n",
    "train_clean = train_clean.apply(clean_hoods, axis=1)\n",
    "test_clean = test_clean.apply(clean_hoods, axis=1)"
   ]
  },
  {
   "cell_type": "markdown",
   "id": "82069264",
   "metadata": {},
   "source": [
    "Clean property type"
   ]
  },
  {
   "cell_type": "code",
   "execution_count": 12,
   "id": "a48a3eb0",
   "metadata": {},
   "outputs": [],
   "source": [
    "words_to_remove = ['place', 'room', 'private', 'shared', 'entire', ' in', ' room', ' private', ' shared', ' entire', ' in',]\n",
    "\n",
    "# remove filler and unnecessary words from property\n",
    "def remove_words(text):\n",
    "    text=text.lower()\n",
    "    for word in words_to_remove:\n",
    "        word = word.lower()\n",
    "        text = text.replace(word, '')\n",
    "    return text.strip()\n",
    "\n",
    "\n",
    "train_clean['property_type'] = train_clean['property_type'].apply(remove_words)\n",
    "test_clean['property_type'] = test_clean['property_type'].apply(remove_words)\n"
   ]
  },
  {
   "cell_type": "code",
   "execution_count": 13,
   "id": "7e0c5d2e",
   "metadata": {},
   "outputs": [],
   "source": [
    "# identify value counts and make a list of neighbourhoods with more than 10\n",
    "property_counts = train_clean['property_type'].value_counts()\n",
    "keep = [i for i in property_counts.index if property_counts[i] > 10]\n",
    "\n",
    "def clean_property(row):\n",
    "    if row not in keep or row == \"\":\n",
    "        row = 'Other'\n",
    "      \n",
    "    return row\n",
    "\n",
    "\n",
    "train_clean['property_type_cleansed'] = train_clean['property_type'].apply(clean_property)\n",
    "test_clean['property_type_cleansed'] = test_clean['property_type'].apply(clean_property)\n",
    "\n",
    "train_filter_2 = train_clean.copy()\n",
    "test_filter_2 = test_clean.copy()\n"
   ]
  },
  {
   "cell_type": "code",
   "execution_count": 14,
   "id": "35e9cb0b",
   "metadata": {},
   "outputs": [],
   "source": [
    "train_filter_2.drop(columns=['host_id', 'host_since', 'first_review', 'last_review', 'neighbourhood_cleansed', 'property_type', 'bathrooms_text'], inplace=True)\n",
    "test_filter_2.drop(columns=['host_id', 'host_since', 'first_review', 'last_review', 'neighbourhood_cleansed', 'property_type', 'bathrooms_text'], inplace=True)"
   ]
  },
  {
   "cell_type": "markdown",
   "id": "245cf78b",
   "metadata": {},
   "source": [
    "number of verifications"
   ]
  },
  {
   "cell_type": "code",
   "execution_count": 15,
   "id": "9b4a66d8",
   "metadata": {},
   "outputs": [],
   "source": [
    "try:\n",
    "    train_filter_2['host_verifications'] = train_filter_2['host_verifications'].apply(ast.literal_eval)\n",
    "except: pass\n",
    "\n",
    "try:\n",
    "    test_filter_2['host_verifications'] = test_filter_2['host_verifications'].apply(ast.literal_eval)\n",
    "except: pass"
   ]
  },
  {
   "cell_type": "code",
   "execution_count": 16,
   "id": "166ab65d",
   "metadata": {},
   "outputs": [],
   "source": [
    "train_filter_2['num_verifications'] = train_filter_2['host_verifications'].apply(len)\n",
    "test_filter_2['num_verifications'] = test_filter_2['host_verifications'].apply(len)"
   ]
  },
  {
   "cell_type": "code",
   "execution_count": 17,
   "id": "5afd5d63",
   "metadata": {},
   "outputs": [],
   "source": [
    "def split_vers(df):\n",
    "    def update_verification(row):\n",
    "        ver_phone = 't' if 'phone' in row['host_verifications'] else 'f'\n",
    "        ver_email = 't' if 'email' in row['host_verifications'] else 'f'\n",
    "        ver_work_email = 't' if 'work_email' in row['host_verifications'] else 'f'\n",
    "        return pd.Series({'ver_phone': ver_phone, 'ver_email': ver_email, 'ver_work_email': ver_work_email})\n",
    "\n",
    "    df[['ver_phone', 'ver_email', 'ver_work_email']] = df.apply(update_verification, axis=1)\n",
    "\n",
    "    return df\n",
    "\n",
    "\n",
    "train_filter_2 = split_vers(train_filter_2).drop('host_verifications', axis=1)\n",
    "test_filter_2 = split_vers(test_filter_2).drop('host_verifications', axis=1)"
   ]
  },
  {
   "cell_type": "markdown",
   "id": "6dbc3ca0",
   "metadata": {},
   "source": [
    "group small occurances into other"
   ]
  },
  {
   "cell_type": "code",
   "execution_count": 18,
   "id": "3cbb6cfa",
   "metadata": {},
   "outputs": [],
   "source": [
    "host_hood_counts = train_filter_2['host_neighbourhood'].value_counts()\n",
    "keep_host_hood = host_hood_counts[host_hood_counts >= 5].index\n",
    "\n",
    "train_filter_2['host_neighbourhood'] = train_filter_2['host_neighbourhood'].apply(lambda x: 'Other' if x not in keep_host_hood else x)\n",
    "test_filter_2['host_neighbourhood'] = test_filter_2['host_neighbourhood'].apply(lambda x: 'Other' if x not in keep_host_hood else x)\n",
    "# train_final[['host_neighbourhood']].value_counts()\n",
    "# test_final[['host_neighbourhood']].value_counts()\n",
    "\n",
    "# ----- #\n",
    "\n",
    "host_loc_counts = train_filter_2['host_location'].value_counts()\n",
    "keep_host_loc = host_loc_counts[host_loc_counts >= 10].index\n",
    "\n",
    "train_filter_2['host_location'] = train_filter_2['host_location'].apply(lambda x: 'Other' if x not in keep_host_loc else x)\n",
    "test_filter_2['host_location'] = test_filter_2['host_location'].apply(lambda x: 'Other' if x not in keep_host_loc else x)\n",
    "# train_final['host_location'].value_counts()\n",
    "# test_final['host_location'].value_counts()"
   ]
  },
  {
   "cell_type": "markdown",
   "id": "61837e2e",
   "metadata": {},
   "source": [
    "Columns with missing Values"
   ]
  },
  {
   "cell_type": "code",
   "execution_count": 19,
   "id": "048ef3e3",
   "metadata": {},
   "outputs": [
    {
     "name": "stdout",
     "output_type": "stream",
     "text": [
      "Optimization terminated successfully.\n",
      "         Current function value: 0.586516\n",
      "         Iterations 8\n"
     ]
    }
   ],
   "source": [
    "# Create a temporary dataframe to manipulate\n",
    "train_filter_temp = train_filter_2.copy()\n",
    "test_filter_temp = test_filter_2.copy()\n",
    "\n",
    "# Change t/f to numeric 1/0\n",
    "train_filter_temp['host_is_superhost'] = train_filter_2['host_is_superhost'].replace({'f': 0, 't': 1})\n",
    "test_filter_temp['host_is_superhost'] = test_filter_2['host_is_superhost'].replace({'f': 0, 't': 1})\n",
    "\n",
    "# Create model\n",
    "superhost_model = smf.logit(formula=\"host_is_superhost ~ calculated_host_listings_count*number_of_reviews_ltm + response_rate\", data=train_filter_temp).fit()\n",
    "\n",
    "# Predict all values \n",
    "impute_superhost_train = (superhost_model.predict(train_filter_temp) > 0.5).replace({False:'f', True:'t'})\n",
    "impute_superhost_test = (superhost_model.predict(test_filter_temp) > 0.5).replace({False:'f', True:'t'})\n",
    "\n",
    "# fill na's with coordinating value from model imputation\n",
    "train_filter_2['host_is_superhost'].fillna(impute_superhost_train, inplace=True)\n",
    "test_filter_2['host_is_superhost'].fillna(impute_superhost_test, inplace=True)\n"
   ]
  },
  {
   "cell_type": "code",
   "execution_count": 20,
   "id": "95038f16",
   "metadata": {},
   "outputs": [
    {
     "name": "stdout",
     "output_type": "stream",
     "text": [
      "Optimization terminated successfully.\n",
      "         Current function value: 0.192005\n",
      "         Iterations 7\n",
      "Optimization terminated successfully.\n",
      "         Current function value: 0.067442\n",
      "         Iterations 8\n"
     ]
    }
   ],
   "source": [
    "# create model to impute acceptance rate\n",
    "acceptance_model = smf.logit(formula=\"acceptance_rate ~ calculated_host_listings_count + accommodates\", data=train_filter_2).fit()\n",
    "\n",
    "\n",
    "# fill in missing values with the predictions from the model\n",
    "predicted_acceptance = acceptance_model.predict(train_filter_2)\n",
    "train_filter_2['acceptance_rate'].fillna(predicted_acceptance, inplace=True)\n",
    "\n",
    "predicted_acceptance_test = acceptance_model.predict(test_filter_2)\n",
    "test_filter_2['acceptance_rate'].fillna(predicted_acceptance_test, inplace=True)\n",
    "\n",
    "\n",
    "# ----- #\n",
    "\n",
    "\n",
    "# Create model to impute response rate\n",
    "response_model = smf.logit(formula=\"response_rate ~ accommodates\", data=train_filter_2).fit()\n",
    "\n",
    "\n",
    "# fill in missing values with the predictions from the model\n",
    "predicted_response = response_model.predict(train_filter_2)\n",
    "train_filter_2['response_rate'].fillna(predicted_response, inplace=True)\n",
    "\n",
    "predicted_response_test = response_model.predict(test_filter_2)\n",
    "test_filter_2['response_rate'].fillna(predicted_response_test, inplace=True)\n"
   ]
  },
  {
   "cell_type": "markdown",
   "id": "53da42ee",
   "metadata": {},
   "source": [
    "naive imputation"
   ]
  },
  {
   "cell_type": "code",
   "execution_count": 21,
   "id": "036bdd12",
   "metadata": {},
   "outputs": [],
   "source": [
    "# Fill in remaining missing values with median for numerical columns\n",
    "train_filter_2.fillna(train_filter_2.median(numeric_only=True), inplace=True)\n",
    "test_filter_2.fillna(test_filter_2.median(numeric_only=True), inplace=True)"
   ]
  },
  {
   "cell_type": "markdown",
   "id": "050af272",
   "metadata": {},
   "source": [
    "#### Predictor Selection with VIF"
   ]
  },
  {
   "cell_type": "code",
   "execution_count": 22,
   "id": "6134415b",
   "metadata": {
    "scrolled": true
   },
   "outputs": [
    {
     "data": {
      "text/html": [
       "<div>\n",
       "<style scoped>\n",
       "    .dataframe tbody tr th:only-of-type {\n",
       "        vertical-align: middle;\n",
       "    }\n",
       "\n",
       "    .dataframe tbody tr th {\n",
       "        vertical-align: top;\n",
       "    }\n",
       "\n",
       "    .dataframe thead th {\n",
       "        text-align: right;\n",
       "    }\n",
       "</style>\n",
       "<table border=\"1\" class=\"dataframe\">\n",
       "  <thead>\n",
       "    <tr style=\"text-align: right;\">\n",
       "      <th></th>\n",
       "      <th>Predictor</th>\n",
       "      <th>VIF</th>\n",
       "    </tr>\n",
       "  </thead>\n",
       "  <tbody>\n",
       "    <tr>\n",
       "      <th>13</th>\n",
       "      <td>maximum_nights_avg_ntm</td>\n",
       "      <td>4.144480e+11</td>\n",
       "    </tr>\n",
       "    <tr>\n",
       "      <th>10</th>\n",
       "      <td>minimum_maximum_nights</td>\n",
       "      <td>2.203542e+11</td>\n",
       "    </tr>\n",
       "    <tr>\n",
       "      <th>11</th>\n",
       "      <td>maximum_maximum_nights</td>\n",
       "      <td>4.310490e+10</td>\n",
       "    </tr>\n",
       "    <tr>\n",
       "      <th>2</th>\n",
       "      <td>latitude</td>\n",
       "      <td>6.488237e+05</td>\n",
       "    </tr>\n",
       "    <tr>\n",
       "      <th>3</th>\n",
       "      <td>longitude</td>\n",
       "      <td>6.477067e+05</td>\n",
       "    </tr>\n",
       "    <tr>\n",
       "      <th>21</th>\n",
       "      <td>calculated_host_listings_count</td>\n",
       "      <td>3.611523e+04</td>\n",
       "    </tr>\n",
       "    <tr>\n",
       "      <th>22</th>\n",
       "      <td>calculated_host_listings_count_entire_homes</td>\n",
       "      <td>3.597748e+04</td>\n",
       "    </tr>\n",
       "    <tr>\n",
       "      <th>15</th>\n",
       "      <td>availability_60</td>\n",
       "      <td>2.565793e+02</td>\n",
       "    </tr>\n",
       "    <tr>\n",
       "      <th>12</th>\n",
       "      <td>minimum_nights_avg_ntm</td>\n",
       "      <td>1.868695e+02</td>\n",
       "    </tr>\n",
       "    <tr>\n",
       "      <th>16</th>\n",
       "      <td>availability_90</td>\n",
       "      <td>1.573983e+02</td>\n",
       "    </tr>\n",
       "    <tr>\n",
       "      <th>0</th>\n",
       "      <td>host_listings_count</td>\n",
       "      <td>1.287572e+02</td>\n",
       "    </tr>\n",
       "    <tr>\n",
       "      <th>23</th>\n",
       "      <td>calculated_host_listings_count_private_rooms</td>\n",
       "      <td>1.043541e+02</td>\n",
       "    </tr>\n",
       "    <tr>\n",
       "      <th>27</th>\n",
       "      <td>response_rate</td>\n",
       "      <td>1.018193e+02</td>\n",
       "    </tr>\n",
       "    <tr>\n",
       "      <th>1</th>\n",
       "      <td>host_total_listings_count</td>\n",
       "      <td>5.005470e+01</td>\n",
       "    </tr>\n",
       "    <tr>\n",
       "      <th>6</th>\n",
       "      <td>minimum_nights</td>\n",
       "      <td>4.250616e+01</td>\n",
       "    </tr>\n",
       "    <tr>\n",
       "      <th>14</th>\n",
       "      <td>availability_30</td>\n",
       "      <td>4.111245e+01</td>\n",
       "    </tr>\n",
       "    <tr>\n",
       "      <th>26</th>\n",
       "      <td>acceptance_rate</td>\n",
       "      <td>3.767508e+01</td>\n",
       "    </tr>\n",
       "    <tr>\n",
       "      <th>33</th>\n",
       "      <td>num_verifications</td>\n",
       "      <td>1.733649e+01</td>\n",
       "    </tr>\n",
       "    <tr>\n",
       "      <th>8</th>\n",
       "      <td>minimum_minimum_nights</td>\n",
       "      <td>1.642874e+01</td>\n",
       "    </tr>\n",
       "    <tr>\n",
       "      <th>25</th>\n",
       "      <td>reviews_per_month</td>\n",
       "      <td>1.409025e+01</td>\n",
       "    </tr>\n",
       "    <tr>\n",
       "      <th>4</th>\n",
       "      <td>accommodates</td>\n",
       "      <td>1.176803e+01</td>\n",
       "    </tr>\n",
       "    <tr>\n",
       "      <th>5</th>\n",
       "      <td>beds</td>\n",
       "      <td>1.155852e+01</td>\n",
       "    </tr>\n",
       "    <tr>\n",
       "      <th>9</th>\n",
       "      <td>maximum_minimum_nights</td>\n",
       "      <td>1.055646e+01</td>\n",
       "    </tr>\n",
       "    <tr>\n",
       "      <th>32</th>\n",
       "      <td>review_scores_avg</td>\n",
       "      <td>9.175827e+00</td>\n",
       "    </tr>\n",
       "    <tr>\n",
       "      <th>17</th>\n",
       "      <td>availability_365</td>\n",
       "      <td>7.965560e+00</td>\n",
       "    </tr>\n",
       "    <tr>\n",
       "      <th>28</th>\n",
       "      <td>bathrooms_num</td>\n",
       "      <td>7.595608e+00</td>\n",
       "    </tr>\n",
       "    <tr>\n",
       "      <th>29</th>\n",
       "      <td>host_since_in_months</td>\n",
       "      <td>7.499505e+00</td>\n",
       "    </tr>\n",
       "    <tr>\n",
       "      <th>19</th>\n",
       "      <td>number_of_reviews_ltm</td>\n",
       "      <td>7.030311e+00</td>\n",
       "    </tr>\n",
       "    <tr>\n",
       "      <th>30</th>\n",
       "      <td>first_review_in_months</td>\n",
       "      <td>6.788952e+00</td>\n",
       "    </tr>\n",
       "    <tr>\n",
       "      <th>18</th>\n",
       "      <td>number_of_reviews</td>\n",
       "      <td>5.507315e+00</td>\n",
       "    </tr>\n",
       "  </tbody>\n",
       "</table>\n",
       "</div>"
      ],
      "text/plain": [
       "                                       Predictor           VIF\n",
       "13                        maximum_nights_avg_ntm  4.144480e+11\n",
       "10                        minimum_maximum_nights  2.203542e+11\n",
       "11                        maximum_maximum_nights  4.310490e+10\n",
       "2                                       latitude  6.488237e+05\n",
       "3                                      longitude  6.477067e+05\n",
       "21                calculated_host_listings_count  3.611523e+04\n",
       "22   calculated_host_listings_count_entire_homes  3.597748e+04\n",
       "15                               availability_60  2.565793e+02\n",
       "12                        minimum_nights_avg_ntm  1.868695e+02\n",
       "16                               availability_90  1.573983e+02\n",
       "0                            host_listings_count  1.287572e+02\n",
       "23  calculated_host_listings_count_private_rooms  1.043541e+02\n",
       "27                                 response_rate  1.018193e+02\n",
       "1                      host_total_listings_count  5.005470e+01\n",
       "6                                 minimum_nights  4.250616e+01\n",
       "14                               availability_30  4.111245e+01\n",
       "26                               acceptance_rate  3.767508e+01\n",
       "33                             num_verifications  1.733649e+01\n",
       "8                         minimum_minimum_nights  1.642874e+01\n",
       "25                             reviews_per_month  1.409025e+01\n",
       "4                                   accommodates  1.176803e+01\n",
       "5                                           beds  1.155852e+01\n",
       "9                         maximum_minimum_nights  1.055646e+01\n",
       "32                             review_scores_avg  9.175827e+00\n",
       "17                              availability_365  7.965560e+00\n",
       "28                                 bathrooms_num  7.595608e+00\n",
       "29                          host_since_in_months  7.499505e+00\n",
       "19                         number_of_reviews_ltm  7.030311e+00\n",
       "30                        first_review_in_months  6.788952e+00\n",
       "18                             number_of_reviews  5.507315e+00"
      ]
     },
     "execution_count": 22,
     "metadata": {},
     "output_type": "execute_result"
    }
   ],
   "source": [
    "import statsmodels.api as sm\n",
    "\n",
    "non_numeric_columns = train_filter_2.select_dtypes(exclude=[np.number]).columns\n",
    "data_numeric = train_filter_2.drop(columns=non_numeric_columns)\n",
    "\n",
    "X = data_numeric.drop(columns=['price', 'id'])\n",
    "y = data_numeric.price\n",
    "\n",
    "vif = pd.DataFrame()\n",
    "vif[\"Predictor\"] = X.columns\n",
    "vif[\"VIF\"] = [variance_inflation_factor(X.values, i) for i in range(X.shape[1])]\n",
    "\n",
    "vif[vif['VIF'] >= 5].sort_values('VIF', ascending=False)"
   ]
  },
  {
   "cell_type": "code",
   "execution_count": 23,
   "id": "0ff59de7",
   "metadata": {},
   "outputs": [],
   "source": [
    "train_filter_3 = train_filter_2.drop(columns=['maximum_nights_avg_ntm', 'minimum_nights_avg_ntm', 'calculated_host_listings_count', 'availability_60', 'host_listings_count'])  #'maximum_maximum_nights', 'minimum_maximum_nights'])\n",
    "test_filter_3 = test_filter_2.drop(columns=['maximum_nights_avg_ntm', 'minimum_nights_avg_ntm', 'calculated_host_listings_count', 'availability_60', 'host_listings_count'])  # 'maximum_maximum_nights', 'minimum_maximum_nights'])"
   ]
  },
  {
   "cell_type": "code",
   "execution_count": 24,
   "id": "8a0ade12",
   "metadata": {
    "scrolled": true
   },
   "outputs": [
    {
     "data": {
      "text/html": [
       "<div>\n",
       "<style scoped>\n",
       "    .dataframe tbody tr th:only-of-type {\n",
       "        vertical-align: middle;\n",
       "    }\n",
       "\n",
       "    .dataframe tbody tr th {\n",
       "        vertical-align: top;\n",
       "    }\n",
       "\n",
       "    .dataframe thead th {\n",
       "        text-align: right;\n",
       "    }\n",
       "</style>\n",
       "<table border=\"1\" class=\"dataframe\">\n",
       "  <thead>\n",
       "    <tr style=\"text-align: right;\">\n",
       "      <th></th>\n",
       "      <th>Predictor</th>\n",
       "      <th>VIF</th>\n",
       "    </tr>\n",
       "  </thead>\n",
       "  <tbody>\n",
       "    <tr>\n",
       "      <th>20</th>\n",
       "      <td>response_rate</td>\n",
       "      <td>53.423220</td>\n",
       "    </tr>\n",
       "    <tr>\n",
       "      <th>19</th>\n",
       "      <td>acceptance_rate</td>\n",
       "      <td>35.858145</td>\n",
       "    </tr>\n",
       "    <tr>\n",
       "      <th>10</th>\n",
       "      <td>availability_90</td>\n",
       "      <td>22.744131</td>\n",
       "    </tr>\n",
       "    <tr>\n",
       "      <th>3</th>\n",
       "      <td>minimum_nights</td>\n",
       "      <td>17.553907</td>\n",
       "    </tr>\n",
       "    <tr>\n",
       "      <th>5</th>\n",
       "      <td>minimum_minimum_nights</td>\n",
       "      <td>16.347567</td>\n",
       "    </tr>\n",
       "    <tr>\n",
       "      <th>26</th>\n",
       "      <td>num_verifications</td>\n",
       "      <td>16.120216</td>\n",
       "    </tr>\n",
       "    <tr>\n",
       "      <th>15</th>\n",
       "      <td>calculated_host_listings_count_entire_homes</td>\n",
       "      <td>15.278039</td>\n",
       "    </tr>\n",
       "    <tr>\n",
       "      <th>9</th>\n",
       "      <td>availability_30</td>\n",
       "      <td>14.041704</td>\n",
       "    </tr>\n",
       "    <tr>\n",
       "      <th>18</th>\n",
       "      <td>reviews_per_month</td>\n",
       "      <td>13.178267</td>\n",
       "    </tr>\n",
       "    <tr>\n",
       "      <th>1</th>\n",
       "      <td>accommodates</td>\n",
       "      <td>11.510550</td>\n",
       "    </tr>\n",
       "    <tr>\n",
       "      <th>2</th>\n",
       "      <td>beds</td>\n",
       "      <td>11.419273</td>\n",
       "    </tr>\n",
       "    <tr>\n",
       "      <th>0</th>\n",
       "      <td>host_total_listings_count</td>\n",
       "      <td>10.119025</td>\n",
       "    </tr>\n",
       "    <tr>\n",
       "      <th>25</th>\n",
       "      <td>review_scores_avg</td>\n",
       "      <td>8.903998</td>\n",
       "    </tr>\n",
       "    <tr>\n",
       "      <th>21</th>\n",
       "      <td>bathrooms_num</td>\n",
       "      <td>7.483081</td>\n",
       "    </tr>\n",
       "    <tr>\n",
       "      <th>11</th>\n",
       "      <td>availability_365</td>\n",
       "      <td>7.416559</td>\n",
       "    </tr>\n",
       "    <tr>\n",
       "      <th>22</th>\n",
       "      <td>host_since_in_months</td>\n",
       "      <td>7.376835</td>\n",
       "    </tr>\n",
       "    <tr>\n",
       "      <th>6</th>\n",
       "      <td>maximum_minimum_nights</td>\n",
       "      <td>7.350505</td>\n",
       "    </tr>\n",
       "    <tr>\n",
       "      <th>13</th>\n",
       "      <td>number_of_reviews_ltm</td>\n",
       "      <td>6.894292</td>\n",
       "    </tr>\n",
       "    <tr>\n",
       "      <th>23</th>\n",
       "      <td>first_review_in_months</td>\n",
       "      <td>6.634141</td>\n",
       "    </tr>\n",
       "    <tr>\n",
       "      <th>12</th>\n",
       "      <td>number_of_reviews</td>\n",
       "      <td>5.292054</td>\n",
       "    </tr>\n",
       "    <tr>\n",
       "      <th>14</th>\n",
       "      <td>number_of_reviews_l30d</td>\n",
       "      <td>3.561036</td>\n",
       "    </tr>\n",
       "    <tr>\n",
       "      <th>4</th>\n",
       "      <td>maximum_nights</td>\n",
       "      <td>3.238414</td>\n",
       "    </tr>\n",
       "    <tr>\n",
       "      <th>24</th>\n",
       "      <td>last_review_in_months</td>\n",
       "      <td>2.846245</td>\n",
       "    </tr>\n",
       "    <tr>\n",
       "      <th>8</th>\n",
       "      <td>maximum_maximum_nights</td>\n",
       "      <td>2.512748</td>\n",
       "    </tr>\n",
       "    <tr>\n",
       "      <th>7</th>\n",
       "      <td>minimum_maximum_nights</td>\n",
       "      <td>2.510502</td>\n",
       "    </tr>\n",
       "    <tr>\n",
       "      <th>16</th>\n",
       "      <td>calculated_host_listings_count_private_rooms</td>\n",
       "      <td>1.475073</td>\n",
       "    </tr>\n",
       "    <tr>\n",
       "      <th>17</th>\n",
       "      <td>calculated_host_listings_count_shared_rooms</td>\n",
       "      <td>1.068481</td>\n",
       "    </tr>\n",
       "  </tbody>\n",
       "</table>\n",
       "</div>"
      ],
      "text/plain": [
       "                                       Predictor        VIF\n",
       "20                                 response_rate  53.423220\n",
       "19                               acceptance_rate  35.858145\n",
       "10                               availability_90  22.744131\n",
       "3                                 minimum_nights  17.553907\n",
       "5                         minimum_minimum_nights  16.347567\n",
       "26                             num_verifications  16.120216\n",
       "15   calculated_host_listings_count_entire_homes  15.278039\n",
       "9                                availability_30  14.041704\n",
       "18                             reviews_per_month  13.178267\n",
       "1                                   accommodates  11.510550\n",
       "2                                           beds  11.419273\n",
       "0                      host_total_listings_count  10.119025\n",
       "25                             review_scores_avg   8.903998\n",
       "21                                 bathrooms_num   7.483081\n",
       "11                              availability_365   7.416559\n",
       "22                          host_since_in_months   7.376835\n",
       "6                         maximum_minimum_nights   7.350505\n",
       "13                         number_of_reviews_ltm   6.894292\n",
       "23                        first_review_in_months   6.634141\n",
       "12                             number_of_reviews   5.292054\n",
       "14                        number_of_reviews_l30d   3.561036\n",
       "4                                 maximum_nights   3.238414\n",
       "24                         last_review_in_months   2.846245\n",
       "8                         maximum_maximum_nights   2.512748\n",
       "7                         minimum_maximum_nights   2.510502\n",
       "16  calculated_host_listings_count_private_rooms   1.475073\n",
       "17   calculated_host_listings_count_shared_rooms   1.068481"
      ]
     },
     "execution_count": 24,
     "metadata": {},
     "output_type": "execute_result"
    }
   ],
   "source": [
    "non_numeric_columns = train_filter_3.select_dtypes(exclude=[np.number]).columns\n",
    "data_numeric = train_filter_3.drop(columns=non_numeric_columns)\n",
    "\n",
    "X = data_numeric.drop(columns=['price', 'id', 'latitude', 'longitude'])\n",
    "y = data_numeric.price\n",
    "\n",
    "# Calculate VIF for each predictor\n",
    "vif = pd.DataFrame()\n",
    "vif[\"Predictor\"] = X.columns\n",
    "vif[\"VIF\"] = [variance_inflation_factor(X.values, i) for i in range(X.shape[1])]\n",
    "\n",
    "vif.sort_values('VIF', ascending=False)"
   ]
  },
  {
   "cell_type": "code",
   "execution_count": 25,
   "id": "9417a263",
   "metadata": {},
   "outputs": [],
   "source": [
    "from sklearn.model_selection import train_test_split, cross_val_score, cross_val_predict, cross_validate, GridSearchCV, GridSearchCV, RandomizedSearchCV, KFold, StratifiedKFold, RepeatedKFold, RepeatedStratifiedKFold\n",
    "from sklearn.preprocessing import StandardScaler, OneHotEncoder\n",
    "from sklearn.neighbors import KNeighborsRegressor, KNeighborsClassifier\n",
    "from sklearn.metrics import accuracy_score"
   ]
  },
  {
   "cell_type": "code",
   "execution_count": 26,
   "id": "dc2515cd",
   "metadata": {},
   "outputs": [],
   "source": [
    "numeric_columns = train_filter_2.select_dtypes(include=['number']).drop(columns=['price', 'id']).columns\n",
    "\n",
    "X_train = train_filter_2.drop(columns=['price', 'id'])\n",
    "X_test = test_filter_2.drop(columns=['id'])\n",
    "\n",
    "X_train_num = X_train[numeric_columns]\n",
    "y_train = train_filter_2.price\n",
    "\n",
    "sc = StandardScaler()\n",
    "sc.fit(X_train_num)\n",
    "\n",
    "X_train_scaled = sc.transform(X_train[numeric_columns])\n",
    "X_test_scaled = sc.transform(X_test[numeric_columns])\n",
    "\n",
    "X_train_num_scaled = pd.DataFrame(X_train_scaled, columns=numeric_columns)\n",
    "X_test_num_scaled = pd.DataFrame(X_test_scaled, columns=numeric_columns)"
   ]
  },
  {
   "cell_type": "code",
   "execution_count": 27,
   "id": "1d2f50a8",
   "metadata": {},
   "outputs": [],
   "source": [
    "train_testing = train_filter_2.drop(columns=['price']) \n",
    "test_testing = test_filter_2 \n",
    "\n",
    "train_testing_cat = train_testing.select_dtypes(exclude=['number'])\n",
    "test_testing_cat = test_testing.select_dtypes(exclude=['number'])"
   ]
  },
  {
   "cell_type": "code",
   "execution_count": 28,
   "id": "998cb3c6",
   "metadata": {
    "scrolled": true
   },
   "outputs": [],
   "source": [
    "enc = OneHotEncoder(drop='if_binary', handle_unknown='ignore')\n",
    "enc.fit(train_testing_cat)\n",
    "\n",
    "drop_enc = enc.transform(train_testing_cat)\n",
    "drop_enc_test = enc.transform(test_testing_cat)\n",
    "\n",
    "train_encoded_df = pd.DataFrame(drop_enc.toarray(), columns=enc.get_feature_names_out(train_testing_cat.columns))\n",
    "test_encoded_df = pd.DataFrame(drop_enc_test.toarray(), columns=enc.get_feature_names_out(test_testing_cat.columns))\n",
    "\n",
    "keep_cols = [col for col in train_encoded_df.columns if 'Other' not in col]\n",
    "keep_cols_test = [col for col in test_encoded_df.columns if 'Other' not in col]\n",
    "\n",
    "train_encoded_df = train_encoded_df[keep_cols]\n",
    "test_encoded_df = test_encoded_df[keep_cols_test]\n",
    "\n",
    "X_train_final = pd.concat([X_train_num_scaled, train_encoded_df], axis=1)\n",
    "X_test_final = pd.concat([X_test_num_scaled, test_encoded_df], axis=1)"
   ]
  },
  {
   "cell_type": "markdown",
   "id": "f6586def",
   "metadata": {},
   "source": [
    "### Model Creation"
   ]
  },
  {
   "cell_type": "markdown",
   "id": "f9dd8f17",
   "metadata": {},
   "source": [
    "#### Number of Trees"
   ]
  },
  {
   "cell_type": "code",
   "execution_count": 87,
   "id": "def9d5f8",
   "metadata": {},
   "outputs": [],
   "source": [
    "warnings.filterwarnings(\"ignore\")\n",
    "oob_rsquared={}\n",
    "oob_rmse={}\n",
    "\n",
    "for i in np.linspace(10, 200, 40, dtype=int):\n",
    "    model = BaggingRegressor(estimator=DecisionTreeRegressor(random_state=1), n_estimators=i, random_state=1,\n",
    "                        n_jobs=-1, oob_score=True).fit(X_train_final, y_train)\n",
    "    \n",
    "    oob_rsquared[i]=model.oob_score_ \n",
    "    oob_rmse[i]=np.sqrt(mean_squared_error(model.oob_prediction_, y_train))\n"
   ]
  },
  {
   "cell_type": "code",
   "execution_count": 88,
   "id": "8822cdc5",
   "metadata": {},
   "outputs": [
    {
     "data": {
      "image/png": "[encoded data removed]",
      "text/plain": [
       "<Figure size 640x480 with 1 Axes>"
      ]
     },
     "metadata": {},
     "output_type": "display_data"
    }
   ],
   "source": [
    "plt.rcParams.update({'font.size': 15})\n",
    "plt.figure(figsize=(8, 6), dpi=80)\n",
    "plt.plot(oob_rmse.keys(),oob_rmse.values(),label = 'Out of bag RMSE')\n",
    "plt.plot(oob_rmse.keys(),oob_rmse.values(),'o',color = 'blue')\n",
    "plt.grid()\n",
    "plt.xlabel('Number of trees')\n",
    "plt.ylabel('RMSE')\n",
    "plt.legend()\n",
    "plt.show()"
   ]
  },
  {
   "cell_type": "markdown",
   "id": "f254fa7b",
   "metadata": {},
   "source": [
    "### Predictor selection with feature importances"
   ]
  },
  {
   "cell_type": "code",
   "execution_count": 29,
   "id": "ea1b85c9",
   "metadata": {},
   "outputs": [
    {
     "name": "stdout",
     "output_type": "stream",
     "text": [
      "Fitting 5 folds for each of 36 candidates, totalling 180 fits\n"
     ]
    },
    {
     "data": {
      "text/html": [
       "<style>#sk-container-id-1 {color: black;}#sk-container-id-1 pre{padding: 0;}#sk-container-id-1 div.sk-toggleable {background-color: white;}#sk-container-id-1 label.sk-toggleable__label {cursor: pointer;display: block;width: 100%;margin-bottom: 0;padding: 0.3em;box-sizing: border-box;text-align: center;}#sk-container-id-1 label.sk-toggleable__label-arrow:before {content: \"▸\";float: left;margin-right: 0.25em;color: #696969;}#sk-container-id-1 label.sk-toggleable__label-arrow:hover:before {color: black;}#sk-container-id-1 div.sk-estimator:hover label.sk-toggleable__label-arrow:before {color: black;}#sk-container-id-1 div.sk-toggleable__content {max-height: 0;max-width: 0;overflow: hidden;text-align: left;background-color: #f0f8ff;}#sk-container-id-1 div.sk-toggleable__content pre {margin: 0.2em;color: black;border-radius: 0.25em;background-color: #f0f8ff;}#sk-container-id-1 input.sk-toggleable__control:checked~div.sk-toggleable__content {max-height: 200px;max-width: 100%;overflow: auto;}#sk-container-id-1 input.sk-toggleable__control:checked~label.sk-toggleable__label-arrow:before {content: \"▾\";}#sk-container-id-1 div.sk-estimator input.sk-toggleable__control:checked~label.sk-toggleable__label {background-color: #d4ebff;}#sk-container-id-1 div.sk-label input.sk-toggleable__control:checked~label.sk-toggleable__label {background-color: #d4ebff;}#sk-container-id-1 input.sk-hidden--visually {border: 0;clip: rect(1px 1px 1px 1px);clip: rect(1px, 1px, 1px, 1px);height: 1px;margin: -1px;overflow: hidden;padding: 0;position: absolute;width: 1px;}#sk-container-id-1 div.sk-estimator {font-family: monospace;background-color: #f0f8ff;border: 1px dotted black;border-radius: 0.25em;box-sizing: border-box;margin-bottom: 0.5em;}#sk-container-id-1 div.sk-estimator:hover {background-color: #d4ebff;}#sk-container-id-1 div.sk-parallel-item::after {content: \"\";width: 100%;border-bottom: 1px solid gray;flex-grow: 1;}#sk-container-id-1 div.sk-label:hover label.sk-toggleable__label {background-color: #d4ebff;}#sk-container-id-1 div.sk-serial::before {content: \"\";position: absolute;border-left: 1px solid gray;box-sizing: border-box;top: 0;bottom: 0;left: 50%;z-index: 0;}#sk-container-id-1 div.sk-serial {display: flex;flex-direction: column;align-items: center;background-color: white;padding-right: 0.2em;padding-left: 0.2em;position: relative;}#sk-container-id-1 div.sk-item {position: relative;z-index: 1;}#sk-container-id-1 div.sk-parallel {display: flex;align-items: stretch;justify-content: center;background-color: white;position: relative;}#sk-container-id-1 div.sk-item::before, #sk-container-id-1 div.sk-parallel-item::before {content: \"\";position: absolute;border-left: 1px solid gray;box-sizing: border-box;top: 0;bottom: 0;left: 50%;z-index: -1;}#sk-container-id-1 div.sk-parallel-item {display: flex;flex-direction: column;z-index: 1;position: relative;background-color: white;}#sk-container-id-1 div.sk-parallel-item:first-child::after {align-self: flex-end;width: 50%;}#sk-container-id-1 div.sk-parallel-item:last-child::after {align-self: flex-start;width: 50%;}#sk-container-id-1 div.sk-parallel-item:only-child::after {width: 0;}#sk-container-id-1 div.sk-dashed-wrapped {border: 1px dashed gray;margin: 0 0.4em 0.5em 0.4em;box-sizing: border-box;padding-bottom: 0.4em;background-color: white;}#sk-container-id-1 div.sk-label label {font-family: monospace;font-weight: bold;display: inline-block;line-height: 1.2em;}#sk-container-id-1 div.sk-label-container {text-align: center;}#sk-container-id-1 div.sk-container {/* jupyter's `normalize.less` sets `[hidden] { display: none; }` but bootstrap.min.css set `[hidden] { display: none !important; }` so we also need the `!important` here to be able to override the default hidden behavior on the sphinx rendered scikit-learn.org. See: https://github.com/scikit-learn/scikit-learn/issues/21755 */display: inline-block !important;position: relative;}#sk-container-id-1 div.sk-text-repr-fallback {display: none;}</style><div id=\"sk-container-id-1\" class=\"sk-top-container\"><div class=\"sk-text-repr-fallback\"><pre>GridSearchCV(cv=StratifiedKFold(n_splits=5, random_state=1, shuffle=True),\n",
       "             estimator=RandomForestRegressor(n_estimators=120, random_state=1),\n",
       "             n_jobs=4,\n",
       "             param_grid={&#x27;bootstrap&#x27;: [True, False],\n",
       "                         &#x27;max_features&#x27;: array([0.18, 0.19, 0.2 ]),\n",
       "                         &#x27;max_samples&#x27;: array([0.85, 0.86, 0.87, 0.88, 0.89, 0.9 ])},\n",
       "             verbose=2)</pre><b>In a Jupyter environment, please rerun this cell to show the HTML representation or trust the notebook. <br />On GitHub, the HTML representation is unable to render, please try loading this page with nbviewer.org.</b></div><div class=\"sk-container\" hidden><div class=\"sk-item sk-dashed-wrapped\"><div class=\"sk-label-container\"><div class=\"sk-label sk-toggleable\"><input class=\"sk-toggleable__control sk-hidden--visually\" id=\"sk-estimator-id-1\" type=\"checkbox\" ><label for=\"sk-estimator-id-1\" class=\"sk-toggleable__label sk-toggleable__label-arrow\">GridSearchCV</label><div class=\"sk-toggleable__content\"><pre>GridSearchCV(cv=StratifiedKFold(n_splits=5, random_state=1, shuffle=True),\n",
       "             estimator=RandomForestRegressor(n_estimators=120, random_state=1),\n",
       "             n_jobs=4,\n",
       "             param_grid={&#x27;bootstrap&#x27;: [True, False],\n",
       "                         &#x27;max_features&#x27;: array([0.18, 0.19, 0.2 ]),\n",
       "                         &#x27;max_samples&#x27;: array([0.85, 0.86, 0.87, 0.88, 0.89, 0.9 ])},\n",
       "             verbose=2)</pre></div></div></div><div class=\"sk-parallel\"><div class=\"sk-parallel-item\"><div class=\"sk-item\"><div class=\"sk-label-container\"><div class=\"sk-label sk-toggleable\"><input class=\"sk-toggleable__control sk-hidden--visually\" id=\"sk-estimator-id-2\" type=\"checkbox\" ><label for=\"sk-estimator-id-2\" class=\"sk-toggleable__label sk-toggleable__label-arrow\">estimator: RandomForestRegressor</label><div class=\"sk-toggleable__content\"><pre>RandomForestRegressor(n_estimators=120, random_state=1)</pre></div></div></div><div class=\"sk-serial\"><div class=\"sk-item\"><div class=\"sk-estimator sk-toggleable\"><input class=\"sk-toggleable__control sk-hidden--visually\" id=\"sk-estimator-id-3\" type=\"checkbox\" ><label for=\"sk-estimator-id-3\" class=\"sk-toggleable__label sk-toggleable__label-arrow\">RandomForestRegressor</label><div class=\"sk-toggleable__content\"><pre>RandomForestRegressor(n_estimators=120, random_state=1)</pre></div></div></div></div></div></div></div></div></div></div>"
      ],
      "text/plain": [
       "GridSearchCV(cv=StratifiedKFold(n_splits=5, random_state=1, shuffle=True),\n",
       "             estimator=RandomForestRegressor(n_estimators=120, random_state=1),\n",
       "             n_jobs=4,\n",
       "             param_grid={'bootstrap': [True, False],\n",
       "                         'max_features': array([0.18, 0.19, 0.2 ]),\n",
       "                         'max_samples': array([0.85, 0.86, 0.87, 0.88, 0.89, 0.9 ])},\n",
       "             verbose=2)"
      ]
     },
     "execution_count": 29,
     "metadata": {},
     "output_type": "execute_result"
    }
   ],
   "source": [
    "warnings.filterwarnings(\"ignore\")\n",
    "rand_forest = RandomForestRegressor(random_state=1, n_estimators=120)\n",
    "\n",
    "grid = {\n",
    "    'max_samples': np.arange(0.85, 0.905, 0.01),\n",
    "    'max_features': np.arange(0.18, 0.21, 0.01),\n",
    "    'bootstrap': [True, False]\n",
    "}\n",
    "\n",
    "cv_settings = StratifiedKFold(n_splits=5, shuffle=True, random_state=1)\n",
    "gscv_forest_3 = GridSearchCV(rand_forest, grid, verbose=2, cv=cv_settings, n_jobs=4)\n",
    "gscv_forest_3.fit(X_train_final, y_train)\n"
   ]
  },
  {
   "cell_type": "code",
   "execution_count": 30,
   "id": "988a5262",
   "metadata": {},
   "outputs": [
    {
     "data": {
      "text/html": [
       "<div>\n",
       "<style scoped>\n",
       "    .dataframe tbody tr th:only-of-type {\n",
       "        vertical-align: middle;\n",
       "    }\n",
       "\n",
       "    .dataframe tbody tr th {\n",
       "        vertical-align: top;\n",
       "    }\n",
       "\n",
       "    .dataframe thead th {\n",
       "        text-align: right;\n",
       "    }\n",
       "</style>\n",
       "<table border=\"1\" class=\"dataframe\">\n",
       "  <thead>\n",
       "    <tr style=\"text-align: right;\">\n",
       "      <th></th>\n",
       "      <th>Predictors</th>\n",
       "      <th>Importances</th>\n",
       "    </tr>\n",
       "  </thead>\n",
       "  <tbody>\n",
       "    <tr>\n",
       "      <th>4</th>\n",
       "      <td>accommodates</td>\n",
       "      <td>1.505792e-01</td>\n",
       "    </tr>\n",
       "    <tr>\n",
       "      <th>28</th>\n",
       "      <td>bathrooms_num</td>\n",
       "      <td>1.413450e-01</td>\n",
       "    </tr>\n",
       "    <tr>\n",
       "      <th>5</th>\n",
       "      <td>beds</td>\n",
       "      <td>7.895064e-02</td>\n",
       "    </tr>\n",
       "    <tr>\n",
       "      <th>72</th>\n",
       "      <td>host_neighbourhood_Clearwater Beach</td>\n",
       "      <td>2.918900e-02</td>\n",
       "    </tr>\n",
       "    <tr>\n",
       "      <th>25</th>\n",
       "      <td>reviews_per_month</td>\n",
       "      <td>2.665469e-02</td>\n",
       "    </tr>\n",
       "    <tr>\n",
       "      <th>...</th>\n",
       "      <td>...</td>\n",
       "      <td>...</td>\n",
       "    </tr>\n",
       "    <tr>\n",
       "      <th>123</th>\n",
       "      <td>host_neighbourhood_Oakland</td>\n",
       "      <td>2.258742e-06</td>\n",
       "    </tr>\n",
       "    <tr>\n",
       "      <th>104</th>\n",
       "      <td>host_neighbourhood_Little Village</td>\n",
       "      <td>1.643359e-06</td>\n",
       "    </tr>\n",
       "    <tr>\n",
       "      <th>60</th>\n",
       "      <td>host_neighbourhood_Belmont Gardens</td>\n",
       "      <td>1.372578e-06</td>\n",
       "    </tr>\n",
       "    <tr>\n",
       "      <th>80</th>\n",
       "      <td>host_neighbourhood_East Side</td>\n",
       "      <td>1.079807e-06</td>\n",
       "    </tr>\n",
       "    <tr>\n",
       "      <th>141</th>\n",
       "      <td>host_neighbourhood_Sheridan Park</td>\n",
       "      <td>4.828737e-07</td>\n",
       "    </tr>\n",
       "  </tbody>\n",
       "</table>\n",
       "<p>205 rows × 2 columns</p>\n",
       "</div>"
      ],
      "text/plain": [
       "                              Predictors   Importances\n",
       "4                           accommodates  1.505792e-01\n",
       "28                         bathrooms_num  1.413450e-01\n",
       "5                                   beds  7.895064e-02\n",
       "72   host_neighbourhood_Clearwater Beach  2.918900e-02\n",
       "25                     reviews_per_month  2.665469e-02\n",
       "..                                   ...           ...\n",
       "123           host_neighbourhood_Oakland  2.258742e-06\n",
       "104    host_neighbourhood_Little Village  1.643359e-06\n",
       "60    host_neighbourhood_Belmont Gardens  1.372578e-06\n",
       "80          host_neighbourhood_East Side  1.079807e-06\n",
       "141     host_neighbourhood_Sheridan Park  4.828737e-07\n",
       "\n",
       "[205 rows x 2 columns]"
      ]
     },
     "execution_count": 30,
     "metadata": {},
     "output_type": "execute_result"
    }
   ],
   "source": [
    "pred_f_i = pd.DataFrame({'Predictors':gscv_forest_3.best_estimator_.feature_names_in_, 'Importances': gscv_forest_3.best_estimator_.feature_importances_}).sort_values('Importances', ascending=False)\n",
    "\n",
    "pred_f_i_num = pred_f_i[pred_f_i['Predictors'].isin(numeric_columns)].reset_index(drop=True)\n",
    "pred_f_i_cat = pred_f_i[~pred_f_i['Predictors'].isin(numeric_columns)].reset_index(drop=True)\n",
    "pred_f_i"
   ]
  },
  {
   "cell_type": "code",
   "execution_count": 31,
   "id": "e5811968",
   "metadata": {
    "scrolled": true
   },
   "outputs": [
    {
     "name": "stdout",
     "output_type": "stream",
     "text": [
      "113.13860249223835 0\n",
      "113.13860249223835 2\n",
      "113.13860249223835 4\n",
      "113.13860249223835 6\n",
      "113.13860249223835 8\n",
      "113.13860249223835 10\n",
      "113.13860249223835 12\n",
      "113.13860249223835 14\n",
      "113.13860249223835 16\n",
      "113.13860249223835 18\n",
      "113.13860249223835 20\n",
      "113.13860249223835 22\n",
      "113.13860249223835 24\n",
      "113.13860249223835 26\n",
      "113.13860249223835 28\n",
      "113.13860249223835 30\n",
      "113.13860249223835 32\n",
      "113.13860249223835 34\n",
      "113.13860249223835 36\n",
      "113.13860249223835 38\n",
      "113.13860249223835 40\n",
      "113.13860249223835 42\n",
      "113.13860249223835 44\n",
      "113.13860249223835 46\n",
      "113.13860249223835 48\n",
      "113.13860249223835 50\n",
      "113.13860249223835 52\n",
      "113.13860249223835 54\n",
      "113.13860249223835 56\n",
      "113.13860249223835 58\n",
      "113.13860249223835 60\n",
      "113.13860249223835 62\n",
      "113.13860249223835 64\n",
      "113.13860249223835 66\n",
      "113.13860249223835 68\n",
      "113.13860249223835 70\n",
      "113.13860249223835 72\n",
      "113.13860249223835 74\n",
      "113.13860249223835 76\n",
      "113.13860249223835 78\n",
      "113.13860249223835 80\n",
      "113.13860249223835 82\n",
      "113.13860249223835 84\n",
      "113.13860249223835 86\n",
      "113.13860249223835 88\n",
      "113.13860249223835 90\n",
      "113.13860249223835 92\n",
      "113.13860249223835 94\n",
      "113.13860249223835 96\n",
      "113.13860249223835 98\n",
      "113.13860249223835 100\n",
      "113.13860249223835 102\n",
      "113.13860249223835 104\n",
      "113.13860249223835 106\n",
      "113.13860249223835 108\n",
      "113.13860249223835 110\n",
      "113.13860249223835 112\n",
      "113.13860249223835 114\n",
      "113.13860249223835 116\n",
      "113.13860249223835 118\n",
      "113.13860249223835 120\n",
      "113.13860249223835 122\n",
      "113.13860249223835 124\n",
      "113.13860249223835 126\n",
      "113.13860249223835 128\n",
      "113.13860249223835 130\n",
      "113.13860249223835 132\n",
      "113.13860249223835 134\n",
      "113.13860249223835 136\n",
      "113.13860249223835 138\n",
      "113.13860249223835 140\n",
      "113.13860249223835 142\n",
      "113.13860249223835 144\n",
      "113.13860249223835 146\n",
      "113.13860249223835 148\n",
      "113.13860249223835 150\n",
      "113.13860249223835 152\n",
      "113.13860249223835 154\n",
      "113.13860249223835 156\n",
      "113.13860249223835 158\n",
      "113.13860249223835 160\n",
      "113.13860249223835 162\n",
      "113.13860249223835 164\n",
      "113.13860249223835 166\n",
      "113.13860249223835 168\n",
      "113.13860249223835 170\n",
      "113.13860249223835 172\n",
      "113.13860249223835 174\n",
      "113.13860249223835 176\n",
      "113.13860249223835 178\n",
      "113.13860249223835 180\n",
      "113.13860249223835 182\n",
      "113.13860249223835 184\n",
      "113.13860249223835 186\n",
      "113.13860249223835 188\n",
      "113.13860249223835 190\n",
      "113.13860249223835 192\n",
      "113.13860249223835 194\n",
      "113.13860249223835 196\n",
      "113.13860249223835 198\n",
      "113.13860249223835 200\n",
      "113.13860249223835 202\n"
     ]
    }
   ],
   "source": [
    "temp_f_i_num = pred_f_i #[-34:]  # _num\n",
    "scores_len_df = pd.DataFrame(columns=['score', 'diff', 'cut-off'])\n",
    "break_ = 0\n",
    "\n",
    "while len(temp_f_i_num) > 1:\n",
    "    df_len = len(temp_f_i_num)\n",
    "    curr_preds = list(temp_f_i_num['Predictors'])\n",
    "    subset_X_train = X_train_final[curr_preds]  # X_train_final[curr_preds]\n",
    "    subset_X_test = X_train_final[curr_preds]  # X_test[curr_preds]\n",
    "    \n",
    "    f_i_model = RandomForestRegressor(random_state=1, n_estimators=120, max_features=0.15, max_samples=0.9, bootstrap=True, n_jobs=-1) #.fit(subset_X_train, temp_y_train)\n",
    "    \n",
    "    mean_cv_score = np.mean(cross_val_score(f_i_model, X_train_final, y_train, cv=3, scoring='neg_root_mean_squared_error'))\n",
    "    rmse_cv_score = cross_val_predict(f_i_model, X_train_final, y_train, cv=3) \n",
    "    \n",
    "    scores_len_df.loc[df_len, 'score'] = -mean_cv_score \n",
    "    try:\n",
    "        scores_len_df.loc[df_len, 'diff'] = (-mean_cv_score - last_cv_score)\n",
    "    except:\n",
    "        scores_len_df.loc[df_len, 'diff'] = None\n",
    "    scores_len_df.loc[df_len, 'cut-off'] = break_\n",
    "    \n",
    "    print(scores_len_df.loc[df_len, 'score'], scores_len_df.loc[df_len, 'cut-off'])\n",
    "    \n",
    "    last_cv_score = -mean_cv_score\n",
    "    break_ += 2\n",
    "    temp_f_i_num = temp_f_i_num.iloc[:-2, :]\n"
   ]
  },
  {
   "cell_type": "code",
   "execution_count": 32,
   "id": "4d8c85b5",
   "metadata": {},
   "outputs": [],
   "source": [
    "keep_predictors = [col for col in list(pred_f_i.iloc[:-8, :]['Predictors']) if 'Other' not in col]\n",
    "\n",
    "X_train_final = X_train_final[keep_predictors]\n",
    "X_test_final = X_test_final[keep_predictors]\n"
   ]
  },
  {
   "cell_type": "markdown",
   "id": "730eaefd",
   "metadata": {},
   "source": [
    "## 2) Hyperparameter tuning"
   ]
  },
  {
   "cell_type": "markdown",
   "id": "7f9b39b7",
   "metadata": {},
   "source": [
    "### How many attempts did it take you to tune the model hyperparameters?"
   ]
  },
  {
   "cell_type": "markdown",
   "id": "d4e33d51",
   "metadata": {},
   "source": [
    "Total, including fixing some errors, I took 38 attempts to tune the hyperparameters (combined for both models and including predictor selection."
   ]
  },
  {
   "cell_type": "markdown",
   "id": "5a6f50fd",
   "metadata": {},
   "source": [
    "### Which tuning method did you use (grid search / Bayes search / etc.)?"
   ]
  },
  {
   "cell_type": "markdown",
   "id": "43ea3666",
   "metadata": {},
   "source": [
    "I used grid search for the initial tuning of the model. For bagging I additionally performed Bayes to see if it could further narrow in on opitmal hyperparameters."
   ]
  },
  {
   "cell_type": "markdown",
   "id": "9a0da667",
   "metadata": {},
   "source": [
    "### What challenges did you face while tuning the hyperparameters, and what actions did you take to address those challenges?"
   ]
  },
  {
   "cell_type": "markdown",
   "id": "cbe8149e",
   "metadata": {},
   "source": [
    "Predictor selection with the VIF posed a challenge, there was a lot of trial and error with cross val scores in order to determine the importance threshold for predictors."
   ]
  },
  {
   "cell_type": "markdown",
   "id": "4f26daac",
   "metadata": {},
   "source": [
    "### How many hours did you spend on hyperparameter tuning?"
   ]
  },
  {
   "cell_type": "markdown",
   "id": "e4fd7d10",
   "metadata": {},
   "source": [
    "I probably spent around 15 hours on the tuning of these models."
   ]
  },
  {
   "cell_type": "markdown",
   "id": "0ba4abb9",
   "metadata": {},
   "source": [
    "**Paste the hyperparameter tuning code below. You must show at least one hyperparameter tuning procedure.**"
   ]
  },
  {
   "cell_type": "markdown",
   "id": "4a8b4642",
   "metadata": {},
   "source": [
    "### Bagging"
   ]
  },
  {
   "cell_type": "code",
   "execution_count": 33,
   "id": "e7ae162d",
   "metadata": {},
   "outputs": [],
   "source": [
    "coarse_cv_settings = KFold(n_splits=3, shuffle=True, random_state=1)\n",
    "fine_cv_settings = KFold(n_splits=5, shuffle=True, random_state=1)"
   ]
  },
  {
   "cell_type": "code",
   "execution_count": 48,
   "id": "ceeeeb11",
   "metadata": {
    "scrolled": true
   },
   "outputs": [
    {
     "data": {
      "text/plain": [
       "(-110.50323569271043, {'max_features': 0.7, 'max_samples': 0.75})"
      ]
     },
     "execution_count": 48,
     "metadata": {},
     "output_type": "execute_result"
    }
   ],
   "source": [
    "base_bag_model = BaggingRegressor(estimator=DecisionTreeRegressor(random_state=1), bootstrap=False, bootstrap_features=True, n_estimators=100, random_state=1, n_jobs=-1)\n",
    "\n",
    "params = {\n",
    "    'max_features': [0.65, 0.7, 0.75, 0.8, 0.85],\n",
    "    'max_samples': np.arange(0.75, 0.95, 0.05)\n",
    "}\n",
    "\n",
    "model_ultra_fine = GridSearchCV(base_bag_model, params, verbose=2, n_jobs=-1, cv=fine_cv_settings, scoring='neg_root_mean_squared_error')\n",
    "model_ultra_fine.fit(X_train_final, y_train)\n",
    "\n",
    "model_ultra_fine.best_score_, model_ultra_fine.best_params_"
   ]
  },
  {
   "cell_type": "code",
   "execution_count": 35,
   "id": "f66feb36",
   "metadata": {},
   "outputs": [
    {
     "name": "stdout",
     "output_type": "stream",
     "text": [
      "{'max_features': 0.7, 'max_samples': 0.75}\n",
      "-110.50323569271043\n"
     ]
    }
   ],
   "source": [
    "print(model_ultra_fine.best_params_)\n",
    "print(model_ultra_fine.best_score_)\n",
    "best_max_feat = model_ultra_fine.best_params_['max_features']\n",
    "best_max_samples = model_ultra_fine.best_params_['max_samples']\n"
   ]
  },
  {
   "cell_type": "markdown",
   "id": "2e55c981",
   "metadata": {},
   "source": [
    "#### Bagging Bayes search"
   ]
  },
  {
   "cell_type": "code",
   "execution_count": 43,
   "id": "82bd95d7",
   "metadata": {
    "scrolled": true
   },
   "outputs": [],
   "source": [
    "from skopt import BayesSearchCV\n",
    "from skopt.space import Real, Categorical, Integer"
   ]
  },
  {
   "cell_type": "code",
   "execution_count": 37,
   "id": "8b9b9e11",
   "metadata": {
    "scrolled": true
   },
   "outputs": [
    {
     "name": "stdout",
     "output_type": "stream",
     "text": [
      "Fitting 3 folds for each of 1 candidates, totalling 3 fits\n",
      "Fitting 3 folds for each of 1 candidates, totalling 3 fits\n",
      "Fitting 3 folds for each of 1 candidates, totalling 3 fits\n",
      "Fitting 3 folds for each of 1 candidates, totalling 3 fits\n",
      "Fitting 3 folds for each of 1 candidates, totalling 3 fits\n",
      "Fitting 3 folds for each of 1 candidates, totalling 3 fits\n",
      "Fitting 3 folds for each of 1 candidates, totalling 3 fits\n",
      "Fitting 3 folds for each of 1 candidates, totalling 3 fits\n",
      "Fitting 3 folds for each of 1 candidates, totalling 3 fits\n",
      "Fitting 3 folds for each of 1 candidates, totalling 3 fits\n",
      "Fitting 3 folds for each of 1 candidates, totalling 3 fits\n",
      "Fitting 3 folds for each of 1 candidates, totalling 3 fits\n",
      "Fitting 3 folds for each of 1 candidates, totalling 3 fits\n",
      "Fitting 3 folds for each of 1 candidates, totalling 3 fits\n",
      "Fitting 3 folds for each of 1 candidates, totalling 3 fits\n",
      "Fitting 3 folds for each of 1 candidates, totalling 3 fits\n",
      "Fitting 3 folds for each of 1 candidates, totalling 3 fits\n",
      "Fitting 3 folds for each of 1 candidates, totalling 3 fits\n",
      "Fitting 3 folds for each of 1 candidates, totalling 3 fits\n",
      "Fitting 3 folds for each of 1 candidates, totalling 3 fits\n",
      "Fitting 3 folds for each of 1 candidates, totalling 3 fits\n",
      "Fitting 3 folds for each of 1 candidates, totalling 3 fits\n",
      "Fitting 3 folds for each of 1 candidates, totalling 3 fits\n",
      "Fitting 3 folds for each of 1 candidates, totalling 3 fits\n",
      "Fitting 3 folds for each of 1 candidates, totalling 3 fits\n",
      "Fitting 3 folds for each of 1 candidates, totalling 3 fits\n",
      "Fitting 3 folds for each of 1 candidates, totalling 3 fits\n",
      "Fitting 3 folds for each of 1 candidates, totalling 3 fits\n",
      "Fitting 3 folds for each of 1 candidates, totalling 3 fits\n",
      "Fitting 3 folds for each of 1 candidates, totalling 3 fits\n",
      "Fitting 3 folds for each of 1 candidates, totalling 3 fits\n",
      "Fitting 3 folds for each of 1 candidates, totalling 3 fits\n",
      "Fitting 3 folds for each of 1 candidates, totalling 3 fits\n",
      "Fitting 3 folds for each of 1 candidates, totalling 3 fits\n",
      "Fitting 3 folds for each of 1 candidates, totalling 3 fits\n",
      "Fitting 3 folds for each of 1 candidates, totalling 3 fits\n",
      "Fitting 3 folds for each of 1 candidates, totalling 3 fits\n",
      "Fitting 3 folds for each of 1 candidates, totalling 3 fits\n",
      "Fitting 3 folds for each of 1 candidates, totalling 3 fits\n",
      "Fitting 3 folds for each of 1 candidates, totalling 3 fits\n",
      "Fitting 3 folds for each of 1 candidates, totalling 3 fits\n",
      "Fitting 3 folds for each of 1 candidates, totalling 3 fits\n",
      "Fitting 3 folds for each of 1 candidates, totalling 3 fits\n",
      "Fitting 3 folds for each of 1 candidates, totalling 3 fits\n",
      "Fitting 3 folds for each of 1 candidates, totalling 3 fits\n",
      "Fitting 3 folds for each of 1 candidates, totalling 3 fits\n",
      "Fitting 3 folds for each of 1 candidates, totalling 3 fits\n",
      "Fitting 3 folds for each of 1 candidates, totalling 3 fits\n",
      "Fitting 3 folds for each of 1 candidates, totalling 3 fits\n",
      "Fitting 3 folds for each of 1 candidates, totalling 3 fits\n",
      "-112.95984896479422 OrderedDict([('bootstrap', False), ('bootstrap_features', True), ('max_features', 0.8), ('max_samples', 0.75)])\n"
     ]
    }
   ],
   "source": [
    "bag_bayes_base = BaggingRegressor(estimator=DecisionTreeRegressor(random_state=1), n_estimators=100, random_state=1, n_jobs=-1)\n",
    "\n",
    "search_space = {\n",
    "    'bootstrap': [True, False],\n",
    "    'bootstrap_features': [True, False],\n",
    "    'max_features': [0.65, 0.7, 0.75, 0.8, 0.85],\n",
    "    'max_samples': np.arange(0.75, 0.95, 0.05)\n",
    "}\n",
    "\n",
    "opt = BayesSearchCV(\n",
    "    estimator=bag_bayes_base,\n",
    "    search_spaces=search_space,\n",
    "    n_iter=50, \n",
    "    cv=3,\n",
    "    scoring='neg_root_mean_squared_error',\n",
    "    n_jobs=-1,\n",
    "    verbose=2,\n",
    "    random_state=1\n",
    ")\n",
    "\n",
    "opt.fit(X_train_final, y_train)\n",
    "\n",
    "print(opt.best_score_, opt.best_params_)"
   ]
  },
  {
   "cell_type": "markdown",
   "id": "5b42de69",
   "metadata": {},
   "source": [
    "### RandomForest"
   ]
  },
  {
   "cell_type": "code",
   "execution_count": 39,
   "id": "7b5c38ca",
   "metadata": {
    "scrolled": true
   },
   "outputs": [
    {
     "name": "stdout",
     "output_type": "stream",
     "text": [
      "0.6360530638952503 {'bootstrap': True, 'max_features': 0.2, 'max_samples': 0.7999999999999999}\n"
     ]
    }
   ],
   "source": [
    "rand_forest = RandomForestRegressor(random_state=1, n_estimators=120)\n",
    "\n",
    "grid = {\n",
    "    'max_samples': np.arange(0.5, 1.0, 0.1),\n",
    "    'max_features': np.arange(0.0, 1.0, 0.1),\n",
    "    'bootstrap': [True, False]\n",
    "}\n",
    "\n",
    "cv_settings = StratifiedKFold(n_splits=3, shuffle=True, random_state=1)\n",
    "gscv_forest = GridSearchCV(rand_forest, grid, verbose=2, cv=cv_settings, n_jobs=-1)\n",
    "gscv_forest.fit(X_train_final, y_train)\n",
    "\n",
    "print(gscv_forest.best_score_, gscv_forest.best_params_)"
   ]
  },
  {
   "cell_type": "code",
   "execution_count": 40,
   "id": "96942efa",
   "metadata": {},
   "outputs": [
    {
     "name": "stdout",
     "output_type": "stream",
     "text": [
      "Fitting 3 folds for each of 40 candidates, totalling 120 fits\n",
      "0.6381429549974579 {'bootstrap': True, 'max_features': 0.15000000000000002, 'max_samples': 0.8500000000000001}\n"
     ]
    }
   ],
   "source": [
    "grid = {\n",
    "    'max_samples': np.arange(0.8, 1.01, 0.05),\n",
    "    'max_features': np.arange(0.10, 0.26, 0.05),\n",
    "    'bootstrap': [True, False]\n",
    "}\n",
    "\n",
    "\n",
    "rand_forest = RandomForestRegressor(random_state=1, n_estimators=120)\n",
    "cv_settings = StratifiedKFold(n_splits=3, shuffle=True, random_state=1)\n",
    "gscv_forest_2 = GridSearchCV(rand_forest, grid, verbose=2, cv=cv_settings, n_jobs=4)\n",
    "gscv_forest_2.fit(X_train_final, y_train)\n",
    "\n",
    "print(gscv_forest_2.best_score_, gscv_forest_2.best_params_)\n"
   ]
  },
  {
   "cell_type": "code",
   "execution_count": 44,
   "id": "ecf01740",
   "metadata": {},
   "outputs": [
    {
     "name": "stdout",
     "output_type": "stream",
     "text": [
      "Fitting 3 folds for each of 126 candidates, totalling 378 fits\n"
     ]
    }
   ],
   "source": [
    "rand_forest = RandomForestRegressor(random_state=1, n_estimators=120)\n",
    "\n",
    "grid = {\n",
    "    'max_samples': np.arange(0.94, 1.005, 0.01),\n",
    "    'max_features': np.arange(0.12, 0.205, 0.01),\n",
    "    'bootstrap': [True, False]\n",
    "}\n",
    "\n",
    "cv_settings = StratifiedKFold(n_splits=3, shuffle=True, random_state=1)\n",
    "gscv_forest_4 = GridSearchCV(rand_forest, grid, verbose=2, cv=cv_settings, n_jobs=-1)\n",
    "gscv_forest_4.fit(X_train_final, y_train)\n",
    "\n",
    "best_f_params = gscv_forest_4.best_params_"
   ]
  },
  {
   "cell_type": "code",
   "execution_count": 45,
   "id": "bc17c8bd",
   "metadata": {},
   "outputs": [
    {
     "name": "stdout",
     "output_type": "stream",
     "text": [
      "0.646460423569749 {'bootstrap': True, 'max_features': 0.18000000000000005, 'max_samples': 0.97}\n"
     ]
    }
   ],
   "source": [
    "print(gscv_forest_4.best_score_, best_f_params)"
   ]
  },
  {
   "cell_type": "markdown",
   "id": "a6e0acbc",
   "metadata": {},
   "source": [
    "Bayes"
   ]
  },
  {
   "cell_type": "code",
   "execution_count": 47,
   "id": "b1683f17",
   "metadata": {},
   "outputs": [
    {
     "name": "stdout",
     "output_type": "stream",
     "text": [
      "Fitting 3 folds for each of 1 candidates, totalling 3 fits\n"
     ]
    },
    {
     "ename": "ValueError",
     "evalue": "Invalid parameter 'bootstrap_features' for estimator RandomForestRegressor(bootstrap=False, n_estimators=120, n_jobs=-1,\n                      random_state=1). Valid parameters are: ['bootstrap', 'ccp_alpha', 'criterion', 'max_depth', 'max_features', 'max_leaf_nodes', 'max_samples', 'min_impurity_decrease', 'min_samples_leaf', 'min_samples_split', 'min_weight_fraction_leaf', 'n_estimators', 'n_jobs', 'oob_score', 'random_state', 'verbose', 'warm_start'].",
     "output_type": "error",
     "traceback": [
      "\u001b[1;31m---------------------------------------------------------------------------\u001b[0m",
      "\u001b[1;31m_RemoteTraceback\u001b[0m                          Traceback (most recent call last)",
      "\u001b[1;31m_RemoteTraceback\u001b[0m: \n\"\"\"\nTraceback (most recent call last):\n  File \"C:\\Users\\emmal\\anaconda3\\Lib\\site-packages\\joblib\\externals\\loky\\process_executor.py\", line 428, in _process_worker\n    r = call_item()\n        ^^^^^^^^^^^\n  File \"C:\\Users\\emmal\\anaconda3\\Lib\\site-packages\\joblib\\externals\\loky\\process_executor.py\", line 275, in __call__\n    return self.fn(*self.args, **self.kwargs)\n           ^^^^^^^^^^^^^^^^^^^^^^^^^^^^^^^^^^\n  File \"C:\\Users\\emmal\\anaconda3\\Lib\\site-packages\\joblib\\_parallel_backends.py\", line 620, in __call__\n    return self.func(*args, **kwargs)\n           ^^^^^^^^^^^^^^^^^^^^^^^^^^\n  File \"C:\\Users\\emmal\\anaconda3\\Lib\\site-packages\\joblib\\parallel.py\", line 288, in __call__\n    return [func(*args, **kwargs)\n           ^^^^^^^^^^^^^^^^^^^^^^\n  File \"C:\\Users\\emmal\\anaconda3\\Lib\\site-packages\\joblib\\parallel.py\", line 288, in <listcomp>\n    return [func(*args, **kwargs)\n            ^^^^^^^^^^^^^^^^^^^^^\n  File \"C:\\Users\\emmal\\anaconda3\\Lib\\site-packages\\sklearn\\utils\\parallel.py\", line 127, in __call__\n    return self.function(*args, **kwargs)\n           ^^^^^^^^^^^^^^^^^^^^^^^^^^^^^^\n  File \"C:\\Users\\emmal\\anaconda3\\Lib\\site-packages\\sklearn\\model_selection\\_validation.py\", line 720, in _fit_and_score\n    estimator = estimator.set_params(**cloned_parameters)\n                ^^^^^^^^^^^^^^^^^^^^^^^^^^^^^^^^^^^^^^^^^\n  File \"C:\\Users\\emmal\\anaconda3\\Lib\\site-packages\\sklearn\\base.py\", line 229, in set_params\n    raise ValueError(\nValueError: Invalid parameter 'bootstrap_features' for estimator RandomForestRegressor(bootstrap=False, n_estimators=120, n_jobs=-1,\n                      random_state=1). Valid parameters are: ['bootstrap', 'ccp_alpha', 'criterion', 'max_depth', 'max_features', 'max_leaf_nodes', 'max_samples', 'min_impurity_decrease', 'min_samples_leaf', 'min_samples_split', 'min_weight_fraction_leaf', 'n_estimators', 'n_jobs', 'oob_score', 'random_state', 'verbose', 'warm_start'].\n\"\"\"",
      "\nThe above exception was the direct cause of the following exception:\n",
      "\u001b[1;31mValueError\u001b[0m                                Traceback (most recent call last)",
      "Cell \u001b[1;32mIn[47], line 21\u001b[0m\n\u001b[0;32m      3\u001b[0m search_space \u001b[38;5;241m=\u001b[39m {\n\u001b[0;32m      4\u001b[0m     \u001b[38;5;124m'\u001b[39m\u001b[38;5;124mbootstrap\u001b[39m\u001b[38;5;124m'\u001b[39m: Categorical([\u001b[38;5;28;01mTrue\u001b[39;00m, \u001b[38;5;28;01mFalse\u001b[39;00m]),\n\u001b[0;32m      5\u001b[0m     \u001b[38;5;124m'\u001b[39m\u001b[38;5;124mbootstrap_features\u001b[39m\u001b[38;5;124m'\u001b[39m: Categorical([\u001b[38;5;28;01mTrue\u001b[39;00m, \u001b[38;5;28;01mFalse\u001b[39;00m]),\n\u001b[0;32m      6\u001b[0m     \u001b[38;5;124m'\u001b[39m\u001b[38;5;124mmax_features\u001b[39m\u001b[38;5;124m'\u001b[39m: Real(\u001b[38;5;241m0.6\u001b[39m, \u001b[38;5;241m0.9\u001b[39m),\n\u001b[0;32m      7\u001b[0m     \u001b[38;5;124m'\u001b[39m\u001b[38;5;124mmax_samples\u001b[39m\u001b[38;5;124m'\u001b[39m: Real(\u001b[38;5;241m0.6\u001b[39m, \u001b[38;5;241m1.0\u001b[39m)\n\u001b[0;32m      8\u001b[0m }\n\u001b[0;32m     10\u001b[0m bag_bayes \u001b[38;5;241m=\u001b[39m BayesSearchCV(\n\u001b[0;32m     11\u001b[0m     estimator\u001b[38;5;241m=\u001b[39mbag_forest_base,\n\u001b[0;32m     12\u001b[0m     search_spaces\u001b[38;5;241m=\u001b[39msearch_space,\n\u001b[1;32m   (...)\u001b[0m\n\u001b[0;32m     18\u001b[0m     random_state\u001b[38;5;241m=\u001b[39m\u001b[38;5;241m1\u001b[39m\n\u001b[0;32m     19\u001b[0m )\n\u001b[1;32m---> 21\u001b[0m bag_bayes\u001b[38;5;241m.\u001b[39mfit(X_train_final, y_train)\n\u001b[0;32m     23\u001b[0m \u001b[38;5;28mprint\u001b[39m(bag_bayes\u001b[38;5;241m.\u001b[39mbest_score_, bag_bayes\u001b[38;5;241m.\u001b[39mbest_params_)\n",
      "File \u001b[1;32m~\\anaconda3\\Lib\\site-packages\\skopt\\searchcv.py:538\u001b[0m, in \u001b[0;36mBayesSearchCV.fit\u001b[1;34m(self, X, y, groups, callback, **fit_params)\u001b[0m\n\u001b[0;32m    531\u001b[0m \u001b[38;5;28;01mif\u001b[39;00m \u001b[38;5;28mcallable\u001b[39m(\u001b[38;5;28mself\u001b[39m\u001b[38;5;241m.\u001b[39mrefit):\n\u001b[0;32m    532\u001b[0m     \u001b[38;5;28;01mraise\u001b[39;00m \u001b[38;5;167;01mValueError\u001b[39;00m(\n\u001b[0;32m    533\u001b[0m         \u001b[38;5;124m\"\u001b[39m\u001b[38;5;124mBayesSearchCV doesn\u001b[39m\u001b[38;5;124m'\u001b[39m\u001b[38;5;124mt support a callable refit, \u001b[39m\u001b[38;5;124m\"\u001b[39m\n\u001b[0;32m    534\u001b[0m         \u001b[38;5;124m\"\u001b[39m\u001b[38;5;124mas it doesn\u001b[39m\u001b[38;5;124m'\u001b[39m\u001b[38;5;124mt define an implicit score to \u001b[39m\u001b[38;5;124m\"\u001b[39m\n\u001b[0;32m    535\u001b[0m         \u001b[38;5;124m\"\u001b[39m\u001b[38;5;124moptimize\u001b[39m\u001b[38;5;124m\"\u001b[39m\n\u001b[0;32m    536\u001b[0m     )\n\u001b[1;32m--> 538\u001b[0m \u001b[38;5;28msuper\u001b[39m()\u001b[38;5;241m.\u001b[39mfit(X\u001b[38;5;241m=\u001b[39mX, y\u001b[38;5;241m=\u001b[39my, groups\u001b[38;5;241m=\u001b[39mgroups, \u001b[38;5;241m*\u001b[39m\u001b[38;5;241m*\u001b[39mfit_params)\n\u001b[0;32m    540\u001b[0m \u001b[38;5;66;03m# BaseSearchCV never ranked train scores,\u001b[39;00m\n\u001b[0;32m    541\u001b[0m \u001b[38;5;66;03m# but apparently we used to ship this (back-compat)\u001b[39;00m\n\u001b[0;32m    542\u001b[0m \u001b[38;5;28;01mif\u001b[39;00m \u001b[38;5;28mself\u001b[39m\u001b[38;5;241m.\u001b[39mreturn_train_score:\n",
      "File \u001b[1;32m~\\anaconda3\\Lib\\site-packages\\sklearn\\base.py:1151\u001b[0m, in \u001b[0;36m_fit_context.<locals>.decorator.<locals>.wrapper\u001b[1;34m(estimator, *args, **kwargs)\u001b[0m\n\u001b[0;32m   1144\u001b[0m     estimator\u001b[38;5;241m.\u001b[39m_validate_params()\n\u001b[0;32m   1146\u001b[0m \u001b[38;5;28;01mwith\u001b[39;00m config_context(\n\u001b[0;32m   1147\u001b[0m     skip_parameter_validation\u001b[38;5;241m=\u001b[39m(\n\u001b[0;32m   1148\u001b[0m         prefer_skip_nested_validation \u001b[38;5;129;01mor\u001b[39;00m global_skip_validation\n\u001b[0;32m   1149\u001b[0m     )\n\u001b[0;32m   1150\u001b[0m ):\n\u001b[1;32m-> 1151\u001b[0m     \u001b[38;5;28;01mreturn\u001b[39;00m fit_method(estimator, \u001b[38;5;241m*\u001b[39margs, \u001b[38;5;241m*\u001b[39m\u001b[38;5;241m*\u001b[39mkwargs)\n",
      "File \u001b[1;32m~\\anaconda3\\Lib\\site-packages\\sklearn\\model_selection\\_search.py:898\u001b[0m, in \u001b[0;36mBaseSearchCV.fit\u001b[1;34m(self, X, y, groups, **fit_params)\u001b[0m\n\u001b[0;32m    892\u001b[0m     results \u001b[38;5;241m=\u001b[39m \u001b[38;5;28mself\u001b[39m\u001b[38;5;241m.\u001b[39m_format_results(\n\u001b[0;32m    893\u001b[0m         all_candidate_params, n_splits, all_out, all_more_results\n\u001b[0;32m    894\u001b[0m     )\n\u001b[0;32m    896\u001b[0m     \u001b[38;5;28;01mreturn\u001b[39;00m results\n\u001b[1;32m--> 898\u001b[0m \u001b[38;5;28mself\u001b[39m\u001b[38;5;241m.\u001b[39m_run_search(evaluate_candidates)\n\u001b[0;32m    900\u001b[0m \u001b[38;5;66;03m# multimetric is determined here because in the case of a callable\u001b[39;00m\n\u001b[0;32m    901\u001b[0m \u001b[38;5;66;03m# self.scoring the return type is only known after calling\u001b[39;00m\n\u001b[0;32m    902\u001b[0m first_test_score \u001b[38;5;241m=\u001b[39m all_out[\u001b[38;5;241m0\u001b[39m][\u001b[38;5;124m\"\u001b[39m\u001b[38;5;124mtest_scores\u001b[39m\u001b[38;5;124m\"\u001b[39m]\n",
      "File \u001b[1;32m~\\anaconda3\\Lib\\site-packages\\skopt\\searchcv.py:595\u001b[0m, in \u001b[0;36mBayesSearchCV._run_search\u001b[1;34m(self, evaluate_candidates)\u001b[0m\n\u001b[0;32m    591\u001b[0m \u001b[38;5;28;01mwhile\u001b[39;00m n_iter \u001b[38;5;241m>\u001b[39m \u001b[38;5;241m0\u001b[39m:\n\u001b[0;32m    592\u001b[0m     \u001b[38;5;66;03m# when n_iter < n_points points left for evaluation\u001b[39;00m\n\u001b[0;32m    593\u001b[0m     n_points_adjusted \u001b[38;5;241m=\u001b[39m \u001b[38;5;28mmin\u001b[39m(n_iter, n_points)\n\u001b[1;32m--> 595\u001b[0m     optim_result, score_name \u001b[38;5;241m=\u001b[39m \u001b[38;5;28mself\u001b[39m\u001b[38;5;241m.\u001b[39m_step(\n\u001b[0;32m    596\u001b[0m         search_space,\n\u001b[0;32m    597\u001b[0m         optimizer,\n\u001b[0;32m    598\u001b[0m         score_name,\n\u001b[0;32m    599\u001b[0m         evaluate_candidates,\n\u001b[0;32m    600\u001b[0m         n_points\u001b[38;5;241m=\u001b[39mn_points_adjusted,\n\u001b[0;32m    601\u001b[0m     )\n\u001b[0;32m    602\u001b[0m     n_iter \u001b[38;5;241m-\u001b[39m\u001b[38;5;241m=\u001b[39m n_points\n\u001b[0;32m    604\u001b[0m     \u001b[38;5;28;01mif\u001b[39;00m eval_callbacks(callbacks, optim_result):\n",
      "File \u001b[1;32m~\\anaconda3\\Lib\\site-packages\\skopt\\searchcv.py:449\u001b[0m, in \u001b[0;36mBayesSearchCV._step\u001b[1;34m(self, search_space, optimizer, score_name, evaluate_candidates, n_points)\u001b[0m\n\u001b[0;32m    446\u001b[0m \u001b[38;5;66;03m# make lists into dictionaries\u001b[39;00m\n\u001b[0;32m    447\u001b[0m params_dict \u001b[38;5;241m=\u001b[39m [point_asdict(search_space, p) \u001b[38;5;28;01mfor\u001b[39;00m p \u001b[38;5;129;01min\u001b[39;00m params]\n\u001b[1;32m--> 449\u001b[0m all_results \u001b[38;5;241m=\u001b[39m evaluate_candidates(params_dict)\n\u001b[0;32m    451\u001b[0m \u001b[38;5;66;03m# if self.scoring is a callable, we have to wait until here\u001b[39;00m\n\u001b[0;32m    452\u001b[0m \u001b[38;5;66;03m# to get the score name\u001b[39;00m\n\u001b[0;32m    453\u001b[0m \u001b[38;5;28;01mif\u001b[39;00m score_name \u001b[38;5;129;01mis\u001b[39;00m \u001b[38;5;28;01mNone\u001b[39;00m:\n",
      "File \u001b[1;32m~\\anaconda3\\Lib\\site-packages\\sklearn\\model_selection\\_search.py:845\u001b[0m, in \u001b[0;36mBaseSearchCV.fit.<locals>.evaluate_candidates\u001b[1;34m(candidate_params, cv, more_results)\u001b[0m\n\u001b[0;32m    837\u001b[0m \u001b[38;5;28;01mif\u001b[39;00m \u001b[38;5;28mself\u001b[39m\u001b[38;5;241m.\u001b[39mverbose \u001b[38;5;241m>\u001b[39m \u001b[38;5;241m0\u001b[39m:\n\u001b[0;32m    838\u001b[0m     \u001b[38;5;28mprint\u001b[39m(\n\u001b[0;32m    839\u001b[0m         \u001b[38;5;124m\"\u001b[39m\u001b[38;5;124mFitting \u001b[39m\u001b[38;5;132;01m{0}\u001b[39;00m\u001b[38;5;124m folds for each of \u001b[39m\u001b[38;5;132;01m{1}\u001b[39;00m\u001b[38;5;124m candidates,\u001b[39m\u001b[38;5;124m\"\u001b[39m\n\u001b[0;32m    840\u001b[0m         \u001b[38;5;124m\"\u001b[39m\u001b[38;5;124m totalling \u001b[39m\u001b[38;5;132;01m{2}\u001b[39;00m\u001b[38;5;124m fits\u001b[39m\u001b[38;5;124m\"\u001b[39m\u001b[38;5;241m.\u001b[39mformat(\n\u001b[0;32m    841\u001b[0m             n_splits, n_candidates, n_candidates \u001b[38;5;241m*\u001b[39m n_splits\n\u001b[0;32m    842\u001b[0m         )\n\u001b[0;32m    843\u001b[0m     )\n\u001b[1;32m--> 845\u001b[0m out \u001b[38;5;241m=\u001b[39m parallel(\n\u001b[0;32m    846\u001b[0m     delayed(_fit_and_score)(\n\u001b[0;32m    847\u001b[0m         clone(base_estimator),\n\u001b[0;32m    848\u001b[0m         X,\n\u001b[0;32m    849\u001b[0m         y,\n\u001b[0;32m    850\u001b[0m         train\u001b[38;5;241m=\u001b[39mtrain,\n\u001b[0;32m    851\u001b[0m         test\u001b[38;5;241m=\u001b[39mtest,\n\u001b[0;32m    852\u001b[0m         parameters\u001b[38;5;241m=\u001b[39mparameters,\n\u001b[0;32m    853\u001b[0m         split_progress\u001b[38;5;241m=\u001b[39m(split_idx, n_splits),\n\u001b[0;32m    854\u001b[0m         candidate_progress\u001b[38;5;241m=\u001b[39m(cand_idx, n_candidates),\n\u001b[0;32m    855\u001b[0m         \u001b[38;5;241m*\u001b[39m\u001b[38;5;241m*\u001b[39mfit_and_score_kwargs,\n\u001b[0;32m    856\u001b[0m     )\n\u001b[0;32m    857\u001b[0m     \u001b[38;5;28;01mfor\u001b[39;00m (cand_idx, parameters), (split_idx, (train, test)) \u001b[38;5;129;01min\u001b[39;00m product(\n\u001b[0;32m    858\u001b[0m         \u001b[38;5;28menumerate\u001b[39m(candidate_params), \u001b[38;5;28menumerate\u001b[39m(cv\u001b[38;5;241m.\u001b[39msplit(X, y, groups))\n\u001b[0;32m    859\u001b[0m     )\n\u001b[0;32m    860\u001b[0m )\n\u001b[0;32m    862\u001b[0m \u001b[38;5;28;01mif\u001b[39;00m \u001b[38;5;28mlen\u001b[39m(out) \u001b[38;5;241m<\u001b[39m \u001b[38;5;241m1\u001b[39m:\n\u001b[0;32m    863\u001b[0m     \u001b[38;5;28;01mraise\u001b[39;00m \u001b[38;5;167;01mValueError\u001b[39;00m(\n\u001b[0;32m    864\u001b[0m         \u001b[38;5;124m\"\u001b[39m\u001b[38;5;124mNo fits were performed. \u001b[39m\u001b[38;5;124m\"\u001b[39m\n\u001b[0;32m    865\u001b[0m         \u001b[38;5;124m\"\u001b[39m\u001b[38;5;124mWas the CV iterator empty? \u001b[39m\u001b[38;5;124m\"\u001b[39m\n\u001b[0;32m    866\u001b[0m         \u001b[38;5;124m\"\u001b[39m\u001b[38;5;124mWere there no candidates?\u001b[39m\u001b[38;5;124m\"\u001b[39m\n\u001b[0;32m    867\u001b[0m     )\n",
      "File \u001b[1;32m~\\anaconda3\\Lib\\site-packages\\sklearn\\utils\\parallel.py:65\u001b[0m, in \u001b[0;36mParallel.__call__\u001b[1;34m(self, iterable)\u001b[0m\n\u001b[0;32m     60\u001b[0m config \u001b[38;5;241m=\u001b[39m get_config()\n\u001b[0;32m     61\u001b[0m iterable_with_config \u001b[38;5;241m=\u001b[39m (\n\u001b[0;32m     62\u001b[0m     (_with_config(delayed_func, config), args, kwargs)\n\u001b[0;32m     63\u001b[0m     \u001b[38;5;28;01mfor\u001b[39;00m delayed_func, args, kwargs \u001b[38;5;129;01min\u001b[39;00m iterable\n\u001b[0;32m     64\u001b[0m )\n\u001b[1;32m---> 65\u001b[0m \u001b[38;5;28;01mreturn\u001b[39;00m \u001b[38;5;28msuper\u001b[39m()\u001b[38;5;241m.\u001b[39m\u001b[38;5;21m__call__\u001b[39m(iterable_with_config)\n",
      "File \u001b[1;32m~\\anaconda3\\Lib\\site-packages\\joblib\\parallel.py:1098\u001b[0m, in \u001b[0;36mParallel.__call__\u001b[1;34m(self, iterable)\u001b[0m\n\u001b[0;32m   1095\u001b[0m     \u001b[38;5;28mself\u001b[39m\u001b[38;5;241m.\u001b[39m_iterating \u001b[38;5;241m=\u001b[39m \u001b[38;5;28;01mFalse\u001b[39;00m\n\u001b[0;32m   1097\u001b[0m \u001b[38;5;28;01mwith\u001b[39;00m \u001b[38;5;28mself\u001b[39m\u001b[38;5;241m.\u001b[39m_backend\u001b[38;5;241m.\u001b[39mretrieval_context():\n\u001b[1;32m-> 1098\u001b[0m     \u001b[38;5;28mself\u001b[39m\u001b[38;5;241m.\u001b[39mretrieve()\n\u001b[0;32m   1099\u001b[0m \u001b[38;5;66;03m# Make sure that we get a last message telling us we are done\u001b[39;00m\n\u001b[0;32m   1100\u001b[0m elapsed_time \u001b[38;5;241m=\u001b[39m time\u001b[38;5;241m.\u001b[39mtime() \u001b[38;5;241m-\u001b[39m \u001b[38;5;28mself\u001b[39m\u001b[38;5;241m.\u001b[39m_start_time\n",
      "File \u001b[1;32m~\\anaconda3\\Lib\\site-packages\\joblib\\parallel.py:975\u001b[0m, in \u001b[0;36mParallel.retrieve\u001b[1;34m(self)\u001b[0m\n\u001b[0;32m    973\u001b[0m \u001b[38;5;28;01mtry\u001b[39;00m:\n\u001b[0;32m    974\u001b[0m     \u001b[38;5;28;01mif\u001b[39;00m \u001b[38;5;28mgetattr\u001b[39m(\u001b[38;5;28mself\u001b[39m\u001b[38;5;241m.\u001b[39m_backend, \u001b[38;5;124m'\u001b[39m\u001b[38;5;124msupports_timeout\u001b[39m\u001b[38;5;124m'\u001b[39m, \u001b[38;5;28;01mFalse\u001b[39;00m):\n\u001b[1;32m--> 975\u001b[0m         \u001b[38;5;28mself\u001b[39m\u001b[38;5;241m.\u001b[39m_output\u001b[38;5;241m.\u001b[39mextend(job\u001b[38;5;241m.\u001b[39mget(timeout\u001b[38;5;241m=\u001b[39m\u001b[38;5;28mself\u001b[39m\u001b[38;5;241m.\u001b[39mtimeout))\n\u001b[0;32m    976\u001b[0m     \u001b[38;5;28;01melse\u001b[39;00m:\n\u001b[0;32m    977\u001b[0m         \u001b[38;5;28mself\u001b[39m\u001b[38;5;241m.\u001b[39m_output\u001b[38;5;241m.\u001b[39mextend(job\u001b[38;5;241m.\u001b[39mget())\n",
      "File \u001b[1;32m~\\anaconda3\\Lib\\site-packages\\joblib\\_parallel_backends.py:567\u001b[0m, in \u001b[0;36mLokyBackend.wrap_future_result\u001b[1;34m(future, timeout)\u001b[0m\n\u001b[0;32m    564\u001b[0m \u001b[38;5;250m\u001b[39m\u001b[38;5;124;03m\"\"\"Wrapper for Future.result to implement the same behaviour as\u001b[39;00m\n\u001b[0;32m    565\u001b[0m \u001b[38;5;124;03mAsyncResults.get from multiprocessing.\"\"\"\u001b[39;00m\n\u001b[0;32m    566\u001b[0m \u001b[38;5;28;01mtry\u001b[39;00m:\n\u001b[1;32m--> 567\u001b[0m     \u001b[38;5;28;01mreturn\u001b[39;00m future\u001b[38;5;241m.\u001b[39mresult(timeout\u001b[38;5;241m=\u001b[39mtimeout)\n\u001b[0;32m    568\u001b[0m \u001b[38;5;28;01mexcept\u001b[39;00m CfTimeoutError \u001b[38;5;28;01mas\u001b[39;00m e:\n\u001b[0;32m    569\u001b[0m     \u001b[38;5;28;01mraise\u001b[39;00m \u001b[38;5;167;01mTimeoutError\u001b[39;00m \u001b[38;5;28;01mfrom\u001b[39;00m \u001b[38;5;21;01me\u001b[39;00m\n",
      "File \u001b[1;32m~\\anaconda3\\Lib\\concurrent\\futures\\_base.py:456\u001b[0m, in \u001b[0;36mFuture.result\u001b[1;34m(self, timeout)\u001b[0m\n\u001b[0;32m    454\u001b[0m     \u001b[38;5;28;01mraise\u001b[39;00m CancelledError()\n\u001b[0;32m    455\u001b[0m \u001b[38;5;28;01melif\u001b[39;00m \u001b[38;5;28mself\u001b[39m\u001b[38;5;241m.\u001b[39m_state \u001b[38;5;241m==\u001b[39m FINISHED:\n\u001b[1;32m--> 456\u001b[0m     \u001b[38;5;28;01mreturn\u001b[39;00m \u001b[38;5;28mself\u001b[39m\u001b[38;5;241m.\u001b[39m__get_result()\n\u001b[0;32m    457\u001b[0m \u001b[38;5;28;01melse\u001b[39;00m:\n\u001b[0;32m    458\u001b[0m     \u001b[38;5;28;01mraise\u001b[39;00m \u001b[38;5;167;01mTimeoutError\u001b[39;00m()\n",
      "File \u001b[1;32m~\\anaconda3\\Lib\\concurrent\\futures\\_base.py:401\u001b[0m, in \u001b[0;36mFuture.__get_result\u001b[1;34m(self)\u001b[0m\n\u001b[0;32m    399\u001b[0m \u001b[38;5;28;01mif\u001b[39;00m \u001b[38;5;28mself\u001b[39m\u001b[38;5;241m.\u001b[39m_exception:\n\u001b[0;32m    400\u001b[0m     \u001b[38;5;28;01mtry\u001b[39;00m:\n\u001b[1;32m--> 401\u001b[0m         \u001b[38;5;28;01mraise\u001b[39;00m \u001b[38;5;28mself\u001b[39m\u001b[38;5;241m.\u001b[39m_exception\n\u001b[0;32m    402\u001b[0m     \u001b[38;5;28;01mfinally\u001b[39;00m:\n\u001b[0;32m    403\u001b[0m         \u001b[38;5;66;03m# Break a reference cycle with the exception in self._exception\u001b[39;00m\n\u001b[0;32m    404\u001b[0m         \u001b[38;5;28mself\u001b[39m \u001b[38;5;241m=\u001b[39m \u001b[38;5;28;01mNone\u001b[39;00m\n",
      "\u001b[1;31mValueError\u001b[0m: Invalid parameter 'bootstrap_features' for estimator RandomForestRegressor(bootstrap=False, n_estimators=120, n_jobs=-1,\n                      random_state=1). Valid parameters are: ['bootstrap', 'ccp_alpha', 'criterion', 'max_depth', 'max_features', 'max_leaf_nodes', 'max_samples', 'min_impurity_decrease', 'min_samples_leaf', 'min_samples_split', 'min_weight_fraction_leaf', 'n_estimators', 'n_jobs', 'oob_score', 'random_state', 'verbose', 'warm_start']."
     ]
    }
   ],
   "source": [
    "bag_forest_base = RandomForestRegressor(n_estimators=120, random_state=1, n_jobs=-1)\n",
    "\n",
    "search_space = {\n",
    "    'bootstrap': Categorical([True, False]),\n",
    "    'bootstrap_features': Categorical([True, False]),\n",
    "    'max_features': Real(0.6, 0.9),\n",
    "    'max_samples': Real(0.6, 1.0)\n",
    "}\n",
    "\n",
    "bag_bayes = BayesSearchCV(\n",
    "    estimator=bag_forest_base,\n",
    "    search_spaces=search_space,\n",
    "    n_iter=50, \n",
    "    cv=3,\n",
    "    scoring='neg_root_mean_squared_error',\n",
    "    n_jobs=-1,\n",
    "    verbose=2,\n",
    "    random_state=1\n",
    ")\n",
    "\n",
    "bag_bayes.fit(X_train_final, y_train)\n",
    "\n",
    "print(bag_bayes.best_score_, bag_bayes.best_params_)"
   ]
  },
  {
   "cell_type": "markdown",
   "id": "069b1b7c",
   "metadata": {},
   "source": [
    "KNN Bagging"
   ]
  },
  {
   "cell_type": "code",
   "execution_count": 50,
   "id": "71af2587",
   "metadata": {},
   "outputs": [],
   "source": [
    "def dist_power_2(distance):\n",
    "    return 1/(1e-10+distance**2)\n",
    "def dist_power_3(distance):\n",
    "    return 1/(1e-10+distance**3)\n",
    "def dist_power_4(distance):\n",
    "    return 1/(1e-10+distance**4)\n",
    "def dist_power_5(distance):\n",
    "    return 1/(1e-10+distance**5)\n"
   ]
  },
  {
   "cell_type": "code",
   "execution_count": 51,
   "id": "e6ad0788",
   "metadata": {},
   "outputs": [
    {
     "name": "stdout",
     "output_type": "stream",
     "text": [
      "Fitting 3 folds for each of 15 candidates, totalling 45 fits\n",
      "{'estimator__n_neighbors': 5, 'estimator__weights': <function dist_power_2 at 0x00000223E10A0CC0>}\n"
     ]
    }
   ],
   "source": [
    "params = {\n",
    "    'estimator__n_neighbors': np.arange(5, 100, 20),\n",
    "    'estimator__weights': [dist_power_2, dist_power_3, dist_power_5]\n",
    "}\n",
    "\n",
    "cv_settings = StratifiedKFold(n_splits=3, shuffle=True, random_state=1)\n",
    "bag_knn_model = GridSearchCV(BaggingRegressor(estimator=KNeighborsClassifier(), n_estimators=150), params, cv=cv_settings, scoring='accuracy', verbose=2, n_jobs=8)\n",
    "\n",
    "bag_knn_model.fit(X_train_final, y_train)\n",
    "print(bag_knn_model.best_params_)"
   ]
  },
  {
   "cell_type": "code",
   "execution_count": 52,
   "id": "eeb04f4b",
   "metadata": {},
   "outputs": [
    {
     "data": {
      "text/plain": [
       "118.74746372403958"
      ]
     },
     "execution_count": 52,
     "metadata": {},
     "output_type": "execute_result"
    }
   ],
   "source": [
    "np.sqrt(mean_squared_error(y_train, cross_val_predict(bag_knn_model.best_estimator_, X_train_final, y_train, cv=KFold(n_splits=5, shuffle=True, random_state=1))))"
   ]
  },
  {
   "cell_type": "code",
   "execution_count": 55,
   "id": "db95c540",
   "metadata": {},
   "outputs": [
    {
     "name": "stdout",
     "output_type": "stream",
     "text": [
      "{'estimator__n_neighbors': 2, 'estimator__weights': 'uniform'}\n"
     ]
    }
   ],
   "source": [
    "params = {\n",
    "    'estimator__n_neighbors': np.arange(2, 25, 5),\n",
    "    'estimator__weights': ['uniform', 'distance', dist_power_2, dist_power_3]\n",
    "}\n",
    "\n",
    "cv_settings = StratifiedKFold(n_splits=5, shuffle=True, random_state=1)\n",
    "bag_knn_model_2 = GridSearchCV(BaggingRegressor(estimator=KNeighborsClassifier(), n_estimators=150), params, cv=cv_settings, scoring='accuracy', verbose=2, n_jobs=-1)\n",
    "\n",
    "bag_knn_model_2.fit(X_train_final, y_train)\n",
    "print(bag_knn_model_2.best_params_)"
   ]
  },
  {
   "cell_type": "code",
   "execution_count": 54,
   "id": "e60f3c57",
   "metadata": {},
   "outputs": [
    {
     "data": {
      "text/plain": [
       "126.31046465850385"
      ]
     },
     "execution_count": 54,
     "metadata": {},
     "output_type": "execute_result"
    }
   ],
   "source": [
    "np.sqrt(mean_squared_error(y_train, cross_val_predict(bag_knn_model_2.best_estimator_, X_train_final, y_train, cv=KFold(n_splits=5, shuffle=True, random_state=1))))"
   ]
  },
  {
   "cell_type": "markdown",
   "id": "10fc357d",
   "metadata": {},
   "source": [
    "**Paste the optimal hyperparameter values below.**"
   ]
  },
  {
   "cell_type": "code",
   "execution_count": 56,
   "id": "33497b13",
   "metadata": {
    "scrolled": false
   },
   "outputs": [
    {
     "name": "stdout",
     "output_type": "stream",
     "text": [
      "Best bagging params: {'max_features': 0.65, 'max_samples': 0.75}\n",
      "Best random forest params: {'bootstrap': True, 'max_features': 0.16, 'max_samples': 0.98}\n"
     ]
    }
   ],
   "source": [
    "print('Best bagging params:', model_ultra_fine.best_params_)\n",
    "print('Best random forest params:', best_f_params)"
   ]
  },
  {
   "cell_type": "markdown",
   "id": "2ca2651c",
   "metadata": {},
   "source": [
    "* Best bagging params: {'max_features': 0.65, 'max_samples': 0.75}\n",
    "* Best random forest params: {'bootstrap': True, 'max_features': 0.16, 'max_samples': 0.98}"
   ]
  },
  {
   "cell_type": "markdown",
   "id": "8e104de7",
   "metadata": {},
   "source": [
    "## 3) Model"
   ]
  },
  {
   "cell_type": "markdown",
   "id": "50a37864",
   "metadata": {},
   "source": [
    "Using the optimal model hyperparameters, train the model, and paste the code below."
   ]
  },
  {
   "cell_type": "code",
   "execution_count": 50,
   "id": "4981b94e",
   "metadata": {},
   "outputs": [],
   "source": [
    "best_bag_model = BaggingRegressor(estimator=DecisionTreeRegressor(random_state=1),\n",
    "                                  n_estimators=100,\n",
    "                                  bootstrap=False,\n",
    "                                  bootstrap_features=True,\n",
    "                                  max_features= best_max_feat,\n",
    "                                  max_samples= best_max_samples).fit(X_train_final, y_train)\n",
    "\n",
    "best_forest_model = RandomForestRegressor(bootstrap=True,\n",
    "                                          max_features=0.7, \n",
    "                                          max_samples=0.75, \n",
    "                                          random_state=1, n_estimators=120)\n"
   ]
  },
  {
   "cell_type": "code",
   "execution_count": 56,
   "id": "d62f32ef",
   "metadata": {},
   "outputs": [],
   "source": [
    "# # Bagging GSCV\n",
    "# y_preds_test = best_bag_model.predict(X_test_final)\n",
    "\n",
    "# RandomForest GSCV\n",
    "y_preds_test = gscv_forest_4.predict(X_test_final)"
   ]
  },
  {
   "cell_type": "markdown",
   "id": "897d6954",
   "metadata": {},
   "source": [
    "## 4) Put any ad-hoc steps for further improving model accuracy"
   ]
  },
  {
   "cell_type": "code",
   "execution_count": 57,
   "id": "d07599c3",
   "metadata": {},
   "outputs": [],
   "source": [
    "y_preds = y_preds_test*1.05"
   ]
  },
  {
   "cell_type": "markdown",
   "id": "ec1c5d42",
   "metadata": {},
   "source": [
    "## 5) Export the predictions in the format required to submit on Kaggle"
   ]
  },
  {
   "cell_type": "code",
   "execution_count": 58,
   "id": "56be7907",
   "metadata": {},
   "outputs": [],
   "source": [
    "predicted_values = pd.DataFrame(y_preds, columns=['predicted'])\n",
    "\n",
    "# add listing id to the predicted values dataframe and set the index to the id value\n",
    "predicted_values = predicted_values.merge(test_filter_2['id'], left_index=True, right_index=True).set_index('id').rename(columns={0:'predicted'})\n",
    "predicted_values\n",
    "\n",
    "# predicted_values.to_csv('Tree_reg_model_predictions_b.csv')"
   ]
  }
 ],
 "metadata": {
  "kernelspec": {
   "display_name": "Python 3 (ipykernel)",
   "language": "python",
   "name": "python3"
  },
  "language_info": {
   "codemirror_mode": {
    "name": "ipython",
    "version": 3
   },
   "file_extension": ".py",
   "mimetype": "text/x-python",
   "name": "python",
   "nbconvert_exporter": "python",
   "pygments_lexer": "ipython3",
   "version": "3.11.4"
  }
 },
 "nbformat": 4,
 "nbformat_minor": 5
}
