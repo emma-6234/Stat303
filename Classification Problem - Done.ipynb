{
 "cells": [
  {
   "cell_type": "code",
   "execution_count": 2,
   "id": "dbd80240",
   "metadata": {},
   "outputs": [],
   "source": [
    "import numpy as np\n",
    "import pandas as pd\n",
    "import matplotlib.pyplot as plt\n",
    "import seaborn as sns\n",
    "import statsmodels.formula.api as smf\n",
    "from sklearn.metrics import accuracy_score, recall_score, precision_score, confusion_matrix\n",
    "\n",
    "from datetime import date, datetime"
   ]
  },
  {
   "cell_type": "code",
   "execution_count": 3,
   "id": "44aa37cd",
   "metadata": {},
   "outputs": [],
   "source": [
    "raw_train = pd.read_csv('datasets/train_classification.csv')\n",
    "raw_test = pd.read_csv('datasets/test_classification.csv')"
   ]
  },
  {
   "cell_type": "code",
   "execution_count": 4,
   "id": "8669402b",
   "metadata": {},
   "outputs": [],
   "source": [
    "train = raw_train.copy()\n",
    "test = raw_test.copy()\n",
    "\n",
    "\n",
    "train['acceptance_rate'] = train['host_acceptance_rate'].str.replace('%', '').astype(float) / 100\n",
    "train['response_rate'] = train['host_response_rate'].str.replace('%', '').astype(float) / 100\n",
    "\n",
    "test['acceptance_rate'] = test['host_acceptance_rate'].str.replace('%', '').astype(float) / 100\n",
    "test['response_rate'] = test['host_response_rate'].str.replace('%', '').astype(float) / 100\n"
   ]
  },
  {
   "cell_type": "code",
   "execution_count": 5,
   "id": "f3ffd8e8",
   "metadata": {},
   "outputs": [
    {
     "data": {
      "text/plain": [
       "1.0     3846\n",
       "12.0     433\n",
       "24.0     230\n",
       "72.0      51\n",
       "Name: response_time, dtype: int64"
      ]
     },
     "execution_count": 5,
     "metadata": {},
     "output_type": "execute_result"
    }
   ],
   "source": [
    "response_time_dict = {'within an hour': 1, 'within a few hours': 12, 'within a day': 24, 'a few days or more': 72}\n",
    "\n",
    "def replace_response_time(row):\n",
    "    if pd.notna(row):\n",
    "        return response_time_dict.get(row)\n",
    "    else:\n",
    "        return None\n",
    "\n",
    "train['response_time'] = train['host_response_time'].apply(replace_response_time)\n",
    "test['response_time'] = test['host_response_time'].apply(replace_response_time)\n",
    "\n",
    "\n",
    "train['response_time'].value_counts()"
   ]
  },
  {
   "cell_type": "code",
   "execution_count": 6,
   "id": "982faab9",
   "metadata": {},
   "outputs": [],
   "source": [
    "train.drop(columns=['host_acceptance_rate', 'host_response_rate'], inplace=True)\n",
    "test.drop(columns=['host_acceptance_rate', 'host_response_rate'], inplace=True)"
   ]
  },
  {
   "cell_type": "code",
   "execution_count": 7,
   "id": "9244b2fa",
   "metadata": {},
   "outputs": [],
   "source": [
    "# Convert date columns\n",
    "def strip_date(row):\n",
    "    if isinstance(row, str):\n",
    "        row = datetime.strptime(row, '%Y-%m-%d').date()\n",
    "    return row\n",
    "\n",
    "# Apply date conversion to train dataset\n",
    "train['host_since'] = train['host_since'].apply(strip_date)\n",
    "train['first_review'] = train['first_review'].apply(strip_date)\n",
    "train['last_review'] = train['last_review'].apply(strip_date)\n",
    "\n",
    "# Apply date conversion to test dataset\n",
    "test['host_since'] = test['host_since'].apply(strip_date)\n",
    "test['first_review'] = test['first_review'].apply(strip_date)\n",
    "test['last_review'] = test['last_review'].apply(strip_date)\n",
    "\n",
    "\n",
    "# Create columns for individual aspects of date \n",
    "train['host_since_year'] = train['host_since'].apply(lambda x: x.year if pd.notnull(x) else None)\n",
    "train['host_since_month'] = train['host_since'].apply(lambda x: x.month if pd.notnull(x) else None)\n",
    "train['host_since_day'] = train['host_since'].apply(lambda x: x.day if pd.notnull(x) else None)\n",
    "\n",
    "train['first_review_year'] = train['first_review'].apply(lambda x: x.year if pd.notnull(x) else None)\n",
    "train['first_review_month'] = train['first_review'].apply(lambda x: x.month if pd.notnull(x) else None)\n",
    "train['first_review_day'] = train['first_review'].apply(lambda x: x.day if pd.notnull(x) else None)\n",
    "\n",
    "train['last_review_year'] = train['last_review'].apply(lambda x: x.year if pd.notnull(x) else None)\n",
    "train['last_review_month'] = train['last_review'].apply(lambda x: x.month if pd.notnull(x) else None)\n",
    "train['last_review_day'] = train['last_review'].apply(lambda x: x.day if pd.notnull(x) else None)\n",
    "\n",
    "\n",
    "test['host_since_year'] = test['host_since'].apply(lambda x: x.year if pd.notnull(x) else None)\n",
    "test['host_since_month'] = test['host_since'].apply(lambda x: x.month if pd.notnull(x) else None)\n",
    "test['host_since_day'] = test['host_since'].apply(lambda x: x.day if pd.notnull(x) else None)\n",
    "\n",
    "test['first_review_year'] = test['first_review'].apply(lambda x: x.year if pd.notnull(x) else None)\n",
    "test['first_review_month'] = test['first_review'].apply(lambda x: x.month if pd.notnull(x) else None)\n",
    "test['first_review_day'] = test['first_review'].apply(lambda x: x.day if pd.notnull(x) else None)\n",
    "\n",
    "test['last_review_year'] = test['last_review'].apply(lambda x: x.year if pd.notnull(x) else None)\n",
    "test['last_review_month'] = test['last_review'].apply(lambda x: x.month if pd.notnull(x) else None)\n",
    "test['last_review_day'] = test['last_review'].apply(lambda x: x.day if pd.notnull(x) else None)\n",
    "\n",
    "\n",
    "# Calculate months since various dates for train dataset\n",
    "train['host_since_in_months'] = round(((datetime.now().date() - train['host_since']).dt.days) / 30, 2)\n",
    "train['first_review_in_months'] = round(((datetime.now().date() - train['first_review']).dt.days) / 30, 2)\n",
    "train['last_review_in_months'] = round(((datetime.now().date() - train['last_review']).dt.days) / 30, 2)\n",
    "\n",
    "# Calculate months since various dates for test dataset\n",
    "test['host_since_in_months'] = round(((datetime.now().date() - test['host_since']).dt.days) / 30,  2)\n",
    "test['first_review_in_months'] = round(((datetime.now().date() - test['first_review']).dt.days) / 30, 2)\n",
    "test['last_review_in_months'] = round(((datetime.now().date() - test['last_review']).dt.days) / 30, 2)\n"
   ]
  },
  {
   "cell_type": "code",
   "execution_count": 8,
   "id": "0f3758fe",
   "metadata": {},
   "outputs": [],
   "source": [
    "t_f_vars = ['host_is_superhost', 'host_has_profile_pic', 'host_identity_verified', 'has_availability', 'instant_bookable']\n",
    "t_f_vars_test = ['host_has_profile_pic', 'host_identity_verified', 'has_availability', 'instant_bookable']\n",
    "\n",
    "\n",
    "train[t_f_vars] = train[t_f_vars].replace({'f': 0, 't': 1})\n",
    "test[t_f_vars_test] = test[t_f_vars_test].replace({'f': 0, 't': 1})\n"
   ]
  },
  {
   "cell_type": "code",
   "execution_count": 9,
   "id": "d9084e6b",
   "metadata": {},
   "outputs": [],
   "source": [
    "train_clean = train.copy() \n",
    "test_clean = test.copy() "
   ]
  },
  {
   "cell_type": "markdown",
   "id": "c1f8471c",
   "metadata": {},
   "source": [
    "### Clean/Transform Variables"
   ]
  },
  {
   "cell_type": "code",
   "execution_count": 10,
   "id": "a51e4c39",
   "metadata": {},
   "outputs": [],
   "source": [
    "\n",
    "neighbourhood_counts = train_clean['neighbourhood_cleansed'].value_counts()  \n",
    "    \n",
    "def clean_rooms(row):    \n",
    "    if row.loc['room_type'] == 'Hotel room':\n",
    "        row['room_type'] = 'Private room'\n",
    "        \n",
    "    if row.loc['room_type'] == 'Shared room':\n",
    "        row['room_type'] = 'Entire home/apt'\n",
    "        \n",
    "    return row\n",
    "\n",
    "\n",
    " \n",
    "test_only_hoods = [i for i in test_clean['neighbourhood_cleansed'].unique() \n",
    "                   if i not in neighbourhood_counts \n",
    "                   and i != 'Other']\n",
    "    \n",
    "    "
   ]
  },
  {
   "cell_type": "code",
   "execution_count": 11,
   "id": "f6f0dd18",
   "metadata": {},
   "outputs": [],
   "source": [
    "train_clean['host_verifications_list'] = train_clean['host_verifications'].apply(lambda x: x.strip(\"[]\").replace(\"'\", \"\").split(', '))\n",
    "test_clean['host_verifications_list'] = test_clean['host_verifications'].apply(lambda x: x.strip(\"[]\").replace(\"'\", \"\").split(', '))\n",
    "\n",
    "train_clean['num_verifications']  = train_clean['host_verifications_list'].apply(len)\n",
    "test_clean['num_verifications']  = test_clean['host_verifications_list'].apply(len)\n"
   ]
  },
  {
   "cell_type": "code",
   "execution_count": 12,
   "id": "cabed46b",
   "metadata": {},
   "outputs": [],
   "source": [
    "train_clean['phone_verification']  = train_clean['host_verifications_list'].apply(lambda x: 1 if 'phone' in x else 0)\n",
    "train_clean['email_verification']  = train_clean['host_verifications_list'].apply(lambda x: 1 if 'email' in x else 0)\n",
    "train_clean['work_email_verification'] = train_clean['host_verifications_list'].apply(lambda x: 1 if 'work_email' in x else 0)\n",
    "train_clean['any_email_verification'] = train_clean['host_verifications_list'].apply(lambda x: 1 if 'work_email' in x or 'email' in x else 0)\n",
    "# print(train_clean['num_verifications'].value_counts(), '\\n')\n",
    "\n",
    "test_clean['phone_verification']  = test_clean['host_verifications_list'].apply(lambda x: 1 if 'phone' in x else 0)\n",
    "test_clean['email_verification']  = test_clean['host_verifications_list'].apply(lambda x: 1 if 'email' in x else 0)\n",
    "test_clean['work_email_verification'] = test_clean['host_verifications_list'].apply(lambda x: 1 if 'work_email' in x else 0)\n",
    "test_clean['any_email_verification'] = test_clean['host_verifications_list'].apply(lambda x: 1 if 'work_email' in x or 'email' in x else 0)\n",
    "# print(train_clean['num_verifications'].value_counts(), '\\n')\n"
   ]
  },
  {
   "cell_type": "code",
   "execution_count": 13,
   "id": "c90f10dc",
   "metadata": {},
   "outputs": [],
   "source": [
    "bins = [0, 14, 30, 60, 90, 180, 365, float('inf')]\n",
    "labels = ['0-14', '14-30', '30-60', '60-90', '90-180', '180-365', '365<']\n",
    "\n",
    "train_clean['max_nights_cats'], max_bins = pd.cut(train_clean.maximum_nights, bins=bins, labels=labels, retbins=True, right=False, include_lowest=True)\n",
    "test_clean['max_nights_cats'] = pd.cut(test_clean.maximum_nights, bins=max_bins, labels=labels, right=False, include_lowest=True)\n"
   ]
  },
  {
   "cell_type": "code",
   "execution_count": 14,
   "id": "8c50641d",
   "metadata": {},
   "outputs": [
    {
     "data": {
      "text/plain": [
       "0       44.0\n",
       "1        3.0\n",
       "2       51.0\n",
       "3       14.0\n",
       "4       19.0\n",
       "        ... \n",
       "3319    22.0\n",
       "3320    12.0\n",
       "3321    12.0\n",
       "3322     8.0\n",
       "3323     2.0\n",
       "Name: calculated_host_listings_count, Length: 3324, dtype: float64"
      ]
     },
     "execution_count": 14,
     "metadata": {},
     "output_type": "execute_result"
    }
   ],
   "source": [
    "# for host listing count outliers (>80) set to median\n",
    "def clean_host_listing(row):\n",
    "    if row > 80:\n",
    "        row = None\n",
    "    return row\n",
    "\n",
    "\n",
    "train_clean['calculated_host_listings_count'] = train_clean['calculated_host_listings_count'].apply(clean_host_listing)\n",
    "test_clean['calculated_host_listings_count'] = test_clean['calculated_host_listings_count'].apply(clean_host_listing)\n",
    "\n",
    "train_clean['calculated_host_listings_count'].fillna(train_clean['calculated_host_listings_count'].median())\n",
    "test_clean['calculated_host_listings_count'].fillna(test_clean['calculated_host_listings_count'].median())\n"
   ]
  },
  {
   "cell_type": "code",
   "execution_count": 15,
   "id": "b3216c60",
   "metadata": {},
   "outputs": [],
   "source": [
    "train_clean['reviews_per_listing'] = train_clean['number_of_reviews']/train_clean['calculated_host_listings_count']\n",
    "train_clean['reviews_per_month'] = train_clean['number_of_reviews']/train_clean['host_since_in_months']\n",
    "train_clean['reviews_per_listing_per_month'] = train_clean['reviews_per_listing']/train_clean['host_since_in_months']\n",
    "\n",
    "test_clean['reviews_per_listing'] = test_clean['number_of_reviews']/test_clean['calculated_host_listings_count']\n",
    "test_clean['reviews_per_month'] = test_clean['number_of_reviews']/test_clean['host_since_in_months']\n",
    "test_clean['reviews_per_listing_per_month'] = test_clean['reviews_per_listing']/test_clean['host_since_in_months']\n"
   ]
  },
  {
   "cell_type": "markdown",
   "id": "1165f4e6",
   "metadata": {},
   "source": [
    "#### Sophisticated Cleaning of Neighbourhoods"
   ]
  },
  {
   "cell_type": "code",
   "execution_count": 16,
   "id": "d84b2993",
   "metadata": {},
   "outputs": [],
   "source": [
    "other_hoods = []\n",
    "for i in neighbourhood_counts.index:\n",
    "    if neighbourhood_counts[i] < 150:\n",
    "        other_hoods.append(i)         \n",
    "    \n",
    "def clean_hoods(row):\n",
    "    if row.loc['neighbourhood_cleansed'] in other_hoods or row.loc['neighbourhood_cleansed'] in test_only_hoods:\n",
    "        row['neighbourhood_grouped'] = 'Other'\n",
    "        \n",
    "    else:    \n",
    "        row['neighbourhood_grouped'] = row.loc['neighbourhood_cleansed']\n",
    "        \n",
    "    return row\n",
    "       "
   ]
  },
  {
   "cell_type": "code",
   "execution_count": 17,
   "id": "55db4d19",
   "metadata": {},
   "outputs": [],
   "source": [
    "train_clean = train_clean.apply(clean_hoods, axis=1)  "
   ]
  },
  {
   "cell_type": "code",
   "execution_count": 18,
   "id": "0fd86c61",
   "metadata": {},
   "outputs": [],
   "source": [
    "hood_df = pd.DataFrame()\n",
    "hood_df.index = train_clean['neighbourhood_grouped'].unique()"
   ]
  },
  {
   "cell_type": "code",
   "execution_count": 19,
   "id": "f8bd78e2",
   "metadata": {},
   "outputs": [],
   "source": [
    "avail_hoods = train_clean['neighbourhood_grouped'].unique()\n",
    "\n",
    "def test_consistent_hoods(row):\n",
    "    if row not in avail_hoods:\n",
    "        row = 'Other'       \n",
    "    return row\n",
    "\n",
    "test_clean['neighbourhood_grouped'] = test_clean['neighbourhood_cleansed'].apply(test_consistent_hoods)\n",
    "# test_clean['neighbourhood_grouped'].value_counts()\n"
   ]
  },
  {
   "cell_type": "code",
   "execution_count": 20,
   "id": "2486c648",
   "metadata": {},
   "outputs": [],
   "source": [
    "grab_vars = ['host_id', 'host_listings_count', 'host_total_listings_count']\n",
    "\n",
    "train_filter_2 = train_clean.drop(columns=grab_vars)\n",
    "test_filter_2 = test_clean.drop(columns=grab_vars)\n"
   ]
  },
  {
   "cell_type": "code",
   "execution_count": 21,
   "id": "425b8b53",
   "metadata": {},
   "outputs": [
    {
     "name": "stderr",
     "output_type": "stream",
     "text": [
      "C:\\Users\\emmal\\AppData\\Local\\Temp\\ipykernel_35000\\162466571.py:13: FutureWarning: The default value of numeric_only in DataFrame.corr is deprecated. In a future version, it will default to False. Select only valid columns or specify the value of numeric_only to silence this warning.\n",
      "  review_corrs = train_final[review_vars].corr()\n"
     ]
    }
   ],
   "source": [
    "temp_data_train = train_filter_2.dropna(how='any')\n",
    "\n",
    "for col in temp_data_train.select_dtypes(include='number').columns:\n",
    "    if train_filter_2.isna().sum()[col] != 0:\n",
    "        train_filter_2[col].fillna(value=train_filter_2[col].median(), inplace=True) \n",
    "\n",
    "train_final = train_filter_2.copy()\n",
    "\n",
    "value_counts = train_final.isna().sum()\n",
    "value_counts[value_counts != 0]\n",
    "\n",
    "review_vars = [name for name in train_final.columns if 'review' in name]\n",
    "review_corrs = train_final[review_vars].corr()\n",
    "# review_corrs[(review_corrs != 1.0) & (review_corrs > 0.7)]\n"
   ]
  },
  {
   "cell_type": "code",
   "execution_count": 22,
   "id": "121e8f85",
   "metadata": {},
   "outputs": [],
   "source": [
    "temp_data_test = test_filter_2.dropna(how='any')\n",
    "\n",
    "for col in temp_data_test.select_dtypes(include='number').columns:\n",
    "    if test_filter_2.isna().sum()[col] != 0:\n",
    "        test_filter_2[col].fillna(value=test_filter_2[col].median(), inplace=True)  \n",
    "\n",
    "test_final = test_filter_2.copy()\n"
   ]
  },
  {
   "cell_type": "code",
   "execution_count": 23,
   "id": "c2612b23",
   "metadata": {},
   "outputs": [],
   "source": [
    "train_final['accommodates_bins'], bins = pd.cut(train_final['accommodates'], retbins=True, bins=6)\n",
    "test_final['accommodates_bins'] = pd.cut(test['accommodates'], bins=bins)\n"
   ]
  },
  {
   "cell_type": "code",
   "execution_count": 24,
   "id": "c2387336",
   "metadata": {},
   "outputs": [],
   "source": [
    "train_final['latitude_bins'], lat_bins = pd.cut(train_final['latitude'], retbins=True, bins=12)\n",
    "train_final['longitude_bins'], long_bins = pd.cut(train_final['longitude'], retbins=True, bins=12)\n",
    "\n",
    "test_final['latitude_bins'] = pd.cut(test['accommodates'], bins=lat_bins)\n",
    "test_final['longitude_bins'] = pd.cut(test['accommodates'], bins=long_bins)\n"
   ]
  },
  {
   "cell_type": "code",
   "execution_count": 25,
   "id": "f8675c7e",
   "metadata": {},
   "outputs": [],
   "source": [
    "train_final['accommodates_root'] = np.sqrt(train_final['accommodates'])\n",
    "test_final['accommodates_root'] = np.sqrt(test_final['accommodates'])"
   ]
  },
  {
   "cell_type": "markdown",
   "id": "4e59b76a",
   "metadata": {},
   "source": [
    "## **Test Space**"
   ]
  },
  {
   "cell_type": "code",
   "execution_count": 26,
   "id": "e7cfeab3",
   "metadata": {},
   "outputs": [],
   "source": [
    "# non_us = ['Italy', 'Tulum, Mexico', 'Toronto, Canada', 'United Kingdom', 'Cartagena, Colombia']\n",
    "# non_us.append('United States')\n",
    "\n",
    "# host_locals_count = train_final['host_location'].value_counts() #.drop(non_us)\n",
    "# major_host_locals = host_locals_count[host_locals_count < 3]\n",
    "# major_host_locals = list(major_host_locals.index)\n",
    "\n",
    "# temp_host_data = train_final[~train_final['host_location'].isin(non_us)]\n",
    "# # temp_host_data = temp_host_data[temp_host_data['host_location'] != 'Chicago, IL']\n",
    "\n",
    "# print(temp_host_data['latitude'].max(), temp_host_data['latitude'].min(), temp_host_data['longitude'].max(), temp_host_data['longitude'].min())\n",
    "\n",
    "# max_diff = max([temp_host_data['latitude'].max()-temp_host_data['latitude'].min(), temp_host_data['longitude'].min()-temp_host_data['longitude'].max()])\n",
    "# print(max_diff)\n",
    "# max_diff_half = max_diff/2\n",
    "\n",
    "\n",
    "\n",
    "\n"
   ]
  },
  {
   "cell_type": "code",
   "execution_count": 27,
   "id": "9de7b443",
   "metadata": {},
   "outputs": [
    {
     "data": {
      "text/plain": [
       "<Axes: xlabel='neighbourhood_grouped', ylabel='host_is_superhost'>"
      ]
     },
     "execution_count": 27,
     "metadata": {},
     "output_type": "execute_result"
    },
    {
     "data": {
      "image/png": "[encoded data removed]",
      "text/plain": [
       "<Figure size 640x480 with 1 Axes>"
      ]
     },
     "metadata": {},
     "output_type": "display_data"
    }
   ],
   "source": [
    "sns.barplot(data=train_final, x='neighbourhood_grouped', y='host_is_superhost')"
   ]
  },
  {
   "cell_type": "markdown",
   "id": "b7b90e9a",
   "metadata": {},
   "source": [
    "### Function to evaluate model"
   ]
  },
  {
   "cell_type": "code",
   "execution_count": 28,
   "id": "76e63781",
   "metadata": {},
   "outputs": [],
   "source": [
    "def evaluate_model(train_final, formula, last_rmse, last_mae, best_rmse, best_mae, best_diff, best_rmse_formula, best_mae_formula):\n",
    "    try:\n",
    "        model = smf.ols(formula=formula, data=train_final).fit()\n",
    "        trying_pred = model.predict(train_final)\n",
    "        trying_pred = np.exp(trying_pred)\n",
    "        rmse = mean_squared_error(train_final['price'], trying_pred, squared=False)\n",
    "        mae = mean_absolute_error(train_final['price'], trying_pred)\n",
    "        mae_rmse_diff = rmse - mae \n",
    "\n",
    "        difference_rmse = (rmse - last_rmse)\n",
    "        difference_mae = (mae - last_mae)   \n",
    "\n",
    "        if difference_rmse > 0:\n",
    "            print(f'''RMSE: {round(rmse, 3)}\\nMAE: {round(mae, 3)}\\nDiff: {mae_rmse_diff}\\n''')\n",
    "            print(f\"RMSE Increase by {difference_rmse}\")\n",
    "\n",
    "        elif difference_rmse < 0:\n",
    "            print(f'''RMSE: {round(rmse, 3)}\\nMAE: {round(mae, 3)}\\nDiff: {mae_rmse_diff}\\n''')\n",
    "            print(f\"RMSE Decreased: {difference_rmse}\")\n",
    "        else: \n",
    "            print(f'''\\t- No change -\\nRMSE: {round(rmse, 3)}\\nMAE: {round(mae, 3)}\\nDiff: {mae_rmse_diff}\\n''')\n",
    "\n",
    "        if rmse <= best_rmse:\n",
    "            best_rmse = rmse\n",
    "            best_rmse_formula = formula\n",
    "            print(f\"Best RMSE!\")\n",
    "\n",
    "        if mae <= best_mae:\n",
    "            best_mae = mae\n",
    "            best_mae_formula = formula\n",
    "            print(f\"Best MAE!\")    \n",
    "\n",
    "        if mae_rmse_diff <= best_diff:\n",
    "            best_diff = mae_rmse_diff\n",
    "            print(f\"Best Diff!\\t {best_diff}\")\n",
    "\n",
    "        print(f\"\\nlast rmse {last_rmse}; last mae {last_mae}\")    \n",
    "        if best_rmse != rmse:\n",
    "            print(f\"Best RMSE {best_rmse}; Best MAE {best_mae}\")    \n",
    "\n",
    "        last_rmse = rmse\n",
    "        last_mae = mae    \n",
    "\n",
    "    except Exception as e:\n",
    "        print(\"An error occurred:\", e)\n",
    "    "
   ]
  },
  {
   "cell_type": "code",
   "execution_count": 29,
   "id": "63ab2f51",
   "metadata": {},
   "outputs": [
    {
     "data": {
      "text/plain": [
       "Index(['id', 'host_id', 'host_since', 'host_location', 'host_response_time',\n",
       "       'host_is_superhost', 'host_neighbourhood', 'host_listings_count',\n",
       "       'host_total_listings_count', 'host_verifications',\n",
       "       'host_has_profile_pic', 'host_identity_verified',\n",
       "       'neighbourhood_cleansed', 'latitude', 'longitude', 'property_type',\n",
       "       'room_type', 'accommodates', 'bathrooms_text', 'beds', 'minimum_nights',\n",
       "       'maximum_nights', 'minimum_minimum_nights', 'maximum_minimum_nights',\n",
       "       'minimum_maximum_nights', 'maximum_maximum_nights',\n",
       "       'minimum_nights_avg_ntm', 'maximum_nights_avg_ntm', 'has_availability',\n",
       "       'availability_30', 'availability_60', 'availability_90',\n",
       "       'availability_365', 'number_of_reviews', 'number_of_reviews_ltm',\n",
       "       'number_of_reviews_l30d', 'first_review', 'last_review',\n",
       "       'review_scores_rating', 'review_scores_accuracy',\n",
       "       'review_scores_cleanliness', 'review_scores_checkin',\n",
       "       'review_scores_communication', 'review_scores_location',\n",
       "       'review_scores_value', 'instant_bookable',\n",
       "       'calculated_host_listings_count',\n",
       "       'calculated_host_listings_count_entire_homes',\n",
       "       'calculated_host_listings_count_private_rooms',\n",
       "       'calculated_host_listings_count_shared_rooms', 'reviews_per_month',\n",
       "       'acceptance_rate', 'response_rate', 'response_time', 'host_since_year',\n",
       "       'host_since_month', 'host_since_day', 'first_review_year',\n",
       "       'first_review_month', 'first_review_day', 'last_review_year',\n",
       "       'last_review_month', 'last_review_day', 'host_since_in_months',\n",
       "       'first_review_in_months', 'last_review_in_months',\n",
       "       'host_verifications_list', 'num_verifications', 'phone_verification',\n",
       "       'email_verification', 'work_email_verification',\n",
       "       'any_email_verification', 'max_nights_cats', 'reviews_per_listing',\n",
       "       'reviews_per_listing_per_month', 'neighbourhood_grouped'],\n",
       "      dtype='object')"
      ]
     },
     "execution_count": 29,
     "metadata": {},
     "output_type": "execute_result"
    }
   ],
   "source": [
    "train_clean.columns"
   ]
  },
  {
   "cell_type": "code",
   "execution_count": 42,
   "id": "d9280469",
   "metadata": {},
   "outputs": [
    {
     "name": "stdout",
     "output_type": "stream",
     "text": [
      "Optimization terminated successfully.\n",
      "         Current function value: 0.505834\n",
      "         Iterations 12\n"
     ]
    },
    {
     "data": {
      "text/html": [
       "<table class=\"simpletable\">\n",
       "<caption>Logit Regression Results</caption>\n",
       "<tr>\n",
       "  <th>Dep. Variable:</th>   <td>host_is_superhost</td> <th>  No. Observations:  </th>   <td>  3653</td>  \n",
       "</tr>\n",
       "<tr>\n",
       "  <th>Model:</th>                 <td>Logit</td>       <th>  Df Residuals:      </th>   <td>  3627</td>  \n",
       "</tr>\n",
       "<tr>\n",
       "  <th>Method:</th>                 <td>MLE</td>        <th>  Df Model:          </th>   <td>    25</td>  \n",
       "</tr>\n",
       "<tr>\n",
       "  <th>Date:</th>            <td>Sun, 25 Feb 2024</td>  <th>  Pseudo R-squ.:     </th>   <td>0.2667</td>  \n",
       "</tr>\n",
       "<tr>\n",
       "  <th>Time:</th>                <td>20:40:34</td>      <th>  Log-Likelihood:    </th>  <td> -1847.8</td> \n",
       "</tr>\n",
       "<tr>\n",
       "  <th>converged:</th>             <td>True</td>        <th>  LL-Null:           </th>  <td> -2519.8</td> \n",
       "</tr>\n",
       "<tr>\n",
       "  <th>Covariance Type:</th>     <td>nonrobust</td>     <th>  LLR p-value:       </th> <td>3.449e-268</td>\n",
       "</tr>\n",
       "</table>\n",
       "<table class=\"simpletable\">\n",
       "<tr>\n",
       "                                   <td></td>                                      <th>coef</th>     <th>std err</th>      <th>z</th>      <th>P>|z|</th>  <th>[0.025</th>    <th>0.975]</th>  \n",
       "</tr>\n",
       "<tr>\n",
       "  <th>Intercept</th>                                                           <td>    0.9083</td> <td>    3.381</td> <td>    0.269</td> <td> 0.788</td> <td>   -5.718</td> <td>    7.535</td>\n",
       "</tr>\n",
       "<tr>\n",
       "  <th>C(neighbourhood_grouped, Treatment('West Town'))[T.Lake View]</th>       <td>    0.4684</td> <td>    0.194</td> <td>    2.409</td> <td> 0.016</td> <td>    0.087</td> <td>    0.850</td>\n",
       "</tr>\n",
       "<tr>\n",
       "  <th>C(neighbourhood_grouped, Treatment('West Town'))[T.Lincoln Park]</th>    <td>    0.5627</td> <td>    0.249</td> <td>    2.256</td> <td> 0.024</td> <td>    0.074</td> <td>    1.052</td>\n",
       "</tr>\n",
       "<tr>\n",
       "  <th>C(neighbourhood_grouped, Treatment('West Town'))[T.Logan Square]</th>    <td>   -0.1606</td> <td>    0.207</td> <td>   -0.775</td> <td> 0.438</td> <td>   -0.567</td> <td>    0.245</td>\n",
       "</tr>\n",
       "<tr>\n",
       "  <th>C(neighbourhood_grouped, Treatment('West Town'))[T.Loop]</th>            <td>    0.6177</td> <td>    0.270</td> <td>    2.285</td> <td> 0.022</td> <td>    0.088</td> <td>    1.148</td>\n",
       "</tr>\n",
       "<tr>\n",
       "  <th>C(neighbourhood_grouped, Treatment('West Town'))[T.Near North Side]</th> <td>    0.0256</td> <td>    0.178</td> <td>    0.144</td> <td> 0.886</td> <td>   -0.324</td> <td>    0.375</td>\n",
       "</tr>\n",
       "<tr>\n",
       "  <th>C(neighbourhood_grouped, Treatment('West Town'))[T.Near South Side]</th> <td>    1.3268</td> <td>    0.270</td> <td>    4.914</td> <td> 0.000</td> <td>    0.798</td> <td>    1.856</td>\n",
       "</tr>\n",
       "<tr>\n",
       "  <th>C(neighbourhood_grouped, Treatment('West Town'))[T.Near West Side]</th>  <td>    0.2208</td> <td>    0.218</td> <td>    1.015</td> <td> 0.310</td> <td>   -0.206</td> <td>    0.647</td>\n",
       "</tr>\n",
       "<tr>\n",
       "  <th>C(neighbourhood_grouped, Treatment('West Town'))[T.Other]</th>           <td>    0.0536</td> <td>    0.132</td> <td>    0.408</td> <td> 0.684</td> <td>   -0.204</td> <td>    0.312</td>\n",
       "</tr>\n",
       "<tr>\n",
       "  <th>host_total_listings_count</th>                                           <td>   -0.0038</td> <td>    0.002</td> <td>   -2.304</td> <td> 0.021</td> <td>   -0.007</td> <td>   -0.001</td>\n",
       "</tr>\n",
       "<tr>\n",
       "  <th>number_of_reviews_ltm</th>                                               <td>   -0.0648</td> <td>    0.059</td> <td>   -1.100</td> <td> 0.271</td> <td>   -0.180</td> <td>    0.051</td>\n",
       "</tr>\n",
       "<tr>\n",
       "  <th>host_total_listings_count:number_of_reviews_ltm</th>                     <td>   -0.0005</td> <td> 8.66e-05</td> <td>   -6.067</td> <td> 0.000</td> <td>   -0.001</td> <td>   -0.000</td>\n",
       "</tr>\n",
       "<tr>\n",
       "  <th>response_rate</th>                                                       <td>   -0.2908</td> <td>    0.877</td> <td>   -0.332</td> <td> 0.740</td> <td>   -2.009</td> <td>    1.428</td>\n",
       "</tr>\n",
       "<tr>\n",
       "  <th>number_of_reviews_ltm:response_rate</th>                                 <td>    0.2181</td> <td>    0.040</td> <td>    5.480</td> <td> 0.000</td> <td>    0.140</td> <td>    0.296</td>\n",
       "</tr>\n",
       "<tr>\n",
       "  <th>acceptance_rate</th>                                                     <td>    1.7909</td> <td>    0.375</td> <td>    4.779</td> <td> 0.000</td> <td>    1.056</td> <td>    2.525</td>\n",
       "</tr>\n",
       "<tr>\n",
       "  <th>acceptance_rate:number_of_reviews_ltm</th>                               <td>   -0.1164</td> <td>    0.043</td> <td>   -2.690</td> <td> 0.007</td> <td>   -0.201</td> <td>   -0.032</td>\n",
       "</tr>\n",
       "<tr>\n",
       "  <th>review_scores_cleanliness</th>                                           <td>   -1.7598</td> <td>    1.294</td> <td>   -1.360</td> <td> 0.174</td> <td>   -4.296</td> <td>    0.776</td>\n",
       "</tr>\n",
       "<tr>\n",
       "  <th>I(review_scores_cleanliness ** 3)</th>                                   <td>    0.0533</td> <td>    0.021</td> <td>    2.494</td> <td> 0.013</td> <td>    0.011</td> <td>    0.095</td>\n",
       "</tr>\n",
       "<tr>\n",
       "  <th>availability_90</th>                                                     <td>   -0.0013</td> <td>    0.001</td> <td>   -1.117</td> <td> 0.264</td> <td>   -0.004</td> <td>    0.001</td>\n",
       "</tr>\n",
       "<tr>\n",
       "  <th>host_since_in_months</th>                                                <td>    0.0057</td> <td>    0.001</td> <td>    5.329</td> <td> 0.000</td> <td>    0.004</td> <td>    0.008</td>\n",
       "</tr>\n",
       "<tr>\n",
       "  <th>host_since_in_months:host_total_listings_count</th>                      <td> 3.023e-05</td> <td> 1.28e-05</td> <td>    2.366</td> <td> 0.018</td> <td> 5.18e-06</td> <td> 5.53e-05</td>\n",
       "</tr>\n",
       "<tr>\n",
       "  <th>response_time</th>                                                       <td>   -0.0332</td> <td>    0.008</td> <td>   -4.160</td> <td> 0.000</td> <td>   -0.049</td> <td>   -0.018</td>\n",
       "</tr>\n",
       "<tr>\n",
       "  <th>review_scores_communication</th>                                         <td>   -2.0151</td> <td>    1.199</td> <td>   -1.681</td> <td> 0.093</td> <td>   -4.365</td> <td>    0.335</td>\n",
       "</tr>\n",
       "<tr>\n",
       "  <th>review_scores_checkin</th>                                               <td>   -4.7752</td> <td>    1.302</td> <td>   -3.668</td> <td> 0.000</td> <td>   -7.327</td> <td>   -2.224</td>\n",
       "</tr>\n",
       "<tr>\n",
       "  <th>review_scores_communication:review_scores_checkin</th>                   <td>    0.8904</td> <td>    0.266</td> <td>    3.344</td> <td> 0.001</td> <td>    0.369</td> <td>    1.412</td>\n",
       "</tr>\n",
       "<tr>\n",
       "  <th>review_scores_rating</th>                                                <td>    2.3733</td> <td>    0.351</td> <td>    6.758</td> <td> 0.000</td> <td>    1.685</td> <td>    3.062</td>\n",
       "</tr>\n",
       "</table>"
      ],
      "text/latex": [
       "\\begin{center}\n",
       "\\begin{tabular}{lclc}\n",
       "\\toprule\n",
       "\\textbf{Dep. Variable:}                                                       & host\\_is\\_superhost & \\textbf{  No. Observations:  } &     3653    \\\\\n",
       "\\textbf{Model:}                                                               &        Logit        & \\textbf{  Df Residuals:      } &     3627    \\\\\n",
       "\\textbf{Method:}                                                              &         MLE         & \\textbf{  Df Model:          } &       25    \\\\\n",
       "\\textbf{Date:}                                                                &   Sun, 25 Feb 2024  & \\textbf{  Pseudo R-squ.:     } &   0.2667    \\\\\n",
       "\\textbf{Time:}                                                                &       20:40:34      & \\textbf{  Log-Likelihood:    } &   -1847.8   \\\\\n",
       "\\textbf{converged:}                                                           &         True        & \\textbf{  LL-Null:           } &   -2519.8   \\\\\n",
       "\\textbf{Covariance Type:}                                                     &      nonrobust      & \\textbf{  LLR p-value:       } & 3.449e-268  \\\\\n",
       "\\bottomrule\n",
       "\\end{tabular}\n",
       "\\begin{tabular}{lcccccc}\n",
       "                                                                              & \\textbf{coef} & \\textbf{std err} & \\textbf{z} & \\textbf{P$> |$z$|$} & \\textbf{[0.025} & \\textbf{0.975]}  \\\\\n",
       "\\midrule\n",
       "\\textbf{Intercept}                                                            &       0.9083  &        3.381     &     0.269  &         0.788        &       -5.718    &        7.535     \\\\\n",
       "\\textbf{C(neighbourhood\\_grouped, Treatment('West Town'))[T.Lake View]}       &       0.4684  &        0.194     &     2.409  &         0.016        &        0.087    &        0.850     \\\\\n",
       "\\textbf{C(neighbourhood\\_grouped, Treatment('West Town'))[T.Lincoln Park]}    &       0.5627  &        0.249     &     2.256  &         0.024        &        0.074    &        1.052     \\\\\n",
       "\\textbf{C(neighbourhood\\_grouped, Treatment('West Town'))[T.Logan Square]}    &      -0.1606  &        0.207     &    -0.775  &         0.438        &       -0.567    &        0.245     \\\\\n",
       "\\textbf{C(neighbourhood\\_grouped, Treatment('West Town'))[T.Loop]}            &       0.6177  &        0.270     &     2.285  &         0.022        &        0.088    &        1.148     \\\\\n",
       "\\textbf{C(neighbourhood\\_grouped, Treatment('West Town'))[T.Near North Side]} &       0.0256  &        0.178     &     0.144  &         0.886        &       -0.324    &        0.375     \\\\\n",
       "\\textbf{C(neighbourhood\\_grouped, Treatment('West Town'))[T.Near South Side]} &       1.3268  &        0.270     &     4.914  &         0.000        &        0.798    &        1.856     \\\\\n",
       "\\textbf{C(neighbourhood\\_grouped, Treatment('West Town'))[T.Near West Side]}  &       0.2208  &        0.218     &     1.015  &         0.310        &       -0.206    &        0.647     \\\\\n",
       "\\textbf{C(neighbourhood\\_grouped, Treatment('West Town'))[T.Other]}           &       0.0536  &        0.132     &     0.408  &         0.684        &       -0.204    &        0.312     \\\\\n",
       "\\textbf{host\\_total\\_listings\\_count}                                         &      -0.0038  &        0.002     &    -2.304  &         0.021        &       -0.007    &       -0.001     \\\\\n",
       "\\textbf{number\\_of\\_reviews\\_ltm}                                             &      -0.0648  &        0.059     &    -1.100  &         0.271        &       -0.180    &        0.051     \\\\\n",
       "\\textbf{host\\_total\\_listings\\_count:number\\_of\\_reviews\\_ltm}                &      -0.0005  &     8.66e-05     &    -6.067  &         0.000        &       -0.001    &       -0.000     \\\\\n",
       "\\textbf{response\\_rate}                                                       &      -0.2908  &        0.877     &    -0.332  &         0.740        &       -2.009    &        1.428     \\\\\n",
       "\\textbf{number\\_of\\_reviews\\_ltm:response\\_rate}                              &       0.2181  &        0.040     &     5.480  &         0.000        &        0.140    &        0.296     \\\\\n",
       "\\textbf{acceptance\\_rate}                                                     &       1.7909  &        0.375     &     4.779  &         0.000        &        1.056    &        2.525     \\\\\n",
       "\\textbf{acceptance\\_rate:number\\_of\\_reviews\\_ltm}                            &      -0.1164  &        0.043     &    -2.690  &         0.007        &       -0.201    &       -0.032     \\\\\n",
       "\\textbf{review\\_scores\\_cleanliness}                                          &      -1.7598  &        1.294     &    -1.360  &         0.174        &       -4.296    &        0.776     \\\\\n",
       "\\textbf{I(review\\_scores\\_cleanliness ** 3)}                                  &       0.0533  &        0.021     &     2.494  &         0.013        &        0.011    &        0.095     \\\\\n",
       "\\textbf{availability\\_90}                                                     &      -0.0013  &        0.001     &    -1.117  &         0.264        &       -0.004    &        0.001     \\\\\n",
       "\\textbf{host\\_since\\_in\\_months}                                              &       0.0057  &        0.001     &     5.329  &         0.000        &        0.004    &        0.008     \\\\\n",
       "\\textbf{host\\_since\\_in\\_months:host\\_total\\_listings\\_count}                 &    3.023e-05  &     1.28e-05     &     2.366  &         0.018        &     5.18e-06    &     5.53e-05     \\\\\n",
       "\\textbf{response\\_time}                                                       &      -0.0332  &        0.008     &    -4.160  &         0.000        &       -0.049    &       -0.018     \\\\\n",
       "\\textbf{review\\_scores\\_communication}                                        &      -2.0151  &        1.199     &    -1.681  &         0.093        &       -4.365    &        0.335     \\\\\n",
       "\\textbf{review\\_scores\\_checkin}                                              &      -4.7752  &        1.302     &    -3.668  &         0.000        &       -7.327    &       -2.224     \\\\\n",
       "\\textbf{review\\_scores\\_communication:review\\_scores\\_checkin}                &       0.8904  &        0.266     &     3.344  &         0.001        &        0.369    &        1.412     \\\\\n",
       "\\textbf{review\\_scores\\_rating}                                               &       2.3733  &        0.351     &     6.758  &         0.000        &        1.685    &        3.062     \\\\\n",
       "\\bottomrule\n",
       "\\end{tabular}\n",
       "%\\caption{Logit Regression Results}\n",
       "\\end{center}"
      ],
      "text/plain": [
       "<class 'statsmodels.iolib.summary.Summary'>\n",
       "\"\"\"\n",
       "                           Logit Regression Results                           \n",
       "==============================================================================\n",
       "Dep. Variable:      host_is_superhost   No. Observations:                 3653\n",
       "Model:                          Logit   Df Residuals:                     3627\n",
       "Method:                           MLE   Df Model:                           25\n",
       "Date:                Sun, 25 Feb 2024   Pseudo R-squ.:                  0.2667\n",
       "Time:                        20:40:34   Log-Likelihood:                -1847.8\n",
       "converged:                       True   LL-Null:                       -2519.8\n",
       "Covariance Type:            nonrobust   LLR p-value:                3.449e-268\n",
       "=======================================================================================================================================\n",
       "                                                                          coef    std err          z      P>|z|      [0.025      0.975]\n",
       "---------------------------------------------------------------------------------------------------------------------------------------\n",
       "Intercept                                                               0.9083      3.381      0.269      0.788      -5.718       7.535\n",
       "C(neighbourhood_grouped, Treatment('West Town'))[T.Lake View]           0.4684      0.194      2.409      0.016       0.087       0.850\n",
       "C(neighbourhood_grouped, Treatment('West Town'))[T.Lincoln Park]        0.5627      0.249      2.256      0.024       0.074       1.052\n",
       "C(neighbourhood_grouped, Treatment('West Town'))[T.Logan Square]       -0.1606      0.207     -0.775      0.438      -0.567       0.245\n",
       "C(neighbourhood_grouped, Treatment('West Town'))[T.Loop]                0.6177      0.270      2.285      0.022       0.088       1.148\n",
       "C(neighbourhood_grouped, Treatment('West Town'))[T.Near North Side]     0.0256      0.178      0.144      0.886      -0.324       0.375\n",
       "C(neighbourhood_grouped, Treatment('West Town'))[T.Near South Side]     1.3268      0.270      4.914      0.000       0.798       1.856\n",
       "C(neighbourhood_grouped, Treatment('West Town'))[T.Near West Side]      0.2208      0.218      1.015      0.310      -0.206       0.647\n",
       "C(neighbourhood_grouped, Treatment('West Town'))[T.Other]               0.0536      0.132      0.408      0.684      -0.204       0.312\n",
       "host_total_listings_count                                              -0.0038      0.002     -2.304      0.021      -0.007      -0.001\n",
       "number_of_reviews_ltm                                                  -0.0648      0.059     -1.100      0.271      -0.180       0.051\n",
       "host_total_listings_count:number_of_reviews_ltm                        -0.0005   8.66e-05     -6.067      0.000      -0.001      -0.000\n",
       "response_rate                                                          -0.2908      0.877     -0.332      0.740      -2.009       1.428\n",
       "number_of_reviews_ltm:response_rate                                     0.2181      0.040      5.480      0.000       0.140       0.296\n",
       "acceptance_rate                                                         1.7909      0.375      4.779      0.000       1.056       2.525\n",
       "acceptance_rate:number_of_reviews_ltm                                  -0.1164      0.043     -2.690      0.007      -0.201      -0.032\n",
       "review_scores_cleanliness                                              -1.7598      1.294     -1.360      0.174      -4.296       0.776\n",
       "I(review_scores_cleanliness ** 3)                                       0.0533      0.021      2.494      0.013       0.011       0.095\n",
       "availability_90                                                        -0.0013      0.001     -1.117      0.264      -0.004       0.001\n",
       "host_since_in_months                                                    0.0057      0.001      5.329      0.000       0.004       0.008\n",
       "host_since_in_months:host_total_listings_count                       3.023e-05   1.28e-05      2.366      0.018    5.18e-06    5.53e-05\n",
       "response_time                                                          -0.0332      0.008     -4.160      0.000      -0.049      -0.018\n",
       "review_scores_communication                                            -2.0151      1.199     -1.681      0.093      -4.365       0.335\n",
       "review_scores_checkin                                                  -4.7752      1.302     -3.668      0.000      -7.327      -2.224\n",
       "review_scores_communication:review_scores_checkin                       0.8904      0.266      3.344      0.001       0.369       1.412\n",
       "review_scores_rating                                                    2.3733      0.351      6.758      0.000       1.685       3.062\n",
       "=======================================================================================================================================\n",
       "\"\"\""
      ]
     },
     "execution_count": 42,
     "metadata": {},
     "output_type": "execute_result"
    }
   ],
   "source": [
    "formula= '''host_is_superhost ~ host_total_listings_count*number_of_reviews_ltm + \n",
    "number_of_reviews_ltm*response_rate + acceptance_rate*number_of_reviews_ltm +\n",
    "review_scores_cleanliness + I(review_scores_cleanliness**3) + \n",
    "availability_90 + C(neighbourhood_grouped, Treatment('West Town')) + \n",
    "host_since_in_months*host_total_listings_count + response_time + review_scores_communication*review_scores_checkin + review_scores_rating'''\n",
    "\n",
    "# host_since_months*number_of_reviews_ltm\n",
    "\n",
    "model = smf.logit(formula=formula, data=train_clean).fit()\n",
    "\n",
    "model.summary()"
   ]
  },
  {
   "cell_type": "code",
   "execution_count": 43,
   "id": "8a5c30c4",
   "metadata": {},
   "outputs": [
    {
     "name": "stdout",
     "output_type": "stream",
     "text": [
      "Fold: 1, Train set: 996\n",
      "Fold: 2, Train set: 996\n",
      "Fold: 3, Train set: 995\n",
      "Fold: 4, Train set: 995\n",
      "Fold: 5, Train set: 995\n",
      "0.5708114871546487 96\n"
     ]
    },
    {
     "data": {
      "text/plain": [
       "(0.5708114871546487, 0.592, 96)"
      ]
     },
     "execution_count": 43,
     "metadata": {},
     "output_type": "execute_result"
    }
   ],
   "source": [
    "def get_acc(thresholds, model, df):\n",
    "    y_pred_prob = np.array(model.predict(df))\n",
    "    y_pred = y_pred_prob > thresholds[:, np.newaxis]\n",
    "    y_true = df['host_is_superhost'].values\n",
    "    y_true_reshaped = np.repeat(y_true[:, np.newaxis], len(y_true), axis=1)\n",
    "    \n",
    "    accuracies = []\n",
    "\n",
    "    # Iterate over the rows of both arrays\n",
    "    for row1, row2 in zip(y_true_reshaped, y_pred):\n",
    "        acc = accuracy_score(row1, row2)\n",
    "        accuracies.append(acc)\n",
    "    \n",
    "    max_acc_index = np.argmax(accuracies)\n",
    "    max_acc = accuracies[max_acc_index]\n",
    "    max_acc_threshold = thresholds[max_acc_index]\n",
    "    \n",
    "    return max_acc, max_acc_threshold, max_acc_index, accuracies\n",
    "\n",
    "\n",
    "\n",
    "\n",
    "\n",
    "thresholds_a = np.linspace(0.4, 0.6, num=101)\n",
    "\n",
    "\n",
    "\n",
    "from sklearn.model_selection import KFold \n",
    "\n",
    "folds = 5\n",
    "\n",
    "df = train_clean.copy()\n",
    "\n",
    "\n",
    "kf =KFold(n_splits=5, shuffle=True, random_state=42)\n",
    "fold_indices = []\n",
    "\n",
    "cnt = 1\n",
    "acc_dict = {}\n",
    "\n",
    "for test, train_index in kf.split(train_clean):\n",
    "    fold_indices.append(train_index)\n",
    "    print(f'Fold: {cnt}, Train set: {len(train_index)}')\n",
    "    \n",
    "    temp_data = train_clean.iloc[train_index, :]\n",
    "    max_acc, max_acc_threshold, max_acc_index, accuracy_matrix = get_acc(thresholds_a, model, temp_data)\n",
    "    \n",
    "    acc_dict[cnt] = accuracy_matrix\n",
    "    \n",
    "    cnt += 1\n",
    "\n",
    "\n",
    "# print(acc_dict)\n",
    "\n",
    "thresh_dict = {}\n",
    "    \n",
    "for thresh_idx, thresh in enumerate(acc_dict[1]):  # each of the thresholds\n",
    "    thresh_dict[thresh_idx] = []\n",
    "    \n",
    "    for fold in range(1, len(acc_dict.keys())+1):\n",
    "        curr_acc = acc_dict[fold][thresh_idx]\n",
    "    \n",
    "        thresh_dict[thresh_idx].append(curr_acc)\n",
    "\n",
    "\n",
    "\n",
    "\n",
    "mean_accs = []\n",
    "for key in thresh_dict.keys():\n",
    "    mean_accs.append(np.mean(thresh_dict[key]))\n",
    "\n",
    "\n",
    "print(max(mean_accs), np.argmax(mean_accs))\n",
    "\n",
    "\n",
    "max_acc_a, max_acc_threshold_a, max_acc_idx_a = max(mean_accs), thresholds_a[np.argmax(mean_accs)], np.argmax(mean_accs)\n",
    "max_acc_a, max_acc_threshold_a, max_acc_idx_a\n"
   ]
  },
  {
   "cell_type": "code",
   "execution_count": 44,
   "id": "978b3e26",
   "metadata": {},
   "outputs": [
    {
     "name": "stdout",
     "output_type": "stream",
     "text": [
      "0.59 0.594\n",
      "4977\n",
      "995.4\n",
      "Fold: 1, Train set: 996\n",
      "Fold: 2, Train set: 996\n",
      "Fold: 3, Train set: 995\n",
      "Fold: 4, Train set: 995\n",
      "Fold: 5, Train set: 995\n",
      "0.6124195273556537 45\n"
     ]
    },
    {
     "data": {
      "text/plain": [
       "0.5918"
      ]
     },
     "execution_count": 44,
     "metadata": {},
     "output_type": "execute_result"
    }
   ],
   "source": [
    "thresholds_b = np.linspace(thresholds_a[max_acc_idx_a-1], thresholds_a[max_acc_idx_a+1], num=101)\n",
    "print(thresholds_a[max_acc_idx_a-1], thresholds_a[max_acc_idx_a+1])\n",
    "\n",
    "\n",
    "from sklearn.model_selection import KFold \n",
    "\n",
    "folds = 5\n",
    "\n",
    "df = train_clean.copy()\n",
    "print(len(df))\n",
    "print(len(df)/5)\n",
    "\n",
    "\n",
    "\n",
    "kf = KFold(n_splits=5, shuffle=True, random_state=42)\n",
    "fold_indices_b = []\n",
    "\n",
    "cnt = 1\n",
    "acc_dict_b = {}\n",
    "\n",
    "for test, train_index in kf.split(train_clean):\n",
    "    fold_indices_b.append(train_index)\n",
    "    print(f'Fold: {cnt}, Train set: {len(train_index)}')\n",
    "    \n",
    "    temp_data = train_clean.iloc[train_index, :]\n",
    "    max_acc, max_acc_threshold, max_acc_index, accuracy_matrix = get_acc(thresholds_b, model, temp_data)\n",
    "    \n",
    "    acc_dict_b[cnt] = accuracy_matrix\n",
    "    \n",
    "    cnt += 1\n",
    "\n",
    "\n",
    "\n",
    "thresh_dict_b = {}\n",
    "    \n",
    "for thresh_idx, thresh in enumerate(acc_dict_b[1]):  # each of the thresholds\n",
    "    thresh_dict_b[thresh_idx] = []\n",
    "    \n",
    "    for fold in range(1, len(acc_dict.keys())+1):\n",
    "        curr_acc = acc_dict_b[fold][thresh_idx]\n",
    "    \n",
    "        thresh_dict_b[thresh_idx].append(curr_acc)\n",
    "\n",
    "\n",
    "\n",
    "\n",
    "mean_accs_b = []\n",
    "for key in thresh_dict_b.keys():\n",
    "    mean_accs_b.append(np.mean(thresh_dict_b[key]))\n",
    "\n",
    "\n",
    "print(max(mean_accs_b), np.argmax(mean_accs_b))\n",
    "\n",
    "\n",
    "optimal_threshold = thresholds_b[np.argmax(mean_accs_b)]\n",
    "optimal_threshold\n",
    "\n",
    "# max_acc_a, max_acc_threshold_a, max_acc_idx_a, _ = get_acc(thresholds_a, model, train_clean)\n",
    "\n",
    "# max_acc_a, max_acc_threshold_a, max_acc_idx_a"
   ]
  },
  {
   "cell_type": "code",
   "execution_count": 33,
   "id": "ad209792",
   "metadata": {},
   "outputs": [
    {
     "ename": "NameError",
     "evalue": "name 'max_acc_threshold_b' is not defined",
     "output_type": "error",
     "traceback": [
      "\u001b[1;31m---------------------------------------------------------------------------\u001b[0m",
      "\u001b[1;31mNameError\u001b[0m                                 Traceback (most recent call last)",
      "Cell \u001b[1;32mIn[33], line 1\u001b[0m\n\u001b[1;32m----> 1\u001b[0m \u001b[38;5;28mprint\u001b[39m(\u001b[38;5;124mf\u001b[39m\u001b[38;5;124m'\u001b[39m\u001b[38;5;124mOptimal Threshold: \u001b[39m\u001b[38;5;132;01m{\u001b[39;00mmax_acc_threshold_b\u001b[38;5;132;01m}\u001b[39;00m\u001b[38;5;130;01m\\t\u001b[39;00m\u001b[38;5;124mIndex: \u001b[39m\u001b[38;5;132;01m{\u001b[39;00mmax_acc_idx_a\u001b[38;5;132;01m}\u001b[39;00m\u001b[38;5;124m'\u001b[39m)\n",
      "\u001b[1;31mNameError\u001b[0m: name 'max_acc_threshold_b' is not defined"
     ]
    }
   ],
   "source": [
    "# print(f'Optimal Threshold: {max_acc_threshold_b}\\tIndex: {max_acc_idx_a}')"
   ]
  },
  {
   "cell_type": "code",
   "execution_count": null,
   "id": "1b351320",
   "metadata": {},
   "outputs": [],
   "source": []
  },
  {
   "cell_type": "code",
   "execution_count": 45,
   "id": "769a247f",
   "metadata": {
    "scrolled": true
   },
   "outputs": [
    {
     "name": "stdout",
     "output_type": "stream",
     "text": [
      "0.5918\n",
      "False    3048\n",
      "True     1929\n",
      "dtype: int64\n",
      "76.71287924452481\n",
      "76.56817003628824 67.62820512820514\n"
     ]
    },
    {
     "data": {
      "text/plain": [
       "array([[2341,  452],\n",
       "       [ 707, 1477]], dtype=int64)"
      ]
     },
     "execution_count": 45,
     "metadata": {},
     "output_type": "execute_result"
    }
   ],
   "source": [
    "# optimal_threshold = max_acc_threshold_b\n",
    "print(optimal_threshold)\n",
    "\n",
    "y_pred = model.predict(train_clean) > optimal_threshold\n",
    "acc_score = accuracy_score(train_clean.host_is_superhost, y_pred)*100\n",
    "precision = precision_score(train_clean.host_is_superhost, y_pred)*100\n",
    "recall = recall_score(train_clean.host_is_superhost, y_pred)*100\n",
    "\n",
    "\n",
    "print(y_pred.value_counts())\n",
    "print(acc_score)\n",
    "print(precision, recall)\n",
    "\n",
    "confusion_matrix(train_clean.host_is_superhost, y_pred)"
   ]
  },
  {
   "cell_type": "code",
   "execution_count": 523,
   "id": "85b145a7",
   "metadata": {},
   "outputs": [],
   "source": [
    "# best_score = 75.9493670886076"
   ]
  },
  {
   "cell_type": "code",
   "execution_count": 46,
   "id": "1bd309ba",
   "metadata": {
    "scrolled": true
   },
   "outputs": [
    {
     "name": "stdout",
     "output_type": "stream",
     "text": [
      "76.71287924452481\n",
      "Improved by 0.32147880249145544\n",
      "(last acc_score 76.39140044203336)\n",
      "Precision: 76.56817003628824\tRecall: 67.62820512820514\n"
     ]
    }
   ],
   "source": [
    "acc_score = accuracy_score(train_clean.host_is_superhost, y_pred)*100\n",
    "precision = precision_score(train_clean.host_is_superhost, y_pred)*100\n",
    "recall = recall_score(train_clean.host_is_superhost, y_pred)*100\n",
    "\n",
    "\n",
    "try:\n",
    "    difference = (acc_score-last_acc_score)\n",
    "        \n",
    "    if difference > 0:\n",
    "        print(acc_score)\n",
    "        print(f\"Improved by {difference}\")\n",
    "        print(f\"(last acc_score {last_acc_score})\")\n",
    "            \n",
    "    elif difference < 0:\n",
    "        print(acc_score)\n",
    "        print(f\"Decreased: {difference}\")\n",
    "        print(f\"(last acc_score {last_acc_score})\") \n",
    "\n",
    "    else: \n",
    "        print(acc_score, \"(No change)\")\n",
    "        \n",
    "except:\n",
    "    print(acc_score)\n",
    "\n",
    "\n",
    "try:\n",
    "    if acc_score >= best_score:\n",
    "        best_score = acc_score\n",
    "        best_formula = formula\n",
    "\n",
    "        print(\"\\nBest Score!\\n\")\n",
    "except:\n",
    "    pass\n",
    "\n",
    "    \n",
    "# try:    \n",
    "#     print(f\"\\nBest Score: {best_score}\\tLast Score: {last_score}\")    \n",
    "# except:\n",
    "#     print(f\"\\nBest Score: {best_score}\")\n",
    "\n",
    "    \n",
    "print(f\"Precision: {precision}\\tRecall: {recall}\")\n",
    "    \n",
    "last_acc_score = acc_score "
   ]
  },
  {
   "cell_type": "code",
   "execution_count": 47,
   "id": "e1c72d7a",
   "metadata": {},
   "outputs": [],
   "source": [
    "test_pred = (model.predict(test_clean) > optimal_threshold).replace({False:0, True:1})\n",
    "\n",
    "overlapping_hosts = train_clean[train_clean['host_id'].isin(test_clean['host_id'])].drop_duplicates('host_id')[['host_id', 'host_is_superhost']]\n",
    "\n",
    "predicted_values = pd.concat([test_clean[['id', 'host_id']], test_pred.rename('predicted')], axis=1)\n",
    "\n",
    "\n",
    "def overwrite(row):\n",
    "    if row['host_id'] in overlapping_hosts['host_id'].values:\n",
    "        row['predicted'] = overlapping_hosts[overlapping_hosts['host_id'] == row['host_id']]['host_is_superhost'].values[0]\n",
    "    return row\n",
    "        \n",
    "          \n",
    "predicted_values = predicted_values.apply(overwrite, axis=1)\n",
    "predicted_values = predicted_values[['id', 'predicted']].set_index('id')\n",
    "\n",
    "# predicted_values.to_csv('classification_model_take_9.csv') "
   ]
  }
 ],
 "metadata": {
  "kernelspec": {
   "display_name": "Python 3 (ipykernel)",
   "language": "python",
   "name": "python3"
  },
  "language_info": {
   "codemirror_mode": {
    "name": "ipython",
    "version": 3
   },
   "file_extension": ".py",
   "mimetype": "text/x-python",
   "name": "python",
   "nbconvert_exporter": "python",
   "pygments_lexer": "ipython3",
   "version": "3.11.4"
  }
 },
 "nbformat": 4,
 "nbformat_minor": 5
}
